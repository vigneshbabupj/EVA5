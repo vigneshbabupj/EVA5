{
  "nbformat": 4,
  "nbformat_minor": 0,
  "metadata": {
    "colab": {
      "name": "EVa - Asgmt 6 - Base",
      "provenance": [],
      "collapsed_sections": []
    },
    "kernelspec": {
      "name": "python3",
      "display_name": "Python 3"
    },
    "accelerator": "GPU",
    "widgets": {
      "application/vnd.jupyter.widget-state+json": {
        "71813349ecd94c358073ea4e7faceaed": {
          "model_module": "@jupyter-widgets/controls",
          "model_name": "HBoxModel",
          "state": {
            "_view_name": "HBoxView",
            "_dom_classes": [],
            "_model_name": "HBoxModel",
            "_view_module": "@jupyter-widgets/controls",
            "_model_module_version": "1.5.0",
            "_view_count": null,
            "_view_module_version": "1.5.0",
            "box_style": "",
            "layout": "IPY_MODEL_da5ac7e4948b4ab8835de9d2eca8ed7a",
            "_model_module": "@jupyter-widgets/controls",
            "children": [
              "IPY_MODEL_39f3e3ce772f40c587759f712bc94c4a",
              "IPY_MODEL_eba64b494d7a47ef820f6a58f524ec3a"
            ]
          }
        },
        "da5ac7e4948b4ab8835de9d2eca8ed7a": {
          "model_module": "@jupyter-widgets/base",
          "model_name": "LayoutModel",
          "state": {
            "_view_name": "LayoutView",
            "grid_template_rows": null,
            "right": null,
            "justify_content": null,
            "_view_module": "@jupyter-widgets/base",
            "overflow": null,
            "_model_module_version": "1.2.0",
            "_view_count": null,
            "flex_flow": null,
            "width": null,
            "min_width": null,
            "border": null,
            "align_items": null,
            "bottom": null,
            "_model_module": "@jupyter-widgets/base",
            "top": null,
            "grid_column": null,
            "overflow_y": null,
            "overflow_x": null,
            "grid_auto_flow": null,
            "grid_area": null,
            "grid_template_columns": null,
            "flex": null,
            "_model_name": "LayoutModel",
            "justify_items": null,
            "grid_row": null,
            "max_height": null,
            "align_content": null,
            "visibility": null,
            "align_self": null,
            "height": null,
            "min_height": null,
            "padding": null,
            "grid_auto_rows": null,
            "grid_gap": null,
            "max_width": null,
            "order": null,
            "_view_module_version": "1.2.0",
            "grid_template_areas": null,
            "object_position": null,
            "object_fit": null,
            "grid_auto_columns": null,
            "margin": null,
            "display": null,
            "left": null
          }
        },
        "39f3e3ce772f40c587759f712bc94c4a": {
          "model_module": "@jupyter-widgets/controls",
          "model_name": "FloatProgressModel",
          "state": {
            "_view_name": "ProgressView",
            "style": "IPY_MODEL_4b1b83e172a146b18da59024476ad16c",
            "_dom_classes": [],
            "description": "",
            "_model_name": "FloatProgressModel",
            "bar_style": "info",
            "max": 1,
            "_view_module": "@jupyter-widgets/controls",
            "_model_module_version": "1.5.0",
            "value": 1,
            "_view_count": null,
            "_view_module_version": "1.5.0",
            "orientation": "horizontal",
            "min": 0,
            "description_tooltip": null,
            "_model_module": "@jupyter-widgets/controls",
            "layout": "IPY_MODEL_278bf5783a794f90bc3b6da10c78289f"
          }
        },
        "eba64b494d7a47ef820f6a58f524ec3a": {
          "model_module": "@jupyter-widgets/controls",
          "model_name": "HTMLModel",
          "state": {
            "_view_name": "HTMLView",
            "style": "IPY_MODEL_c8d0fa01c0fe456791e5de25fc007730",
            "_dom_classes": [],
            "description": "",
            "_model_name": "HTMLModel",
            "placeholder": "​",
            "_view_module": "@jupyter-widgets/controls",
            "_model_module_version": "1.5.0",
            "value": " 9920512/? [00:20&lt;00:00, 1395570.82it/s]",
            "_view_count": null,
            "_view_module_version": "1.5.0",
            "description_tooltip": null,
            "_model_module": "@jupyter-widgets/controls",
            "layout": "IPY_MODEL_fb48d99e8f6f4f66a45bbaac6776d562"
          }
        },
        "4b1b83e172a146b18da59024476ad16c": {
          "model_module": "@jupyter-widgets/controls",
          "model_name": "ProgressStyleModel",
          "state": {
            "_view_name": "StyleView",
            "_model_name": "ProgressStyleModel",
            "description_width": "initial",
            "_view_module": "@jupyter-widgets/base",
            "_model_module_version": "1.5.0",
            "_view_count": null,
            "_view_module_version": "1.2.0",
            "bar_color": null,
            "_model_module": "@jupyter-widgets/controls"
          }
        },
        "278bf5783a794f90bc3b6da10c78289f": {
          "model_module": "@jupyter-widgets/base",
          "model_name": "LayoutModel",
          "state": {
            "_view_name": "LayoutView",
            "grid_template_rows": null,
            "right": null,
            "justify_content": null,
            "_view_module": "@jupyter-widgets/base",
            "overflow": null,
            "_model_module_version": "1.2.0",
            "_view_count": null,
            "flex_flow": null,
            "width": null,
            "min_width": null,
            "border": null,
            "align_items": null,
            "bottom": null,
            "_model_module": "@jupyter-widgets/base",
            "top": null,
            "grid_column": null,
            "overflow_y": null,
            "overflow_x": null,
            "grid_auto_flow": null,
            "grid_area": null,
            "grid_template_columns": null,
            "flex": null,
            "_model_name": "LayoutModel",
            "justify_items": null,
            "grid_row": null,
            "max_height": null,
            "align_content": null,
            "visibility": null,
            "align_self": null,
            "height": null,
            "min_height": null,
            "padding": null,
            "grid_auto_rows": null,
            "grid_gap": null,
            "max_width": null,
            "order": null,
            "_view_module_version": "1.2.0",
            "grid_template_areas": null,
            "object_position": null,
            "object_fit": null,
            "grid_auto_columns": null,
            "margin": null,
            "display": null,
            "left": null
          }
        },
        "c8d0fa01c0fe456791e5de25fc007730": {
          "model_module": "@jupyter-widgets/controls",
          "model_name": "DescriptionStyleModel",
          "state": {
            "_view_name": "StyleView",
            "_model_name": "DescriptionStyleModel",
            "description_width": "",
            "_view_module": "@jupyter-widgets/base",
            "_model_module_version": "1.5.0",
            "_view_count": null,
            "_view_module_version": "1.2.0",
            "_model_module": "@jupyter-widgets/controls"
          }
        },
        "fb48d99e8f6f4f66a45bbaac6776d562": {
          "model_module": "@jupyter-widgets/base",
          "model_name": "LayoutModel",
          "state": {
            "_view_name": "LayoutView",
            "grid_template_rows": null,
            "right": null,
            "justify_content": null,
            "_view_module": "@jupyter-widgets/base",
            "overflow": null,
            "_model_module_version": "1.2.0",
            "_view_count": null,
            "flex_flow": null,
            "width": null,
            "min_width": null,
            "border": null,
            "align_items": null,
            "bottom": null,
            "_model_module": "@jupyter-widgets/base",
            "top": null,
            "grid_column": null,
            "overflow_y": null,
            "overflow_x": null,
            "grid_auto_flow": null,
            "grid_area": null,
            "grid_template_columns": null,
            "flex": null,
            "_model_name": "LayoutModel",
            "justify_items": null,
            "grid_row": null,
            "max_height": null,
            "align_content": null,
            "visibility": null,
            "align_self": null,
            "height": null,
            "min_height": null,
            "padding": null,
            "grid_auto_rows": null,
            "grid_gap": null,
            "max_width": null,
            "order": null,
            "_view_module_version": "1.2.0",
            "grid_template_areas": null,
            "object_position": null,
            "object_fit": null,
            "grid_auto_columns": null,
            "margin": null,
            "display": null,
            "left": null
          }
        },
        "8a816e0cd0324c17bac69a9d89a0d88d": {
          "model_module": "@jupyter-widgets/controls",
          "model_name": "HBoxModel",
          "state": {
            "_view_name": "HBoxView",
            "_dom_classes": [],
            "_model_name": "HBoxModel",
            "_view_module": "@jupyter-widgets/controls",
            "_model_module_version": "1.5.0",
            "_view_count": null,
            "_view_module_version": "1.5.0",
            "box_style": "",
            "layout": "IPY_MODEL_ea13d02df65946479fb5b7d9b6d62bdd",
            "_model_module": "@jupyter-widgets/controls",
            "children": [
              "IPY_MODEL_3ce89f7a671943818c9c409a026c57b5",
              "IPY_MODEL_68350b86273b489b94d3902ba9aa7a1e"
            ]
          }
        },
        "ea13d02df65946479fb5b7d9b6d62bdd": {
          "model_module": "@jupyter-widgets/base",
          "model_name": "LayoutModel",
          "state": {
            "_view_name": "LayoutView",
            "grid_template_rows": null,
            "right": null,
            "justify_content": null,
            "_view_module": "@jupyter-widgets/base",
            "overflow": null,
            "_model_module_version": "1.2.0",
            "_view_count": null,
            "flex_flow": null,
            "width": null,
            "min_width": null,
            "border": null,
            "align_items": null,
            "bottom": null,
            "_model_module": "@jupyter-widgets/base",
            "top": null,
            "grid_column": null,
            "overflow_y": null,
            "overflow_x": null,
            "grid_auto_flow": null,
            "grid_area": null,
            "grid_template_columns": null,
            "flex": null,
            "_model_name": "LayoutModel",
            "justify_items": null,
            "grid_row": null,
            "max_height": null,
            "align_content": null,
            "visibility": null,
            "align_self": null,
            "height": null,
            "min_height": null,
            "padding": null,
            "grid_auto_rows": null,
            "grid_gap": null,
            "max_width": null,
            "order": null,
            "_view_module_version": "1.2.0",
            "grid_template_areas": null,
            "object_position": null,
            "object_fit": null,
            "grid_auto_columns": null,
            "margin": null,
            "display": null,
            "left": null
          }
        },
        "3ce89f7a671943818c9c409a026c57b5": {
          "model_module": "@jupyter-widgets/controls",
          "model_name": "FloatProgressModel",
          "state": {
            "_view_name": "ProgressView",
            "style": "IPY_MODEL_15cae8b54b6c4b50824e563480e98322",
            "_dom_classes": [],
            "description": "",
            "_model_name": "FloatProgressModel",
            "bar_style": "success",
            "max": 1,
            "_view_module": "@jupyter-widgets/controls",
            "_model_module_version": "1.5.0",
            "value": 1,
            "_view_count": null,
            "_view_module_version": "1.5.0",
            "orientation": "horizontal",
            "min": 0,
            "description_tooltip": null,
            "_model_module": "@jupyter-widgets/controls",
            "layout": "IPY_MODEL_02b235ae50bb4809bef58db455b98cc3"
          }
        },
        "68350b86273b489b94d3902ba9aa7a1e": {
          "model_module": "@jupyter-widgets/controls",
          "model_name": "HTMLModel",
          "state": {
            "_view_name": "HTMLView",
            "style": "IPY_MODEL_f34fefbd76db4b0b86e7274f17f97c0c",
            "_dom_classes": [],
            "description": "",
            "_model_name": "HTMLModel",
            "placeholder": "​",
            "_view_module": "@jupyter-widgets/controls",
            "_model_module_version": "1.5.0",
            "value": " 32768/? [00:03&lt;00:00, 9318.45it/s]",
            "_view_count": null,
            "_view_module_version": "1.5.0",
            "description_tooltip": null,
            "_model_module": "@jupyter-widgets/controls",
            "layout": "IPY_MODEL_de94fa7a9b7a465086351eb9c9e321fd"
          }
        },
        "15cae8b54b6c4b50824e563480e98322": {
          "model_module": "@jupyter-widgets/controls",
          "model_name": "ProgressStyleModel",
          "state": {
            "_view_name": "StyleView",
            "_model_name": "ProgressStyleModel",
            "description_width": "initial",
            "_view_module": "@jupyter-widgets/base",
            "_model_module_version": "1.5.0",
            "_view_count": null,
            "_view_module_version": "1.2.0",
            "bar_color": null,
            "_model_module": "@jupyter-widgets/controls"
          }
        },
        "02b235ae50bb4809bef58db455b98cc3": {
          "model_module": "@jupyter-widgets/base",
          "model_name": "LayoutModel",
          "state": {
            "_view_name": "LayoutView",
            "grid_template_rows": null,
            "right": null,
            "justify_content": null,
            "_view_module": "@jupyter-widgets/base",
            "overflow": null,
            "_model_module_version": "1.2.0",
            "_view_count": null,
            "flex_flow": null,
            "width": null,
            "min_width": null,
            "border": null,
            "align_items": null,
            "bottom": null,
            "_model_module": "@jupyter-widgets/base",
            "top": null,
            "grid_column": null,
            "overflow_y": null,
            "overflow_x": null,
            "grid_auto_flow": null,
            "grid_area": null,
            "grid_template_columns": null,
            "flex": null,
            "_model_name": "LayoutModel",
            "justify_items": null,
            "grid_row": null,
            "max_height": null,
            "align_content": null,
            "visibility": null,
            "align_self": null,
            "height": null,
            "min_height": null,
            "padding": null,
            "grid_auto_rows": null,
            "grid_gap": null,
            "max_width": null,
            "order": null,
            "_view_module_version": "1.2.0",
            "grid_template_areas": null,
            "object_position": null,
            "object_fit": null,
            "grid_auto_columns": null,
            "margin": null,
            "display": null,
            "left": null
          }
        },
        "f34fefbd76db4b0b86e7274f17f97c0c": {
          "model_module": "@jupyter-widgets/controls",
          "model_name": "DescriptionStyleModel",
          "state": {
            "_view_name": "StyleView",
            "_model_name": "DescriptionStyleModel",
            "description_width": "",
            "_view_module": "@jupyter-widgets/base",
            "_model_module_version": "1.5.0",
            "_view_count": null,
            "_view_module_version": "1.2.0",
            "_model_module": "@jupyter-widgets/controls"
          }
        },
        "de94fa7a9b7a465086351eb9c9e321fd": {
          "model_module": "@jupyter-widgets/base",
          "model_name": "LayoutModel",
          "state": {
            "_view_name": "LayoutView",
            "grid_template_rows": null,
            "right": null,
            "justify_content": null,
            "_view_module": "@jupyter-widgets/base",
            "overflow": null,
            "_model_module_version": "1.2.0",
            "_view_count": null,
            "flex_flow": null,
            "width": null,
            "min_width": null,
            "border": null,
            "align_items": null,
            "bottom": null,
            "_model_module": "@jupyter-widgets/base",
            "top": null,
            "grid_column": null,
            "overflow_y": null,
            "overflow_x": null,
            "grid_auto_flow": null,
            "grid_area": null,
            "grid_template_columns": null,
            "flex": null,
            "_model_name": "LayoutModel",
            "justify_items": null,
            "grid_row": null,
            "max_height": null,
            "align_content": null,
            "visibility": null,
            "align_self": null,
            "height": null,
            "min_height": null,
            "padding": null,
            "grid_auto_rows": null,
            "grid_gap": null,
            "max_width": null,
            "order": null,
            "_view_module_version": "1.2.0",
            "grid_template_areas": null,
            "object_position": null,
            "object_fit": null,
            "grid_auto_columns": null,
            "margin": null,
            "display": null,
            "left": null
          }
        },
        "591531d849bf4e2dafbd94efcc526b3c": {
          "model_module": "@jupyter-widgets/controls",
          "model_name": "HBoxModel",
          "state": {
            "_view_name": "HBoxView",
            "_dom_classes": [],
            "_model_name": "HBoxModel",
            "_view_module": "@jupyter-widgets/controls",
            "_model_module_version": "1.5.0",
            "_view_count": null,
            "_view_module_version": "1.5.0",
            "box_style": "",
            "layout": "IPY_MODEL_f7274283c6cb45309f75bc2072086884",
            "_model_module": "@jupyter-widgets/controls",
            "children": [
              "IPY_MODEL_5146599fb4574128a5f8c6924222d8bc",
              "IPY_MODEL_ef6d52555c1a45d3b0030fb66c1a4a71"
            ]
          }
        },
        "f7274283c6cb45309f75bc2072086884": {
          "model_module": "@jupyter-widgets/base",
          "model_name": "LayoutModel",
          "state": {
            "_view_name": "LayoutView",
            "grid_template_rows": null,
            "right": null,
            "justify_content": null,
            "_view_module": "@jupyter-widgets/base",
            "overflow": null,
            "_model_module_version": "1.2.0",
            "_view_count": null,
            "flex_flow": null,
            "width": null,
            "min_width": null,
            "border": null,
            "align_items": null,
            "bottom": null,
            "_model_module": "@jupyter-widgets/base",
            "top": null,
            "grid_column": null,
            "overflow_y": null,
            "overflow_x": null,
            "grid_auto_flow": null,
            "grid_area": null,
            "grid_template_columns": null,
            "flex": null,
            "_model_name": "LayoutModel",
            "justify_items": null,
            "grid_row": null,
            "max_height": null,
            "align_content": null,
            "visibility": null,
            "align_self": null,
            "height": null,
            "min_height": null,
            "padding": null,
            "grid_auto_rows": null,
            "grid_gap": null,
            "max_width": null,
            "order": null,
            "_view_module_version": "1.2.0",
            "grid_template_areas": null,
            "object_position": null,
            "object_fit": null,
            "grid_auto_columns": null,
            "margin": null,
            "display": null,
            "left": null
          }
        },
        "5146599fb4574128a5f8c6924222d8bc": {
          "model_module": "@jupyter-widgets/controls",
          "model_name": "FloatProgressModel",
          "state": {
            "_view_name": "ProgressView",
            "style": "IPY_MODEL_2e66fe7f99cc46cd80514279098ffd4c",
            "_dom_classes": [],
            "description": "",
            "_model_name": "FloatProgressModel",
            "bar_style": "success",
            "max": 1,
            "_view_module": "@jupyter-widgets/controls",
            "_model_module_version": "1.5.0",
            "value": 1,
            "_view_count": null,
            "_view_module_version": "1.5.0",
            "orientation": "horizontal",
            "min": 0,
            "description_tooltip": null,
            "_model_module": "@jupyter-widgets/controls",
            "layout": "IPY_MODEL_00e9a412a75c464fb32e45c94862a9ec"
          }
        },
        "ef6d52555c1a45d3b0030fb66c1a4a71": {
          "model_module": "@jupyter-widgets/controls",
          "model_name": "HTMLModel",
          "state": {
            "_view_name": "HTMLView",
            "style": "IPY_MODEL_45574715e9494787b3e883ad3d69c2c4",
            "_dom_classes": [],
            "description": "",
            "_model_name": "HTMLModel",
            "placeholder": "​",
            "_view_module": "@jupyter-widgets/controls",
            "_model_module_version": "1.5.0",
            "value": " 1654784/? [00:02&lt;00:00, 585924.70it/s]",
            "_view_count": null,
            "_view_module_version": "1.5.0",
            "description_tooltip": null,
            "_model_module": "@jupyter-widgets/controls",
            "layout": "IPY_MODEL_c29eb236761943c3a5948db24ce0304a"
          }
        },
        "2e66fe7f99cc46cd80514279098ffd4c": {
          "model_module": "@jupyter-widgets/controls",
          "model_name": "ProgressStyleModel",
          "state": {
            "_view_name": "StyleView",
            "_model_name": "ProgressStyleModel",
            "description_width": "initial",
            "_view_module": "@jupyter-widgets/base",
            "_model_module_version": "1.5.0",
            "_view_count": null,
            "_view_module_version": "1.2.0",
            "bar_color": null,
            "_model_module": "@jupyter-widgets/controls"
          }
        },
        "00e9a412a75c464fb32e45c94862a9ec": {
          "model_module": "@jupyter-widgets/base",
          "model_name": "LayoutModel",
          "state": {
            "_view_name": "LayoutView",
            "grid_template_rows": null,
            "right": null,
            "justify_content": null,
            "_view_module": "@jupyter-widgets/base",
            "overflow": null,
            "_model_module_version": "1.2.0",
            "_view_count": null,
            "flex_flow": null,
            "width": null,
            "min_width": null,
            "border": null,
            "align_items": null,
            "bottom": null,
            "_model_module": "@jupyter-widgets/base",
            "top": null,
            "grid_column": null,
            "overflow_y": null,
            "overflow_x": null,
            "grid_auto_flow": null,
            "grid_area": null,
            "grid_template_columns": null,
            "flex": null,
            "_model_name": "LayoutModel",
            "justify_items": null,
            "grid_row": null,
            "max_height": null,
            "align_content": null,
            "visibility": null,
            "align_self": null,
            "height": null,
            "min_height": null,
            "padding": null,
            "grid_auto_rows": null,
            "grid_gap": null,
            "max_width": null,
            "order": null,
            "_view_module_version": "1.2.0",
            "grid_template_areas": null,
            "object_position": null,
            "object_fit": null,
            "grid_auto_columns": null,
            "margin": null,
            "display": null,
            "left": null
          }
        },
        "45574715e9494787b3e883ad3d69c2c4": {
          "model_module": "@jupyter-widgets/controls",
          "model_name": "DescriptionStyleModel",
          "state": {
            "_view_name": "StyleView",
            "_model_name": "DescriptionStyleModel",
            "description_width": "",
            "_view_module": "@jupyter-widgets/base",
            "_model_module_version": "1.5.0",
            "_view_count": null,
            "_view_module_version": "1.2.0",
            "_model_module": "@jupyter-widgets/controls"
          }
        },
        "c29eb236761943c3a5948db24ce0304a": {
          "model_module": "@jupyter-widgets/base",
          "model_name": "LayoutModel",
          "state": {
            "_view_name": "LayoutView",
            "grid_template_rows": null,
            "right": null,
            "justify_content": null,
            "_view_module": "@jupyter-widgets/base",
            "overflow": null,
            "_model_module_version": "1.2.0",
            "_view_count": null,
            "flex_flow": null,
            "width": null,
            "min_width": null,
            "border": null,
            "align_items": null,
            "bottom": null,
            "_model_module": "@jupyter-widgets/base",
            "top": null,
            "grid_column": null,
            "overflow_y": null,
            "overflow_x": null,
            "grid_auto_flow": null,
            "grid_area": null,
            "grid_template_columns": null,
            "flex": null,
            "_model_name": "LayoutModel",
            "justify_items": null,
            "grid_row": null,
            "max_height": null,
            "align_content": null,
            "visibility": null,
            "align_self": null,
            "height": null,
            "min_height": null,
            "padding": null,
            "grid_auto_rows": null,
            "grid_gap": null,
            "max_width": null,
            "order": null,
            "_view_module_version": "1.2.0",
            "grid_template_areas": null,
            "object_position": null,
            "object_fit": null,
            "grid_auto_columns": null,
            "margin": null,
            "display": null,
            "left": null
          }
        },
        "9c8fde2145934ad59535bf7a7932976c": {
          "model_module": "@jupyter-widgets/controls",
          "model_name": "HBoxModel",
          "state": {
            "_view_name": "HBoxView",
            "_dom_classes": [],
            "_model_name": "HBoxModel",
            "_view_module": "@jupyter-widgets/controls",
            "_model_module_version": "1.5.0",
            "_view_count": null,
            "_view_module_version": "1.5.0",
            "box_style": "",
            "layout": "IPY_MODEL_973048ef65184da69f1d9de3b6e9bf0f",
            "_model_module": "@jupyter-widgets/controls",
            "children": [
              "IPY_MODEL_aff5013e4f674749ac155fbd2bf2d408",
              "IPY_MODEL_fc39c5abed8d4fd4ba3f5279d77f607e"
            ]
          }
        },
        "973048ef65184da69f1d9de3b6e9bf0f": {
          "model_module": "@jupyter-widgets/base",
          "model_name": "LayoutModel",
          "state": {
            "_view_name": "LayoutView",
            "grid_template_rows": null,
            "right": null,
            "justify_content": null,
            "_view_module": "@jupyter-widgets/base",
            "overflow": null,
            "_model_module_version": "1.2.0",
            "_view_count": null,
            "flex_flow": null,
            "width": null,
            "min_width": null,
            "border": null,
            "align_items": null,
            "bottom": null,
            "_model_module": "@jupyter-widgets/base",
            "top": null,
            "grid_column": null,
            "overflow_y": null,
            "overflow_x": null,
            "grid_auto_flow": null,
            "grid_area": null,
            "grid_template_columns": null,
            "flex": null,
            "_model_name": "LayoutModel",
            "justify_items": null,
            "grid_row": null,
            "max_height": null,
            "align_content": null,
            "visibility": null,
            "align_self": null,
            "height": null,
            "min_height": null,
            "padding": null,
            "grid_auto_rows": null,
            "grid_gap": null,
            "max_width": null,
            "order": null,
            "_view_module_version": "1.2.0",
            "grid_template_areas": null,
            "object_position": null,
            "object_fit": null,
            "grid_auto_columns": null,
            "margin": null,
            "display": null,
            "left": null
          }
        },
        "aff5013e4f674749ac155fbd2bf2d408": {
          "model_module": "@jupyter-widgets/controls",
          "model_name": "FloatProgressModel",
          "state": {
            "_view_name": "ProgressView",
            "style": "IPY_MODEL_cc377fa6727f4f90a87b56dea6532425",
            "_dom_classes": [],
            "description": "",
            "_model_name": "FloatProgressModel",
            "bar_style": "success",
            "max": 1,
            "_view_module": "@jupyter-widgets/controls",
            "_model_module_version": "1.5.0",
            "value": 1,
            "_view_count": null,
            "_view_module_version": "1.5.0",
            "orientation": "horizontal",
            "min": 0,
            "description_tooltip": null,
            "_model_module": "@jupyter-widgets/controls",
            "layout": "IPY_MODEL_8e94e99da3964fc592601ce83f38709e"
          }
        },
        "fc39c5abed8d4fd4ba3f5279d77f607e": {
          "model_module": "@jupyter-widgets/controls",
          "model_name": "HTMLModel",
          "state": {
            "_view_name": "HTMLView",
            "style": "IPY_MODEL_5f0a7327c9754fd0af585df1afa04b03",
            "_dom_classes": [],
            "description": "",
            "_model_name": "HTMLModel",
            "placeholder": "​",
            "_view_module": "@jupyter-widgets/controls",
            "_model_module_version": "1.5.0",
            "value": " 8192/? [00:01&lt;00:00, 7730.71it/s]",
            "_view_count": null,
            "_view_module_version": "1.5.0",
            "description_tooltip": null,
            "_model_module": "@jupyter-widgets/controls",
            "layout": "IPY_MODEL_2b4a815da8b94dc1869836bc27e8ed8e"
          }
        },
        "cc377fa6727f4f90a87b56dea6532425": {
          "model_module": "@jupyter-widgets/controls",
          "model_name": "ProgressStyleModel",
          "state": {
            "_view_name": "StyleView",
            "_model_name": "ProgressStyleModel",
            "description_width": "initial",
            "_view_module": "@jupyter-widgets/base",
            "_model_module_version": "1.5.0",
            "_view_count": null,
            "_view_module_version": "1.2.0",
            "bar_color": null,
            "_model_module": "@jupyter-widgets/controls"
          }
        },
        "8e94e99da3964fc592601ce83f38709e": {
          "model_module": "@jupyter-widgets/base",
          "model_name": "LayoutModel",
          "state": {
            "_view_name": "LayoutView",
            "grid_template_rows": null,
            "right": null,
            "justify_content": null,
            "_view_module": "@jupyter-widgets/base",
            "overflow": null,
            "_model_module_version": "1.2.0",
            "_view_count": null,
            "flex_flow": null,
            "width": null,
            "min_width": null,
            "border": null,
            "align_items": null,
            "bottom": null,
            "_model_module": "@jupyter-widgets/base",
            "top": null,
            "grid_column": null,
            "overflow_y": null,
            "overflow_x": null,
            "grid_auto_flow": null,
            "grid_area": null,
            "grid_template_columns": null,
            "flex": null,
            "_model_name": "LayoutModel",
            "justify_items": null,
            "grid_row": null,
            "max_height": null,
            "align_content": null,
            "visibility": null,
            "align_self": null,
            "height": null,
            "min_height": null,
            "padding": null,
            "grid_auto_rows": null,
            "grid_gap": null,
            "max_width": null,
            "order": null,
            "_view_module_version": "1.2.0",
            "grid_template_areas": null,
            "object_position": null,
            "object_fit": null,
            "grid_auto_columns": null,
            "margin": null,
            "display": null,
            "left": null
          }
        },
        "5f0a7327c9754fd0af585df1afa04b03": {
          "model_module": "@jupyter-widgets/controls",
          "model_name": "DescriptionStyleModel",
          "state": {
            "_view_name": "StyleView",
            "_model_name": "DescriptionStyleModel",
            "description_width": "",
            "_view_module": "@jupyter-widgets/base",
            "_model_module_version": "1.5.0",
            "_view_count": null,
            "_view_module_version": "1.2.0",
            "_model_module": "@jupyter-widgets/controls"
          }
        },
        "2b4a815da8b94dc1869836bc27e8ed8e": {
          "model_module": "@jupyter-widgets/base",
          "model_name": "LayoutModel",
          "state": {
            "_view_name": "LayoutView",
            "grid_template_rows": null,
            "right": null,
            "justify_content": null,
            "_view_module": "@jupyter-widgets/base",
            "overflow": null,
            "_model_module_version": "1.2.0",
            "_view_count": null,
            "flex_flow": null,
            "width": null,
            "min_width": null,
            "border": null,
            "align_items": null,
            "bottom": null,
            "_model_module": "@jupyter-widgets/base",
            "top": null,
            "grid_column": null,
            "overflow_y": null,
            "overflow_x": null,
            "grid_auto_flow": null,
            "grid_area": null,
            "grid_template_columns": null,
            "flex": null,
            "_model_name": "LayoutModel",
            "justify_items": null,
            "grid_row": null,
            "max_height": null,
            "align_content": null,
            "visibility": null,
            "align_self": null,
            "height": null,
            "min_height": null,
            "padding": null,
            "grid_auto_rows": null,
            "grid_gap": null,
            "max_width": null,
            "order": null,
            "_view_module_version": "1.2.0",
            "grid_template_areas": null,
            "object_position": null,
            "object_fit": null,
            "grid_auto_columns": null,
            "margin": null,
            "display": null,
            "left": null
          }
        }
      }
    }
  },
  "cells": [
    {
      "cell_type": "markdown",
      "metadata": {
        "id": "yXPjh8T_-sNv",
        "colab_type": "text"
      },
      "source": [
        "#Assignment 6\n"
      ]
    },
    {
      "cell_type": "code",
      "metadata": {
        "id": "XgTkQ_ML2krv",
        "colab_type": "code",
        "colab": {}
      },
      "source": [
        "import torch \n",
        "import torch.nn as nn\n",
        "import torchvision\n",
        "from torchsummary import summary\n",
        "import torch.nn.functional as F\n",
        "import torch.optim as optim\n",
        "%matplotlib inline\n",
        "import matplotlib.pyplot as plt"
      ],
      "execution_count": null,
      "outputs": []
    },
    {
      "cell_type": "code",
      "metadata": {
        "id": "FpS_ipi9OtJd",
        "colab_type": "code",
        "colab": {
          "base_uri": "https://localhost:8080/",
          "height": 121
        },
        "outputId": "e2da9c81-4445-4f6a-8149-794872276177"
      },
      "source": [
        "from google.colab import drive\n",
        "\n",
        "drive.mount('/content/drive')\n"
      ],
      "execution_count": null,
      "outputs": [
        {
          "output_type": "stream",
          "text": [
            "Go to this URL in a browser: https://accounts.google.com/o/oauth2/auth?client_id=947318989803-6bn6qk8qdgf4n4g3pfee6491hc0brc4i.apps.googleusercontent.com&redirect_uri=urn%3aietf%3awg%3aoauth%3a2.0%3aoob&scope=email%20https%3a%2f%2fwww.googleapis.com%2fauth%2fdocs.test%20https%3a%2f%2fwww.googleapis.com%2fauth%2fdrive%20https%3a%2f%2fwww.googleapis.com%2fauth%2fdrive.photos.readonly%20https%3a%2f%2fwww.googleapis.com%2fauth%2fpeopleapi.readonly&response_type=code\n",
            "\n",
            "Enter your authorization code:\n",
            "··········\n",
            "Mounted at /content/drive\n"
          ],
          "name": "stdout"
        }
      ]
    },
    {
      "cell_type": "code",
      "metadata": {
        "id": "j4NFWhs-PVxl",
        "colab_type": "code",
        "colab": {}
      },
      "source": [
        "import os\n",
        "os.chdir('/content/drive/My Drive/')"
      ],
      "execution_count": null,
      "outputs": []
    },
    {
      "cell_type": "code",
      "metadata": {
        "id": "NXECr7-N3Hut",
        "colab_type": "code",
        "colab": {
          "base_uri": "https://localhost:8080/",
          "height": 34
        },
        "outputId": "b9150cf6-0c83-48d1-e5fa-3de2cbce72a9"
      },
      "source": [
        "# CUDA for PyTorch\n",
        "use_cuda = torch.cuda.is_available()\n",
        "device = torch.device(\"cuda\" if use_cuda else \"cpu\")\n",
        "torch.backends.cudnn.benchmark = True\n",
        "\n",
        "seed=121\n",
        "\n",
        "torch.manual_seed(seed)\n",
        "\n",
        "print(\"Using Cuda : \", use_cuda)\n"
      ],
      "execution_count": null,
      "outputs": [
        {
          "output_type": "stream",
          "text": [
            "Using Cuda :  True\n"
          ],
          "name": "stdout"
        }
      ]
    },
    {
      "cell_type": "code",
      "metadata": {
        "id": "A55zkZMu4YzV",
        "colab_type": "code",
        "colab": {
          "base_uri": "https://localhost:8080/",
          "height": 366,
          "referenced_widgets": [
            "71813349ecd94c358073ea4e7faceaed",
            "da5ac7e4948b4ab8835de9d2eca8ed7a",
            "39f3e3ce772f40c587759f712bc94c4a",
            "eba64b494d7a47ef820f6a58f524ec3a",
            "4b1b83e172a146b18da59024476ad16c",
            "278bf5783a794f90bc3b6da10c78289f",
            "c8d0fa01c0fe456791e5de25fc007730",
            "fb48d99e8f6f4f66a45bbaac6776d562",
            "8a816e0cd0324c17bac69a9d89a0d88d",
            "ea13d02df65946479fb5b7d9b6d62bdd",
            "3ce89f7a671943818c9c409a026c57b5",
            "68350b86273b489b94d3902ba9aa7a1e",
            "15cae8b54b6c4b50824e563480e98322",
            "02b235ae50bb4809bef58db455b98cc3",
            "f34fefbd76db4b0b86e7274f17f97c0c",
            "de94fa7a9b7a465086351eb9c9e321fd",
            "591531d849bf4e2dafbd94efcc526b3c",
            "f7274283c6cb45309f75bc2072086884",
            "5146599fb4574128a5f8c6924222d8bc",
            "ef6d52555c1a45d3b0030fb66c1a4a71",
            "2e66fe7f99cc46cd80514279098ffd4c",
            "00e9a412a75c464fb32e45c94862a9ec",
            "45574715e9494787b3e883ad3d69c2c4",
            "c29eb236761943c3a5948db24ce0304a",
            "9c8fde2145934ad59535bf7a7932976c",
            "973048ef65184da69f1d9de3b6e9bf0f",
            "aff5013e4f674749ac155fbd2bf2d408",
            "fc39c5abed8d4fd4ba3f5279d77f607e",
            "cc377fa6727f4f90a87b56dea6532425",
            "8e94e99da3964fc592601ce83f38709e",
            "5f0a7327c9754fd0af585df1afa04b03",
            "2b4a815da8b94dc1869836bc27e8ed8e"
          ]
        },
        "outputId": "7a7bc911-a09c-4dad-8d95-9caa6867937f"
      },
      "source": [
        "#Get the MNIST dataset\n",
        "\n",
        "train_dataset =  torchvision.datasets.MNIST('/data/', train=True, download=True,\n",
        "                             transform=torchvision.transforms.Compose([\n",
        "                               torchvision.transforms.ToTensor(),\n",
        "                               torchvision.transforms.Normalize((0.1307,), (0.3081,))\n",
        "                             ]))\n",
        "\n",
        "\n",
        "test_dataset =  torchvision.datasets.MNIST('/data/', train=False, download=True,\n",
        "                             transform=torchvision.transforms.Compose([\n",
        "                               torchvision.transforms.ToTensor(),\n",
        "                               torchvision.transforms.Normalize((0.1307,), (0.3081,))\n",
        "                             ]))"
      ],
      "execution_count": null,
      "outputs": [
        {
          "output_type": "stream",
          "text": [
            "Downloading http://yann.lecun.com/exdb/mnist/train-images-idx3-ubyte.gz to /data/MNIST/raw/train-images-idx3-ubyte.gz\n"
          ],
          "name": "stdout"
        },
        {
          "output_type": "display_data",
          "data": {
            "application/vnd.jupyter.widget-view+json": {
              "model_id": "71813349ecd94c358073ea4e7faceaed",
              "version_minor": 0,
              "version_major": 2
            },
            "text/plain": [
              "HBox(children=(FloatProgress(value=1.0, bar_style='info', max=1.0), HTML(value='')))"
            ]
          },
          "metadata": {
            "tags": []
          }
        },
        {
          "output_type": "stream",
          "text": [
            "Extracting /data/MNIST/raw/train-images-idx3-ubyte.gz to /data/MNIST/raw\n",
            "Downloading http://yann.lecun.com/exdb/mnist/train-labels-idx1-ubyte.gz to /data/MNIST/raw/train-labels-idx1-ubyte.gz\n"
          ],
          "name": "stdout"
        },
        {
          "output_type": "display_data",
          "data": {
            "application/vnd.jupyter.widget-view+json": {
              "model_id": "8a816e0cd0324c17bac69a9d89a0d88d",
              "version_minor": 0,
              "version_major": 2
            },
            "text/plain": [
              "HBox(children=(FloatProgress(value=1.0, bar_style='info', max=1.0), HTML(value='')))"
            ]
          },
          "metadata": {
            "tags": []
          }
        },
        {
          "output_type": "stream",
          "text": [
            "Extracting /data/MNIST/raw/train-labels-idx1-ubyte.gz to /data/MNIST/raw\n",
            "Downloading http://yann.lecun.com/exdb/mnist/t10k-images-idx3-ubyte.gz to /data/MNIST/raw/t10k-images-idx3-ubyte.gz\n"
          ],
          "name": "stdout"
        },
        {
          "output_type": "display_data",
          "data": {
            "application/vnd.jupyter.widget-view+json": {
              "model_id": "591531d849bf4e2dafbd94efcc526b3c",
              "version_minor": 0,
              "version_major": 2
            },
            "text/plain": [
              "HBox(children=(FloatProgress(value=1.0, bar_style='info', max=1.0), HTML(value='')))"
            ]
          },
          "metadata": {
            "tags": []
          }
        },
        {
          "output_type": "stream",
          "text": [
            "Extracting /data/MNIST/raw/t10k-images-idx3-ubyte.gz to /data/MNIST/raw\n",
            "Downloading http://yann.lecun.com/exdb/mnist/t10k-labels-idx1-ubyte.gz to /data/MNIST/raw/t10k-labels-idx1-ubyte.gz\n"
          ],
          "name": "stdout"
        },
        {
          "output_type": "display_data",
          "data": {
            "application/vnd.jupyter.widget-view+json": {
              "model_id": "9c8fde2145934ad59535bf7a7932976c",
              "version_minor": 0,
              "version_major": 2
            },
            "text/plain": [
              "HBox(children=(FloatProgress(value=1.0, bar_style='info', max=1.0), HTML(value='')))"
            ]
          },
          "metadata": {
            "tags": []
          }
        },
        {
          "output_type": "stream",
          "text": [
            "Extracting /data/MNIST/raw/t10k-labels-idx1-ubyte.gz to /data/MNIST/raw\n",
            "Processing...\n",
            "Done!\n"
          ],
          "name": "stdout"
        },
        {
          "output_type": "stream",
          "text": [
            "/usr/local/lib/python3.6/dist-packages/torchvision/datasets/mnist.py:469: UserWarning: The given NumPy array is not writeable, and PyTorch does not support non-writeable tensors. This means you can write to the underlying (supposedly non-writeable) NumPy array using the tensor. You may want to copy the array to protect its data or make it writeable before converting it to a tensor. This type of warning will be suppressed for the rest of this program. (Triggered internally at  /pytorch/torch/csrc/utils/tensor_numpy.cpp:141.)\n",
            "  return torch.from_numpy(parsed.astype(m[2], copy=False)).view(*s)\n"
          ],
          "name": "stderr"
        }
      ]
    },
    {
      "cell_type": "code",
      "metadata": {
        "id": "LjsabFMg51Us",
        "colab_type": "code",
        "colab": {}
      },
      "source": [
        "# #define Data loaders\n",
        "\n",
        "# Batch_size = 128\n",
        "\n",
        "# dataloader_args= dict(shuffle=True, batch_size=Batch_size,num_workers=4, pin_memory=True ) if use_cuda else dict(shuffle=True, batch_size=Batch_size)\n",
        "\n",
        "# train_loader = torch.utils.data.DataLoader(train_dataset, **dataloader_args)\n",
        "\n",
        "# test_loader = torch.utils.data.DataLoader(test_dataset, **dataloader_args)\n",
        "\n"
      ],
      "execution_count": null,
      "outputs": []
    },
    {
      "cell_type": "code",
      "metadata": {
        "id": "Z4elr7eJ7yys",
        "colab_type": "code",
        "colab": {
          "base_uri": "https://localhost:8080/",
          "height": 235
        },
        "outputId": "cb512a2f-1579-4a62-af38-ef35c05b6545"
      },
      "source": [
        "#data Statistics\n",
        "train = train_dataset.train_data\n",
        "train = train_dataset.transform(train.numpy())\n",
        "\n",
        "\n",
        "print(\"Train data statistics : \")\n",
        "\n",
        "print('#    Numpy shape :' ,train.numpy().shape)\n",
        "print('#    Tensor shape :', train_dataset.train_data.size())\n",
        "print('#    Max :', torch.max(train))\n",
        "print('#    min :', torch.min(train))\n",
        "print('#    std:', torch.std(train))\n",
        "print('#    var:', torch.var(train))\n",
        "print('#    Mean:', torch.mean(train))"
      ],
      "execution_count": null,
      "outputs": [
        {
          "output_type": "stream",
          "text": [
            "/usr/local/lib/python3.6/dist-packages/torchvision/datasets/mnist.py:55: UserWarning: train_data has been renamed data\n",
            "  warnings.warn(\"train_data has been renamed data\")\n"
          ],
          "name": "stderr"
        },
        {
          "output_type": "stream",
          "text": [
            "Train data statistics : \n",
            "#    Numpy shape : (28, 60000, 28)\n",
            "\n",
            "\n",
            "\n",
            "#    Tensor shape : torch.Size([60000, 28, 28])\n",
            "#    Max : tensor(2.8215)\n",
            "#    min : tensor(-0.4242)\n",
            "#    std: tensor(1.0000)\n",
            "#    var: tensor(1.0001)\n",
            "#    Mean: tensor(-0.0002)\n"
          ],
          "name": "stdout"
        }
      ]
    },
    {
      "cell_type": "markdown",
      "metadata": {
        "id": "bnpPEFVeAdH0",
        "colab_type": "text"
      },
      "source": [
        ""
      ]
    },
    {
      "cell_type": "code",
      "metadata": {
        "id": "tb28r2yO7y2C",
        "colab_type": "code",
        "colab": {}
      },
      "source": [
        "# #View Images\n",
        "# %matplotlib inline\n",
        "# import matplotlib.pyplot as plt\n",
        "# examples = enumerate(train_loader)\n",
        "# batch_idx, (example_data, example_targets) = next(examples)\n",
        "\n",
        "# print('Image : ',example_data.shape)\n",
        "# print('Target : ',example_targets.shape)\n",
        "# plt.imshow(example_data[1][0], cmap='gray_r')\n",
        "# plt.title(\"{}\".format(example_targets[1]),color='red')\n",
        "\n",
        "# fig = plt.figure()\n",
        "# for i in range(60):\n",
        "#   plt.subplot(6,10,i+1)\n",
        "#   #plt.tight_layout()\n",
        "#   plt.imshow(example_data[i][0].numpy().squeeze(), cmap='gray', interpolation='none')\n",
        "#   plt.title(\"{}\".format(example_targets[i]),color='red')\n",
        "#   plt.axis('off')\n"
      ],
      "execution_count": null,
      "outputs": []
    },
    {
      "cell_type": "markdown",
      "metadata": {
        "id": "PXUwM7iLFtnk",
        "colab_type": "text"
      },
      "source": [
        "#Architecture"
      ]
    },
    {
      "cell_type": "code",
      "metadata": {
        "id": "Tz_pEwye3tpB",
        "colab_type": "code",
        "colab": {}
      },
      "source": [
        "\n",
        "class BatchNorm(nn.BatchNorm2d):\n",
        "    def __init__(self, num_features, eps=1e-05, momentum=0.1, weight=True, bias=True):\n",
        "        super().__init__(num_features, eps=eps, momentum=momentum)\n",
        "        self.weight.data.fill_(1.0)\n",
        "        self.bias.data.fill_(0.0)\n",
        "        self.weight.requires_grad = weight\n",
        "        self.bias.requires_grad = bias\n",
        "\n",
        "\n",
        "class GhostBatchNorm(BatchNorm):\n",
        "    def __init__(self, num_features, num_splits, **kw):\n",
        "        super().__init__(num_features, **kw)\n",
        "        self.num_splits = num_splits\n",
        "        self.register_buffer('running_mean', torch.zeros(num_features * self.num_splits))\n",
        "        self.register_buffer('running_var', torch.ones(num_features * self.num_splits))\n",
        "\n",
        "    def train(self, mode=True):\n",
        "        if (self.training is True) and (mode is False):  # lazily collate stats when we are going to use them\n",
        "            self.running_mean = torch.mean(self.running_mean.view(self.num_splits, self.num_features), dim=0).repeat(\n",
        "                self.num_splits)\n",
        "            self.running_var = torch.mean(self.running_var.view(self.num_splits, self.num_features), dim=0).repeat(\n",
        "                self.num_splits)\n",
        "        return super().train(mode)\n",
        "\n",
        "    def forward(self, input):\n",
        "        N, C, H, W = input.shape\n",
        "        if self.training or not self.track_running_stats:\n",
        "            return F.batch_norm(\n",
        "                input.view(-1, C * self.num_splits, H, W), self.running_mean, self.running_var,\n",
        "                self.weight.repeat(self.num_splits), self.bias.repeat(self.num_splits),\n",
        "                True, self.momentum, self.eps).view(N, C, H, W)\n",
        "        else:\n",
        "            return F.batch_norm(\n",
        "                input, self.running_mean[:self.num_features], self.running_var[:self.num_features],\n",
        "                self.weight, self.bias, False, self.momentum, self.eps)\n"
      ],
      "execution_count": null,
      "outputs": []
    },
    {
      "cell_type": "code",
      "metadata": {
        "id": "-ImtkZV37y5E",
        "colab_type": "code",
        "colab": {}
      },
      "source": [
        "class Net(nn.Module):\n",
        "  def __init__(self):\n",
        "      super(Net, self).__init__()\n",
        "\n",
        "      #Input Block 1\n",
        "      self.Conv1 = nn.Sequential(\n",
        "          nn.Conv2d(in_channels=1, out_channels=10, kernel_size=(3, 3), padding=0, bias=False),\n",
        "          nn.ReLU()          \n",
        "      ) # ouput - 26\n",
        "\n",
        "      self.BatchN1 = nn.BatchNorm2d(10)\n",
        "\n",
        "      self.GBN1 = GhostBatchNorm(10,2)\n",
        "\n",
        "      # Convolution Block 1\n",
        "      self.Conv2 = nn.Sequential(\n",
        "          nn.Conv2d(in_channels=10, out_channels=16, kernel_size=(3, 3), padding=0, bias=False),\n",
        "          nn.ReLU()\n",
        "      ) # ouput - 24\n",
        "\n",
        "      self.BatchN2 = nn.BatchNorm2d(16)\n",
        "\n",
        "      self.GBN2 = GhostBatchNorm(16,2)\n",
        "\n",
        "      # Transistion Block 1\n",
        "      self.pool1 = nn.MaxPool2d(kernel_size=(2,2),stride=2)\n",
        "      self.Conv3 = nn.Sequential(\n",
        "          nn.Conv2d(in_channels=16, out_channels=10, kernel_size=(1, 1), padding=0, bias=False),\n",
        "          nn.ReLU()\n",
        "      ) # ouput - 12\n",
        "\n",
        "      self.BatchN3 = nn.BatchNorm2d(10)\n",
        "\n",
        "      self.GBN3 = GhostBatchNorm(10,2)\n",
        "\n",
        "\n",
        "      # Convolution Block 2\n",
        "\n",
        "      self.Conv4 = nn.Sequential(\n",
        "          nn.Conv2d(in_channels=10, out_channels=16, kernel_size=(3, 3), padding=0, bias=False),\n",
        "          nn.ReLU()\n",
        "      ) # ouput - 10\n",
        "\n",
        "      self.BatchN4 = nn.BatchNorm2d(16)\n",
        "\n",
        "      self.GBN4 = GhostBatchNorm(16,2)\n",
        "\n",
        "      # Convolution Block 3\n",
        "\n",
        "      self.Conv5 = nn.Sequential(\n",
        "          nn.Conv2d(in_channels=16, out_channels=16, kernel_size=(3, 3), padding=0, bias=False),\n",
        "          nn.ReLU()\n",
        "          \n",
        "      ) # ouput - 8\n",
        "\n",
        "      self.BatchN5 = nn.BatchNorm2d(16)\n",
        "\n",
        "      self.GBN5 = GhostBatchNorm(16,2)\n",
        "\n",
        "\n",
        "\n",
        "      # Convolution Block 4\n",
        "\n",
        "      self.Conv6 = nn.Sequential(\n",
        "          nn.Conv2d(in_channels=16, out_channels=16, kernel_size=(3, 3), padding=0, bias=False),\n",
        "          nn.ReLU(),\n",
        "          nn.BatchNorm2d(16)\n",
        "      ) # ouput - 6\n",
        "\n",
        "      self.BatchN6 = nn.BatchNorm2d(16)\n",
        "\n",
        "      self.GBN6 = GhostBatchNorm(16,2)\n",
        "\n",
        "      # Convolution Block 5\n",
        "\n",
        "      self.GAP = nn.Sequential(\n",
        "          nn.AvgPool2d(kernel_size=6)\n",
        "      ) # ouput - 1\n",
        "\n",
        "      # Convolution Block 6\n",
        "\n",
        "      self.Conv7 = nn.Sequential(\n",
        "          nn.Conv2d(in_channels=16, out_channels=10, kernel_size=(1, 1), padding=0, bias=False)\n",
        "        )\n",
        "\n",
        "  \n",
        "  def forward(self,x, Batch_Norm):\n",
        "        x = self.Conv1(x)\n",
        "        if Batch_Norm=='BN':\n",
        "          x = self.BatchN1(x)\n",
        "        else:\n",
        "          x = self.GBN1(x)\n",
        "        x = self.Conv2(x)\n",
        "        if Batch_Norm=='BN':\n",
        "          x = self.BatchN2(x)\n",
        "        else:\n",
        "          x = self.GBN2(x)\n",
        "        x = self.pool1(x)\n",
        "        x = self.Conv3(x)\n",
        "        if Batch_Norm=='BN':\n",
        "          x = self.BatchN3(x)\n",
        "        else:\n",
        "          x = self.GBN3(x)\n",
        "        x = self.Conv4(x)\n",
        "        if Batch_Norm=='BN':\n",
        "          x = self.BatchN4(x)\n",
        "        else:\n",
        "          x = self.GBN4(x)\n",
        "        x = self.Conv5(x)\n",
        "        if Batch_Norm=='BN':\n",
        "          x = self.BatchN5(x)\n",
        "        else:\n",
        "          x = self.GBN5(x)\n",
        "        x = self.Conv6(x)\n",
        "        if Batch_Norm=='BN':\n",
        "          x = self.BatchN6(x)\n",
        "        else:\n",
        "          x = self.GBN6(x)\n",
        "        x = self.GAP(x)\n",
        "        x = self.Conv7(x) \n",
        "  \n",
        "        x = x.view(-1, 10)\n",
        "        return F.log_softmax(x, dim=-1)"
      ],
      "execution_count": null,
      "outputs": []
    },
    {
      "cell_type": "markdown",
      "metadata": {
        "id": "zUSdTXgWJtuk",
        "colab_type": "text"
      },
      "source": [
        "#model Summary"
      ]
    },
    {
      "cell_type": "code",
      "metadata": {
        "id": "Zq1kLHuaJvNZ",
        "colab_type": "code",
        "colab": {}
      },
      "source": [
        "# print(device)\n",
        "# model = Net().to(device)\n",
        "\n",
        "# #lambda_l1 = 0\n",
        "# #lambda_l2 = 0\n",
        "# #Batch_Norm = \"BN\" #GBN\n",
        "\n",
        "# summary(model, input_size=(1, 28, 28))"
      ],
      "execution_count": null,
      "outputs": []
    },
    {
      "cell_type": "code",
      "metadata": {
        "id": "1ndWVtzdCp2G",
        "colab_type": "code",
        "colab": {}
      },
      "source": [
        ""
      ],
      "execution_count": null,
      "outputs": []
    },
    {
      "cell_type": "markdown",
      "metadata": {
        "id": "FYehcUHULrGS",
        "colab_type": "text"
      },
      "source": [
        "#Training"
      ]
    },
    {
      "cell_type": "code",
      "metadata": {
        "id": "XjLUSxWJLuSj",
        "colab_type": "code",
        "colab": {}
      },
      "source": [
        "from tqdm import tqdm\n",
        "\n",
        "\n",
        "\n",
        "def train(model, device, train_loader, optimizer, lambda_l1, Batch_Norm):\n",
        "  model.train()\n",
        "  pbar=tqdm(train_loader)\n",
        "  correct = 0\n",
        "  processed = 0\n",
        "\n",
        "  for batch_idx, (data, target) in enumerate(pbar):\n",
        "    data, target = data.to(device), target.to(device)\n",
        "\n",
        "    optimizer.zero_grad()\n",
        "    y_pred = model(data, Batch_Norm)\n",
        "    loss = F.nll_loss(y_pred, target)\n",
        "\n",
        "    # L1 Regularization\n",
        "\n",
        "    l1=0\n",
        "    for p in model.parameters():\n",
        "      l1=l1+p.abs().sum()\n",
        "    \n",
        "    loss=loss+lambda_l1*l1\n",
        "\n",
        "\n",
        "    loss.backward()\n",
        "    optimizer.step()\n",
        "\n",
        "    processed+=len(data)\n",
        "\n",
        "    pred = y_pred.argmax(dim=1, keepdim=True)\n",
        "    correct+=pred.eq(target.data.view_as(pred)).sum().item()\n",
        "    \n",
        "    pbar.set_description('Train: Batch id: {} \\tLoss: {:.6f}\\t Accuracy:{:.3f}'.format(\n",
        "        batch_idx, loss.item(),100*correct/processed))\n",
        "    \n",
        "    train_losses.append(loss.item())\n",
        "    train_acc.append(100*correct/processed)\n",
        "\n",
        "      #torch.save(network.state_dict(), '/results/model.pth')\n",
        "      #torch.save(optimizer.state_dict(), '/results/optimizer.pth')\n",
        "\n",
        "def test(model, device, test_loader, Batch_Norm):\n",
        "  model.eval()\n",
        "  test_loss=0\n",
        "  correct=0\n",
        "  with torch.no_grad():\n",
        "    for data, target in test_loader:\n",
        "      data, target = data.to(device), target.to(device)\n",
        "      output = model(data, Batch_Norm)\n",
        "      test_loss += F.nll_loss(output, target, reduction='sum').item()\n",
        "      pred = output.data.max(1, keepdim=True)[1]\n",
        "      correct += pred.eq(target.data.view_as(pred)).sum().item()\n",
        "\n",
        "  test_loss /= len(test_loader.dataset)\n",
        "  test_losses.append(test_loss)\n",
        "\n",
        "  print('\\nTest set: loss: {:.6f}, Accuracy: {}/{} ({:.3f}%)\\n'.format(\n",
        "    test_loss, correct, len(test_loader.dataset),\n",
        "    100. * correct / len(test_loader.dataset)))\n",
        "\n",
        "  test_acc.append(100. * correct / len(test_loader.dataset))\n",
        "\n",
        "\n"
      ],
      "execution_count": null,
      "outputs": []
    },
    {
      "cell_type": "code",
      "metadata": {
        "id": "zj1dUG9mhWia",
        "colab_type": "code",
        "colab": {}
      },
      "source": [
        "#Train Function\n",
        "def model_training(versions,lambda_l1,lambda_l2,Batch_Norm):\n",
        "\n",
        "  model = Net().to(device)\n",
        "\n",
        "  if Batch_Norm=='BN':\n",
        "    Batch_size = 128\n",
        "  else:\n",
        "    Batch_size = 32\n",
        "\n",
        "  dataloader_args= dict(shuffle=True, batch_size=Batch_size,num_workers=4, pin_memory=True ) if use_cuda else dict(shuffle=True, batch_size=Batch_size)\n",
        "\n",
        "  train_loader = torch.utils.data.DataLoader(train_dataset, **dataloader_args)\n",
        "\n",
        "  test_loader = torch.utils.data.DataLoader(test_dataset, **dataloader_args)\n",
        "  \n",
        "  \n",
        "  optimizer = optim.SGD(model.parameters(), lr=0.01, momentum=0.9, weight_decay=lambda_l2)\n",
        "  scheduler = optim.lr_scheduler.StepLR(optimizer, step_size=10, gamma=0.01)\n",
        "\n",
        "\n",
        "  EPOCHS = 25\n",
        "  for epoch in range(EPOCHS):\n",
        "      print(\"EPOCH:\", epoch)\n",
        "      train(model, device, train_loader, optimizer, lambda_l1, Batch_Norm)\n",
        "      scheduler.step()\n",
        "      test(model, device, test_loader, Batch_Norm)\n",
        "  \n",
        "  model_file = 'models/'+versions+'.pth'\n",
        "\n",
        "  torch.save(model.state_dict(), model_file)\n",
        "\n"
      ],
      "execution_count": null,
      "outputs": []
    },
    {
      "cell_type": "markdown",
      "metadata": {
        "id": "Qb51RorkPt0e",
        "colab_type": "text"
      },
      "source": [
        "## Loop to run all versions"
      ]
    },
    {
      "cell_type": "code",
      "metadata": {
        "id": "FcqR706nL-QR",
        "colab_type": "code",
        "colab": {
          "base_uri": "https://localhost:8080/",
          "height": 1000
        },
        "outputId": "2b9d9588-e776-4ed1-bdf4-d742be9bea89"
      },
      "source": [
        "\n",
        "import pandas as pd\n",
        "%pdb on\n",
        "\n",
        "model_hyperparams = {\n",
        "    'L1+BN':{'lambda_l1':0.01,'lambda_l2':0,'Batch_Norm':\"BN\"},\n",
        "    'L2+BN':{'lambda_l1':0,'lambda_l2':0.01,'Batch_Norm':\"BN\"},\n",
        "    'L1+L2+BN':{'lambda_l1':0.01,'lambda_l2':0.01,'Batch_Norm':\"BN\"},\n",
        "    'GBN':{'lambda_l1':0,'lambda_l2':0,'Batch_Norm':\"GBN\"},\n",
        "    'L1+L2+GBN':{'lambda_l1':0.01,'lambda_l2':0.01,'Batch_Norm':\"GBN\"}\n",
        "}\n",
        "\n",
        "\n",
        "train_acc_df = pd.DataFrame()\n",
        "train_loss_df = pd.DataFrame()\n",
        "val_acc=pd.DataFrame()\n",
        "val_loss=pd.DataFrame()\n",
        "\n",
        "\n",
        "\n",
        "for versions in model_hyperparams.keys():\n",
        "  \n",
        "  train_losses = []\n",
        "  test_losses = []\n",
        "  train_acc = []\n",
        "  test_acc = []\n",
        "\n",
        "  print(versions)\n",
        "  model_training(versions,**model_hyperparams[versions])\n",
        "  val_acc[versions]=pd.Series(test_acc)\n",
        "  val_loss[versions]=pd.Series(test_losses)\n",
        "  train_acc_df[versions] = pd.Series(train_acc)\n",
        "  train_loss_df[versions] = pd.Series(train_losses)\n",
        "\n",
        "\n"
      ],
      "execution_count": null,
      "outputs": [
        {
          "output_type": "stream",
          "text": [
            "Automatic pdb calling has been turned ON\n",
            "L1+BN\n"
          ],
          "name": "stdout"
        },
        {
          "output_type": "stream",
          "text": [
            "\r  0%|          | 0/469 [00:00<?, ?it/s]"
          ],
          "name": "stderr"
        },
        {
          "output_type": "stream",
          "text": [
            "EPOCH: 0\n"
          ],
          "name": "stdout"
        },
        {
          "output_type": "stream",
          "text": [
            "Train: Batch id: 468 \tLoss: 2.251156\t Accuracy:88.123: 100%|██████████| 469/469 [00:18<00:00, 24.72it/s]\n",
            "  0%|          | 0/469 [00:00<?, ?it/s]"
          ],
          "name": "stderr"
        },
        {
          "output_type": "stream",
          "text": [
            "\n",
            "Test set: loss: 0.534205, Accuracy: 8267/10000 (82.670%)\n",
            "\n",
            "EPOCH: 1\n"
          ],
          "name": "stdout"
        },
        {
          "output_type": "stream",
          "text": [
            "Train: Batch id: 468 \tLoss: 1.375209\t Accuracy:94.252: 100%|██████████| 469/469 [00:18<00:00, 24.84it/s]\n",
            "  0%|          | 0/469 [00:00<?, ?it/s]"
          ],
          "name": "stderr"
        },
        {
          "output_type": "stream",
          "text": [
            "\n",
            "Test set: loss: 0.773011, Accuracy: 7508/10000 (75.080%)\n",
            "\n",
            "EPOCH: 2\n"
          ],
          "name": "stdout"
        },
        {
          "output_type": "stream",
          "text": [
            "Train: Batch id: 468 \tLoss: 1.111422\t Accuracy:94.075: 100%|██████████| 469/469 [00:18<00:00, 24.70it/s]\n",
            "  0%|          | 0/469 [00:00<?, ?it/s]"
          ],
          "name": "stderr"
        },
        {
          "output_type": "stream",
          "text": [
            "\n",
            "Test set: loss: 0.680455, Accuracy: 8119/10000 (81.190%)\n",
            "\n",
            "EPOCH: 3\n"
          ],
          "name": "stdout"
        },
        {
          "output_type": "stream",
          "text": [
            "Train: Batch id: 468 \tLoss: 1.176999\t Accuracy:93.865: 100%|██████████| 469/469 [00:18<00:00, 25.12it/s]\n",
            "  0%|          | 0/469 [00:00<?, ?it/s]"
          ],
          "name": "stderr"
        },
        {
          "output_type": "stream",
          "text": [
            "\n",
            "Test set: loss: 0.863127, Accuracy: 7210/10000 (72.100%)\n",
            "\n",
            "EPOCH: 4\n"
          ],
          "name": "stdout"
        },
        {
          "output_type": "stream",
          "text": [
            "Train: Batch id: 468 \tLoss: 1.112655\t Accuracy:93.907: 100%|██████████| 469/469 [00:18<00:00, 24.84it/s]\n",
            "  0%|          | 0/469 [00:00<?, ?it/s]"
          ],
          "name": "stderr"
        },
        {
          "output_type": "stream",
          "text": [
            "\n",
            "Test set: loss: 4.256585, Accuracy: 2854/10000 (28.540%)\n",
            "\n",
            "EPOCH: 5\n"
          ],
          "name": "stdout"
        },
        {
          "output_type": "stream",
          "text": [
            "Train: Batch id: 468 \tLoss: 1.070271\t Accuracy:94.210: 100%|██████████| 469/469 [00:18<00:00, 25.19it/s]\n",
            "  0%|          | 0/469 [00:00<?, ?it/s]"
          ],
          "name": "stderr"
        },
        {
          "output_type": "stream",
          "text": [
            "\n",
            "Test set: loss: 0.922451, Accuracy: 7226/10000 (72.260%)\n",
            "\n",
            "EPOCH: 6\n"
          ],
          "name": "stdout"
        },
        {
          "output_type": "stream",
          "text": [
            "Train: Batch id: 468 \tLoss: 1.144108\t Accuracy:94.153: 100%|██████████| 469/469 [00:18<00:00, 25.13it/s]\n",
            "  0%|          | 0/469 [00:00<?, ?it/s]"
          ],
          "name": "stderr"
        },
        {
          "output_type": "stream",
          "text": [
            "\n",
            "Test set: loss: 0.670125, Accuracy: 7604/10000 (76.040%)\n",
            "\n",
            "EPOCH: 7\n"
          ],
          "name": "stdout"
        },
        {
          "output_type": "stream",
          "text": [
            "Train: Batch id: 468 \tLoss: 1.031954\t Accuracy:93.882: 100%|██████████| 469/469 [00:18<00:00, 25.55it/s]\n",
            "  0%|          | 0/469 [00:00<?, ?it/s]"
          ],
          "name": "stderr"
        },
        {
          "output_type": "stream",
          "text": [
            "\n",
            "Test set: loss: 0.636752, Accuracy: 8161/10000 (81.610%)\n",
            "\n",
            "EPOCH: 8\n"
          ],
          "name": "stdout"
        },
        {
          "output_type": "stream",
          "text": [
            "Train: Batch id: 468 \tLoss: 1.066455\t Accuracy:94.180: 100%|██████████| 469/469 [00:18<00:00, 25.55it/s]\n",
            "  0%|          | 0/469 [00:00<?, ?it/s]"
          ],
          "name": "stderr"
        },
        {
          "output_type": "stream",
          "text": [
            "\n",
            "Test set: loss: 0.569369, Accuracy: 8290/10000 (82.900%)\n",
            "\n",
            "EPOCH: 9\n"
          ],
          "name": "stdout"
        },
        {
          "output_type": "stream",
          "text": [
            "Train: Batch id: 468 \tLoss: 1.053318\t Accuracy:94.022: 100%|██████████| 469/469 [00:18<00:00, 24.97it/s]\n",
            "  0%|          | 0/469 [00:00<?, ?it/s]"
          ],
          "name": "stderr"
        },
        {
          "output_type": "stream",
          "text": [
            "\n",
            "Test set: loss: 1.026031, Accuracy: 6886/10000 (68.860%)\n",
            "\n",
            "EPOCH: 10\n"
          ],
          "name": "stdout"
        },
        {
          "output_type": "stream",
          "text": [
            "Train: Batch id: 468 \tLoss: 0.876819\t Accuracy:96.942: 100%|██████████| 469/469 [00:18<00:00, 24.97it/s]\n",
            "  0%|          | 0/469 [00:00<?, ?it/s]"
          ],
          "name": "stderr"
        },
        {
          "output_type": "stream",
          "text": [
            "\n",
            "Test set: loss: 0.086770, Accuracy: 9797/10000 (97.970%)\n",
            "\n",
            "EPOCH: 11\n"
          ],
          "name": "stdout"
        },
        {
          "output_type": "stream",
          "text": [
            "Train: Batch id: 468 \tLoss: 0.780780\t Accuracy:97.518: 100%|██████████| 469/469 [00:18<00:00, 25.50it/s]\n",
            "  0%|          | 0/469 [00:00<?, ?it/s]"
          ],
          "name": "stderr"
        },
        {
          "output_type": "stream",
          "text": [
            "\n",
            "Test set: loss: 0.083794, Accuracy: 9811/10000 (98.110%)\n",
            "\n",
            "EPOCH: 12\n"
          ],
          "name": "stdout"
        },
        {
          "output_type": "stream",
          "text": [
            "Train: Batch id: 468 \tLoss: 0.711486\t Accuracy:97.658: 100%|██████████| 469/469 [00:18<00:00, 25.09it/s]\n",
            "  0%|          | 0/469 [00:00<?, ?it/s]"
          ],
          "name": "stderr"
        },
        {
          "output_type": "stream",
          "text": [
            "\n",
            "Test set: loss: 0.081516, Accuracy: 9810/10000 (98.100%)\n",
            "\n",
            "EPOCH: 13\n"
          ],
          "name": "stdout"
        },
        {
          "output_type": "stream",
          "text": [
            "Train: Batch id: 468 \tLoss: 0.729220\t Accuracy:97.722: 100%|██████████| 469/469 [00:19<00:00, 24.60it/s]\n",
            "  0%|          | 0/469 [00:00<?, ?it/s]"
          ],
          "name": "stderr"
        },
        {
          "output_type": "stream",
          "text": [
            "\n",
            "Test set: loss: 0.078804, Accuracy: 9822/10000 (98.220%)\n",
            "\n",
            "EPOCH: 14\n"
          ],
          "name": "stdout"
        },
        {
          "output_type": "stream",
          "text": [
            "Train: Batch id: 468 \tLoss: 0.689615\t Accuracy:97.830: 100%|██████████| 469/469 [00:18<00:00, 24.82it/s]\n",
            "  0%|          | 0/469 [00:00<?, ?it/s]"
          ],
          "name": "stderr"
        },
        {
          "output_type": "stream",
          "text": [
            "\n",
            "Test set: loss: 0.077504, Accuracy: 9817/10000 (98.170%)\n",
            "\n",
            "EPOCH: 15\n"
          ],
          "name": "stdout"
        },
        {
          "output_type": "stream",
          "text": [
            "Train: Batch id: 468 \tLoss: 0.752219\t Accuracy:97.862: 100%|██████████| 469/469 [00:18<00:00, 24.89it/s]\n",
            "  0%|          | 0/469 [00:00<?, ?it/s]"
          ],
          "name": "stderr"
        },
        {
          "output_type": "stream",
          "text": [
            "\n",
            "Test set: loss: 0.082775, Accuracy: 9820/10000 (98.200%)\n",
            "\n",
            "EPOCH: 16\n"
          ],
          "name": "stdout"
        },
        {
          "output_type": "stream",
          "text": [
            "Train: Batch id: 468 \tLoss: 0.673746\t Accuracy:97.832: 100%|██████████| 469/469 [00:18<00:00, 25.08it/s]\n",
            "  0%|          | 0/469 [00:00<?, ?it/s]"
          ],
          "name": "stderr"
        },
        {
          "output_type": "stream",
          "text": [
            "\n",
            "Test set: loss: 0.079158, Accuracy: 9831/10000 (98.310%)\n",
            "\n",
            "EPOCH: 17\n"
          ],
          "name": "stdout"
        },
        {
          "output_type": "stream",
          "text": [
            "Train: Batch id: 468 \tLoss: 0.622342\t Accuracy:97.847: 100%|██████████| 469/469 [00:18<00:00, 24.69it/s]\n",
            "  0%|          | 0/469 [00:00<?, ?it/s]"
          ],
          "name": "stderr"
        },
        {
          "output_type": "stream",
          "text": [
            "\n",
            "Test set: loss: 0.082525, Accuracy: 9808/10000 (98.080%)\n",
            "\n",
            "EPOCH: 18\n"
          ],
          "name": "stdout"
        },
        {
          "output_type": "stream",
          "text": [
            "Train: Batch id: 468 \tLoss: 0.646180\t Accuracy:97.862: 100%|██████████| 469/469 [00:19<00:00, 24.40it/s]\n",
            "  0%|          | 0/469 [00:00<?, ?it/s]"
          ],
          "name": "stderr"
        },
        {
          "output_type": "stream",
          "text": [
            "\n",
            "Test set: loss: 0.077643, Accuracy: 9826/10000 (98.260%)\n",
            "\n",
            "EPOCH: 19\n"
          ],
          "name": "stdout"
        },
        {
          "output_type": "stream",
          "text": [
            "Train: Batch id: 468 \tLoss: 0.609227\t Accuracy:97.918: 100%|██████████| 469/469 [00:18<00:00, 24.94it/s]\n",
            "  0%|          | 0/469 [00:00<?, ?it/s]"
          ],
          "name": "stderr"
        },
        {
          "output_type": "stream",
          "text": [
            "\n",
            "Test set: loss: 0.082316, Accuracy: 9803/10000 (98.030%)\n",
            "\n",
            "EPOCH: 20\n"
          ],
          "name": "stdout"
        },
        {
          "output_type": "stream",
          "text": [
            "Train: Batch id: 468 \tLoss: 0.658004\t Accuracy:97.988: 100%|██████████| 469/469 [00:18<00:00, 25.17it/s]\n",
            "  0%|          | 0/469 [00:00<?, ?it/s]"
          ],
          "name": "stderr"
        },
        {
          "output_type": "stream",
          "text": [
            "\n",
            "Test set: loss: 0.070466, Accuracy: 9836/10000 (98.360%)\n",
            "\n",
            "EPOCH: 21\n"
          ],
          "name": "stdout"
        },
        {
          "output_type": "stream",
          "text": [
            "Train: Batch id: 468 \tLoss: 0.644626\t Accuracy:98.118: 100%|██████████| 469/469 [00:18<00:00, 25.08it/s]\n",
            "  0%|          | 0/469 [00:00<?, ?it/s]"
          ],
          "name": "stderr"
        },
        {
          "output_type": "stream",
          "text": [
            "\n",
            "Test set: loss: 0.069047, Accuracy: 9842/10000 (98.420%)\n",
            "\n",
            "EPOCH: 22\n"
          ],
          "name": "stdout"
        },
        {
          "output_type": "stream",
          "text": [
            "Train: Batch id: 468 \tLoss: 0.569063\t Accuracy:98.057: 100%|██████████| 469/469 [00:18<00:00, 25.00it/s]\n",
            "  0%|          | 0/469 [00:00<?, ?it/s]"
          ],
          "name": "stderr"
        },
        {
          "output_type": "stream",
          "text": [
            "\n",
            "Test set: loss: 0.068315, Accuracy: 9848/10000 (98.480%)\n",
            "\n",
            "EPOCH: 23\n"
          ],
          "name": "stdout"
        },
        {
          "output_type": "stream",
          "text": [
            "Train: Batch id: 468 \tLoss: 0.680656\t Accuracy:98.120: 100%|██████████| 469/469 [00:18<00:00, 25.01it/s]\n",
            "  0%|          | 0/469 [00:00<?, ?it/s]"
          ],
          "name": "stderr"
        },
        {
          "output_type": "stream",
          "text": [
            "\n",
            "Test set: loss: 0.068344, Accuracy: 9847/10000 (98.470%)\n",
            "\n",
            "EPOCH: 24\n"
          ],
          "name": "stdout"
        },
        {
          "output_type": "stream",
          "text": [
            "Train: Batch id: 468 \tLoss: 0.586016\t Accuracy:98.112: 100%|██████████| 469/469 [00:18<00:00, 25.16it/s]\n",
            "  0%|          | 0/469 [00:00<?, ?it/s]"
          ],
          "name": "stderr"
        },
        {
          "output_type": "stream",
          "text": [
            "\n",
            "Test set: loss: 0.067792, Accuracy: 9849/10000 (98.490%)\n",
            "\n",
            "L2+BN\n",
            "EPOCH: 0\n"
          ],
          "name": "stdout"
        },
        {
          "output_type": "stream",
          "text": [
            "Train: Batch id: 468 \tLoss: 0.169114\t Accuracy:87.055: 100%|██████████| 469/469 [00:19<00:00, 24.17it/s]\n",
            "  0%|          | 0/469 [00:00<?, ?it/s]"
          ],
          "name": "stderr"
        },
        {
          "output_type": "stream",
          "text": [
            "\n",
            "Test set: loss: 0.148401, Accuracy: 9748/10000 (97.480%)\n",
            "\n",
            "EPOCH: 1\n"
          ],
          "name": "stdout"
        },
        {
          "output_type": "stream",
          "text": [
            "Train: Batch id: 468 \tLoss: 0.110208\t Accuracy:97.893: 100%|██████████| 469/469 [00:19<00:00, 24.28it/s]\n",
            "  0%|          | 0/469 [00:00<?, ?it/s]"
          ],
          "name": "stderr"
        },
        {
          "output_type": "stream",
          "text": [
            "\n",
            "Test set: loss: 0.126639, Accuracy: 9800/10000 (98.000%)\n",
            "\n",
            "EPOCH: 2\n"
          ],
          "name": "stdout"
        },
        {
          "output_type": "stream",
          "text": [
            "Train: Batch id: 468 \tLoss: 0.104643\t Accuracy:98.220: 100%|██████████| 469/469 [00:19<00:00, 24.54it/s]\n",
            "  0%|          | 0/469 [00:00<?, ?it/s]"
          ],
          "name": "stderr"
        },
        {
          "output_type": "stream",
          "text": [
            "\n",
            "Test set: loss: 0.127988, Accuracy: 9818/10000 (98.180%)\n",
            "\n",
            "EPOCH: 3\n"
          ],
          "name": "stdout"
        },
        {
          "output_type": "stream",
          "text": [
            "Train: Batch id: 468 \tLoss: 0.085157\t Accuracy:98.373: 100%|██████████| 469/469 [00:18<00:00, 25.23it/s]\n",
            "  0%|          | 0/469 [00:00<?, ?it/s]"
          ],
          "name": "stderr"
        },
        {
          "output_type": "stream",
          "text": [
            "\n",
            "Test set: loss: 0.107981, Accuracy: 9864/10000 (98.640%)\n",
            "\n",
            "EPOCH: 4\n"
          ],
          "name": "stdout"
        },
        {
          "output_type": "stream",
          "text": [
            "Train: Batch id: 468 \tLoss: 0.105207\t Accuracy:98.362: 100%|██████████| 469/469 [00:19<00:00, 24.23it/s]\n",
            "  0%|          | 0/469 [00:00<?, ?it/s]"
          ],
          "name": "stderr"
        },
        {
          "output_type": "stream",
          "text": [
            "\n",
            "Test set: loss: 0.116237, Accuracy: 9835/10000 (98.350%)\n",
            "\n",
            "EPOCH: 5\n"
          ],
          "name": "stdout"
        },
        {
          "output_type": "stream",
          "text": [
            "Train: Batch id: 468 \tLoss: 0.077547\t Accuracy:98.358: 100%|██████████| 469/469 [00:18<00:00, 24.84it/s]\n",
            "  0%|          | 0/469 [00:00<?, ?it/s]"
          ],
          "name": "stderr"
        },
        {
          "output_type": "stream",
          "text": [
            "\n",
            "Test set: loss: 0.117814, Accuracy: 9807/10000 (98.070%)\n",
            "\n",
            "EPOCH: 6\n"
          ],
          "name": "stdout"
        },
        {
          "output_type": "stream",
          "text": [
            "Train: Batch id: 468 \tLoss: 0.123869\t Accuracy:98.453: 100%|██████████| 469/469 [00:19<00:00, 24.58it/s]\n",
            "  0%|          | 0/469 [00:00<?, ?it/s]"
          ],
          "name": "stderr"
        },
        {
          "output_type": "stream",
          "text": [
            "\n",
            "Test set: loss: 0.108729, Accuracy: 9820/10000 (98.200%)\n",
            "\n",
            "EPOCH: 7\n"
          ],
          "name": "stdout"
        },
        {
          "output_type": "stream",
          "text": [
            "Train: Batch id: 468 \tLoss: 0.125677\t Accuracy:98.423: 100%|██████████| 469/469 [00:19<00:00, 24.67it/s]\n",
            "  0%|          | 0/469 [00:00<?, ?it/s]"
          ],
          "name": "stderr"
        },
        {
          "output_type": "stream",
          "text": [
            "\n",
            "Test set: loss: 0.208563, Accuracy: 9542/10000 (95.420%)\n",
            "\n",
            "EPOCH: 8\n"
          ],
          "name": "stdout"
        },
        {
          "output_type": "stream",
          "text": [
            "Train: Batch id: 468 \tLoss: 0.091939\t Accuracy:98.457: 100%|██████████| 469/469 [00:19<00:00, 24.28it/s]\n",
            "  0%|          | 0/469 [00:00<?, ?it/s]"
          ],
          "name": "stderr"
        },
        {
          "output_type": "stream",
          "text": [
            "\n",
            "Test set: loss: 0.145065, Accuracy: 9733/10000 (97.330%)\n",
            "\n",
            "EPOCH: 9\n"
          ],
          "name": "stdout"
        },
        {
          "output_type": "stream",
          "text": [
            "Train: Batch id: 468 \tLoss: 0.102839\t Accuracy:98.455: 100%|██████████| 469/469 [00:18<00:00, 24.97it/s]\n",
            "  0%|          | 0/469 [00:00<?, ?it/s]"
          ],
          "name": "stderr"
        },
        {
          "output_type": "stream",
          "text": [
            "\n",
            "Test set: loss: 0.112671, Accuracy: 9791/10000 (97.910%)\n",
            "\n",
            "EPOCH: 10\n"
          ],
          "name": "stdout"
        },
        {
          "output_type": "stream",
          "text": [
            "Train: Batch id: 468 \tLoss: 0.115832\t Accuracy:98.923: 100%|██████████| 469/469 [00:19<00:00, 23.99it/s]\n",
            "  0%|          | 0/469 [00:00<?, ?it/s]"
          ],
          "name": "stderr"
        },
        {
          "output_type": "stream",
          "text": [
            "\n",
            "Test set: loss: 0.062497, Accuracy: 9921/10000 (99.210%)\n",
            "\n",
            "EPOCH: 11\n"
          ],
          "name": "stdout"
        },
        {
          "output_type": "stream",
          "text": [
            "Train: Batch id: 468 \tLoss: 0.098652\t Accuracy:99.073: 100%|██████████| 469/469 [00:18<00:00, 25.18it/s]\n",
            "  0%|          | 0/469 [00:00<?, ?it/s]"
          ],
          "name": "stderr"
        },
        {
          "output_type": "stream",
          "text": [
            "\n",
            "Test set: loss: 0.061046, Accuracy: 9919/10000 (99.190%)\n",
            "\n",
            "EPOCH: 12\n"
          ],
          "name": "stdout"
        },
        {
          "output_type": "stream",
          "text": [
            "Train: Batch id: 468 \tLoss: 0.048906\t Accuracy:99.082: 100%|██████████| 469/469 [00:19<00:00, 24.44it/s]\n",
            "  0%|          | 0/469 [00:00<?, ?it/s]"
          ],
          "name": "stderr"
        },
        {
          "output_type": "stream",
          "text": [
            "\n",
            "Test set: loss: 0.060846, Accuracy: 9915/10000 (99.150%)\n",
            "\n",
            "EPOCH: 13\n"
          ],
          "name": "stdout"
        },
        {
          "output_type": "stream",
          "text": [
            "Train: Batch id: 468 \tLoss: 0.091794\t Accuracy:99.118: 100%|██████████| 469/469 [00:19<00:00, 24.63it/s]\n",
            "  0%|          | 0/469 [00:00<?, ?it/s]"
          ],
          "name": "stderr"
        },
        {
          "output_type": "stream",
          "text": [
            "\n",
            "Test set: loss: 0.059301, Accuracy: 9920/10000 (99.200%)\n",
            "\n",
            "EPOCH: 14\n"
          ],
          "name": "stdout"
        },
        {
          "output_type": "stream",
          "text": [
            "Train: Batch id: 468 \tLoss: 0.076861\t Accuracy:99.130: 100%|██████████| 469/469 [00:18<00:00, 24.82it/s]\n",
            "  0%|          | 0/469 [00:00<?, ?it/s]"
          ],
          "name": "stderr"
        },
        {
          "output_type": "stream",
          "text": [
            "\n",
            "Test set: loss: 0.058617, Accuracy: 9921/10000 (99.210%)\n",
            "\n",
            "EPOCH: 15\n"
          ],
          "name": "stdout"
        },
        {
          "output_type": "stream",
          "text": [
            "Train: Batch id: 468 \tLoss: 0.040583\t Accuracy:99.170: 100%|██████████| 469/469 [00:19<00:00, 24.40it/s]\n",
            "  0%|          | 0/469 [00:00<?, ?it/s]"
          ],
          "name": "stderr"
        },
        {
          "output_type": "stream",
          "text": [
            "\n",
            "Test set: loss: 0.059164, Accuracy: 9922/10000 (99.220%)\n",
            "\n",
            "EPOCH: 16\n"
          ],
          "name": "stdout"
        },
        {
          "output_type": "stream",
          "text": [
            "Train: Batch id: 468 \tLoss: 0.044028\t Accuracy:99.185: 100%|██████████| 469/469 [00:19<00:00, 24.23it/s]\n",
            "  0%|          | 0/469 [00:00<?, ?it/s]"
          ],
          "name": "stderr"
        },
        {
          "output_type": "stream",
          "text": [
            "\n",
            "Test set: loss: 0.059520, Accuracy: 9919/10000 (99.190%)\n",
            "\n",
            "EPOCH: 17\n"
          ],
          "name": "stdout"
        },
        {
          "output_type": "stream",
          "text": [
            "Train: Batch id: 468 \tLoss: 0.086273\t Accuracy:99.192: 100%|██████████| 469/469 [00:18<00:00, 25.41it/s]\n",
            "  0%|          | 0/469 [00:00<?, ?it/s]"
          ],
          "name": "stderr"
        },
        {
          "output_type": "stream",
          "text": [
            "\n",
            "Test set: loss: 0.058218, Accuracy: 9923/10000 (99.230%)\n",
            "\n",
            "EPOCH: 18\n"
          ],
          "name": "stdout"
        },
        {
          "output_type": "stream",
          "text": [
            "Train: Batch id: 468 \tLoss: 0.087130\t Accuracy:99.183: 100%|██████████| 469/469 [00:18<00:00, 24.74it/s]\n",
            "  0%|          | 0/469 [00:00<?, ?it/s]"
          ],
          "name": "stderr"
        },
        {
          "output_type": "stream",
          "text": [
            "\n",
            "Test set: loss: 0.058495, Accuracy: 9927/10000 (99.270%)\n",
            "\n",
            "EPOCH: 19\n"
          ],
          "name": "stdout"
        },
        {
          "output_type": "stream",
          "text": [
            "Train: Batch id: 468 \tLoss: 0.088896\t Accuracy:99.200: 100%|██████████| 469/469 [00:19<00:00, 24.67it/s]\n",
            "  0%|          | 0/469 [00:00<?, ?it/s]"
          ],
          "name": "stderr"
        },
        {
          "output_type": "stream",
          "text": [
            "\n",
            "Test set: loss: 0.058357, Accuracy: 9929/10000 (99.290%)\n",
            "\n",
            "EPOCH: 20\n"
          ],
          "name": "stdout"
        },
        {
          "output_type": "stream",
          "text": [
            "Train: Batch id: 468 \tLoss: 0.104807\t Accuracy:99.203: 100%|██████████| 469/469 [00:18<00:00, 24.74it/s]\n",
            "  0%|          | 0/469 [00:00<?, ?it/s]"
          ],
          "name": "stderr"
        },
        {
          "output_type": "stream",
          "text": [
            "\n",
            "Test set: loss: 0.058300, Accuracy: 9928/10000 (99.280%)\n",
            "\n",
            "EPOCH: 21\n"
          ],
          "name": "stdout"
        },
        {
          "output_type": "stream",
          "text": [
            "Train: Batch id: 468 \tLoss: 0.067718\t Accuracy:99.203: 100%|██████████| 469/469 [00:18<00:00, 24.87it/s]\n",
            "  0%|          | 0/469 [00:00<?, ?it/s]"
          ],
          "name": "stderr"
        },
        {
          "output_type": "stream",
          "text": [
            "\n",
            "Test set: loss: 0.058535, Accuracy: 9929/10000 (99.290%)\n",
            "\n",
            "EPOCH: 22\n"
          ],
          "name": "stdout"
        },
        {
          "output_type": "stream",
          "text": [
            "Train: Batch id: 468 \tLoss: 0.050593\t Accuracy:99.235: 100%|██████████| 469/469 [00:18<00:00, 24.88it/s]\n",
            "  0%|          | 0/469 [00:00<?, ?it/s]"
          ],
          "name": "stderr"
        },
        {
          "output_type": "stream",
          "text": [
            "\n",
            "Test set: loss: 0.058195, Accuracy: 9931/10000 (99.310%)\n",
            "\n",
            "EPOCH: 23\n"
          ],
          "name": "stdout"
        },
        {
          "output_type": "stream",
          "text": [
            "Train: Batch id: 468 \tLoss: 0.073199\t Accuracy:99.197: 100%|██████████| 469/469 [00:19<00:00, 24.26it/s]\n",
            "  0%|          | 0/469 [00:00<?, ?it/s]"
          ],
          "name": "stderr"
        },
        {
          "output_type": "stream",
          "text": [
            "\n",
            "Test set: loss: 0.058621, Accuracy: 9928/10000 (99.280%)\n",
            "\n",
            "EPOCH: 24\n"
          ],
          "name": "stdout"
        },
        {
          "output_type": "stream",
          "text": [
            "Train: Batch id: 468 \tLoss: 0.059982\t Accuracy:99.187: 100%|██████████| 469/469 [00:19<00:00, 24.47it/s]\n",
            "  0%|          | 0/469 [00:00<?, ?it/s]"
          ],
          "name": "stderr"
        },
        {
          "output_type": "stream",
          "text": [
            "\n",
            "Test set: loss: 0.059610, Accuracy: 9924/10000 (99.240%)\n",
            "\n",
            "L1+L2+BN\n",
            "EPOCH: 0\n"
          ],
          "name": "stdout"
        },
        {
          "output_type": "stream",
          "text": [
            "Train: Batch id: 468 \tLoss: 1.709581\t Accuracy:87.590: 100%|██████████| 469/469 [00:19<00:00, 24.29it/s]\n",
            "  0%|          | 0/469 [00:00<?, ?it/s]"
          ],
          "name": "stderr"
        },
        {
          "output_type": "stream",
          "text": [
            "\n",
            "Test set: loss: 0.610013, Accuracy: 9105/10000 (91.050%)\n",
            "\n",
            "EPOCH: 1\n"
          ],
          "name": "stdout"
        },
        {
          "output_type": "stream",
          "text": [
            "Train: Batch id: 468 \tLoss: 1.172979\t Accuracy:93.470: 100%|██████████| 469/469 [00:19<00:00, 24.01it/s]\n",
            "  0%|          | 0/469 [00:00<?, ?it/s]"
          ],
          "name": "stderr"
        },
        {
          "output_type": "stream",
          "text": [
            "\n",
            "Test set: loss: 0.862384, Accuracy: 7177/10000 (71.770%)\n",
            "\n",
            "EPOCH: 2\n"
          ],
          "name": "stdout"
        },
        {
          "output_type": "stream",
          "text": [
            "Train: Batch id: 468 \tLoss: 1.120094\t Accuracy:93.735: 100%|██████████| 469/469 [00:19<00:00, 23.95it/s]\n",
            "  0%|          | 0/469 [00:00<?, ?it/s]"
          ],
          "name": "stderr"
        },
        {
          "output_type": "stream",
          "text": [
            "\n",
            "Test set: loss: 0.525562, Accuracy: 8734/10000 (87.340%)\n",
            "\n",
            "EPOCH: 3\n"
          ],
          "name": "stdout"
        },
        {
          "output_type": "stream",
          "text": [
            "Train: Batch id: 468 \tLoss: 1.023947\t Accuracy:93.487: 100%|██████████| 469/469 [00:19<00:00, 23.46it/s]\n",
            "  0%|          | 0/469 [00:00<?, ?it/s]"
          ],
          "name": "stderr"
        },
        {
          "output_type": "stream",
          "text": [
            "\n",
            "Test set: loss: 1.061505, Accuracy: 7095/10000 (70.950%)\n",
            "\n",
            "EPOCH: 4\n"
          ],
          "name": "stdout"
        },
        {
          "output_type": "stream",
          "text": [
            "Train: Batch id: 468 \tLoss: 1.157671\t Accuracy:93.493: 100%|██████████| 469/469 [00:19<00:00, 23.87it/s]\n",
            "  0%|          | 0/469 [00:00<?, ?it/s]"
          ],
          "name": "stderr"
        },
        {
          "output_type": "stream",
          "text": [
            "\n",
            "Test set: loss: 0.507956, Accuracy: 8796/10000 (87.960%)\n",
            "\n",
            "EPOCH: 5\n"
          ],
          "name": "stdout"
        },
        {
          "output_type": "stream",
          "text": [
            "Train: Batch id: 468 \tLoss: 1.089094\t Accuracy:93.387: 100%|██████████| 469/469 [00:19<00:00, 24.29it/s]\n",
            "  0%|          | 0/469 [00:00<?, ?it/s]"
          ],
          "name": "stderr"
        },
        {
          "output_type": "stream",
          "text": [
            "\n",
            "Test set: loss: 0.849955, Accuracy: 7730/10000 (77.300%)\n",
            "\n",
            "EPOCH: 6\n"
          ],
          "name": "stdout"
        },
        {
          "output_type": "stream",
          "text": [
            "Train: Batch id: 468 \tLoss: 1.123147\t Accuracy:93.413: 100%|██████████| 469/469 [00:19<00:00, 24.53it/s]\n",
            "  0%|          | 0/469 [00:00<?, ?it/s]"
          ],
          "name": "stderr"
        },
        {
          "output_type": "stream",
          "text": [
            "\n",
            "Test set: loss: 1.509862, Accuracy: 4921/10000 (49.210%)\n",
            "\n",
            "EPOCH: 7\n"
          ],
          "name": "stdout"
        },
        {
          "output_type": "stream",
          "text": [
            "Train: Batch id: 468 \tLoss: 0.970571\t Accuracy:93.620: 100%|██████████| 469/469 [00:19<00:00, 24.36it/s]\n",
            "  0%|          | 0/469 [00:00<?, ?it/s]"
          ],
          "name": "stderr"
        },
        {
          "output_type": "stream",
          "text": [
            "\n",
            "Test set: loss: 0.698328, Accuracy: 7793/10000 (77.930%)\n",
            "\n",
            "EPOCH: 8\n"
          ],
          "name": "stdout"
        },
        {
          "output_type": "stream",
          "text": [
            "Train: Batch id: 468 \tLoss: 1.007012\t Accuracy:93.540: 100%|██████████| 469/469 [00:19<00:00, 24.57it/s]\n",
            "  0%|          | 0/469 [00:00<?, ?it/s]"
          ],
          "name": "stderr"
        },
        {
          "output_type": "stream",
          "text": [
            "\n",
            "Test set: loss: 0.799292, Accuracy: 7372/10000 (73.720%)\n",
            "\n",
            "EPOCH: 9\n"
          ],
          "name": "stdout"
        },
        {
          "output_type": "stream",
          "text": [
            "Train: Batch id: 468 \tLoss: 0.990793\t Accuracy:93.638: 100%|██████████| 469/469 [00:18<00:00, 25.10it/s]\n",
            "  0%|          | 0/469 [00:00<?, ?it/s]"
          ],
          "name": "stderr"
        },
        {
          "output_type": "stream",
          "text": [
            "\n",
            "Test set: loss: 0.997727, Accuracy: 7223/10000 (72.230%)\n",
            "\n",
            "EPOCH: 10\n"
          ],
          "name": "stdout"
        },
        {
          "output_type": "stream",
          "text": [
            "Train: Batch id: 468 \tLoss: 0.829890\t Accuracy:96.440: 100%|██████████| 469/469 [00:19<00:00, 23.90it/s]\n",
            "  0%|          | 0/469 [00:00<?, ?it/s]"
          ],
          "name": "stderr"
        },
        {
          "output_type": "stream",
          "text": [
            "\n",
            "Test set: loss: 0.146595, Accuracy: 9770/10000 (97.700%)\n",
            "\n",
            "EPOCH: 11\n"
          ],
          "name": "stdout"
        },
        {
          "output_type": "stream",
          "text": [
            "Train: Batch id: 468 \tLoss: 0.790595\t Accuracy:97.028: 100%|██████████| 469/469 [00:19<00:00, 23.78it/s]\n",
            "  0%|          | 0/469 [00:00<?, ?it/s]"
          ],
          "name": "stderr"
        },
        {
          "output_type": "stream",
          "text": [
            "\n",
            "Test set: loss: 0.142078, Accuracy: 9772/10000 (97.720%)\n",
            "\n",
            "EPOCH: 12\n"
          ],
          "name": "stdout"
        },
        {
          "output_type": "stream",
          "text": [
            "Train: Batch id: 468 \tLoss: 0.694748\t Accuracy:97.207: 100%|██████████| 469/469 [00:19<00:00, 23.47it/s]\n",
            "  0%|          | 0/469 [00:00<?, ?it/s]"
          ],
          "name": "stderr"
        },
        {
          "output_type": "stream",
          "text": [
            "\n",
            "Test set: loss: 0.137786, Accuracy: 9800/10000 (98.000%)\n",
            "\n",
            "EPOCH: 13\n"
          ],
          "name": "stdout"
        },
        {
          "output_type": "stream",
          "text": [
            "Train: Batch id: 468 \tLoss: 0.709705\t Accuracy:97.390: 100%|██████████| 469/469 [00:19<00:00, 23.88it/s]\n",
            "  0%|          | 0/469 [00:00<?, ?it/s]"
          ],
          "name": "stderr"
        },
        {
          "output_type": "stream",
          "text": [
            "\n",
            "Test set: loss: 0.136210, Accuracy: 9787/10000 (97.870%)\n",
            "\n",
            "EPOCH: 14\n"
          ],
          "name": "stdout"
        },
        {
          "output_type": "stream",
          "text": [
            "Train: Batch id: 468 \tLoss: 0.623292\t Accuracy:97.427: 100%|██████████| 469/469 [00:19<00:00, 23.73it/s]\n",
            "  0%|          | 0/469 [00:00<?, ?it/s]"
          ],
          "name": "stderr"
        },
        {
          "output_type": "stream",
          "text": [
            "\n",
            "Test set: loss: 0.138806, Accuracy: 9792/10000 (97.920%)\n",
            "\n",
            "EPOCH: 15\n"
          ],
          "name": "stdout"
        },
        {
          "output_type": "stream",
          "text": [
            "Train: Batch id: 468 \tLoss: 0.630455\t Accuracy:97.398: 100%|██████████| 469/469 [00:19<00:00, 24.01it/s]\n",
            "  0%|          | 0/469 [00:00<?, ?it/s]"
          ],
          "name": "stderr"
        },
        {
          "output_type": "stream",
          "text": [
            "\n",
            "Test set: loss: 0.131905, Accuracy: 9798/10000 (97.980%)\n",
            "\n",
            "EPOCH: 16\n"
          ],
          "name": "stdout"
        },
        {
          "output_type": "stream",
          "text": [
            "Train: Batch id: 468 \tLoss: 0.650433\t Accuracy:97.488: 100%|██████████| 469/469 [00:19<00:00, 24.45it/s]\n",
            "  0%|          | 0/469 [00:00<?, ?it/s]"
          ],
          "name": "stderr"
        },
        {
          "output_type": "stream",
          "text": [
            "\n",
            "Test set: loss: 0.130694, Accuracy: 9794/10000 (97.940%)\n",
            "\n",
            "EPOCH: 17\n"
          ],
          "name": "stdout"
        },
        {
          "output_type": "stream",
          "text": [
            "Train: Batch id: 468 \tLoss: 0.604917\t Accuracy:97.520: 100%|██████████| 469/469 [00:19<00:00, 24.45it/s]\n",
            "  0%|          | 0/469 [00:00<?, ?it/s]"
          ],
          "name": "stderr"
        },
        {
          "output_type": "stream",
          "text": [
            "\n",
            "Test set: loss: 0.125231, Accuracy: 9808/10000 (98.080%)\n",
            "\n",
            "EPOCH: 18\n"
          ],
          "name": "stdout"
        },
        {
          "output_type": "stream",
          "text": [
            "Train: Batch id: 468 \tLoss: 0.580780\t Accuracy:97.542: 100%|██████████| 469/469 [00:19<00:00, 23.83it/s]\n",
            "  0%|          | 0/469 [00:00<?, ?it/s]"
          ],
          "name": "stderr"
        },
        {
          "output_type": "stream",
          "text": [
            "\n",
            "Test set: loss: 0.137593, Accuracy: 9808/10000 (98.080%)\n",
            "\n",
            "EPOCH: 19\n"
          ],
          "name": "stdout"
        },
        {
          "output_type": "stream",
          "text": [
            "Train: Batch id: 468 \tLoss: 0.531705\t Accuracy:97.582: 100%|██████████| 469/469 [00:19<00:00, 24.45it/s]\n",
            "  0%|          | 0/469 [00:00<?, ?it/s]"
          ],
          "name": "stderr"
        },
        {
          "output_type": "stream",
          "text": [
            "\n",
            "Test set: loss: 0.140680, Accuracy: 9770/10000 (97.700%)\n",
            "\n",
            "EPOCH: 20\n"
          ],
          "name": "stdout"
        },
        {
          "output_type": "stream",
          "text": [
            "Train: Batch id: 468 \tLoss: 0.653820\t Accuracy:97.735: 100%|██████████| 469/469 [00:19<00:00, 24.16it/s]\n",
            "  0%|          | 0/469 [00:00<?, ?it/s]"
          ],
          "name": "stderr"
        },
        {
          "output_type": "stream",
          "text": [
            "\n",
            "Test set: loss: 0.119742, Accuracy: 9825/10000 (98.250%)\n",
            "\n",
            "EPOCH: 21\n"
          ],
          "name": "stdout"
        },
        {
          "output_type": "stream",
          "text": [
            "Train: Batch id: 468 \tLoss: 0.546917\t Accuracy:97.807: 100%|██████████| 469/469 [00:19<00:00, 23.69it/s]\n",
            "  0%|          | 0/469 [00:00<?, ?it/s]"
          ],
          "name": "stderr"
        },
        {
          "output_type": "stream",
          "text": [
            "\n",
            "Test set: loss: 0.117274, Accuracy: 9830/10000 (98.300%)\n",
            "\n",
            "EPOCH: 22\n"
          ],
          "name": "stdout"
        },
        {
          "output_type": "stream",
          "text": [
            "Train: Batch id: 468 \tLoss: 0.577494\t Accuracy:97.917: 100%|██████████| 469/469 [00:18<00:00, 24.81it/s]\n",
            "  0%|          | 0/469 [00:00<?, ?it/s]"
          ],
          "name": "stderr"
        },
        {
          "output_type": "stream",
          "text": [
            "\n",
            "Test set: loss: 0.117786, Accuracy: 9827/10000 (98.270%)\n",
            "\n",
            "EPOCH: 23\n"
          ],
          "name": "stdout"
        },
        {
          "output_type": "stream",
          "text": [
            "Train: Batch id: 468 \tLoss: 0.567683\t Accuracy:97.803: 100%|██████████| 469/469 [00:19<00:00, 24.12it/s]\n",
            "  0%|          | 0/469 [00:00<?, ?it/s]"
          ],
          "name": "stderr"
        },
        {
          "output_type": "stream",
          "text": [
            "\n",
            "Test set: loss: 0.116669, Accuracy: 9822/10000 (98.220%)\n",
            "\n",
            "EPOCH: 24\n"
          ],
          "name": "stdout"
        },
        {
          "output_type": "stream",
          "text": [
            "Train: Batch id: 468 \tLoss: 0.574172\t Accuracy:97.897: 100%|██████████| 469/469 [00:19<00:00, 24.42it/s]\n",
            "  0%|          | 0/1875 [00:00<?, ?it/s]"
          ],
          "name": "stderr"
        },
        {
          "output_type": "stream",
          "text": [
            "\n",
            "Test set: loss: 0.117792, Accuracy: 9827/10000 (98.270%)\n",
            "\n",
            "GBN\n",
            "EPOCH: 0\n"
          ],
          "name": "stdout"
        },
        {
          "output_type": "stream",
          "text": [
            "Train: Batch id: 1874 \tLoss: 0.137034\t Accuracy:93.690: 100%|██████████| 1875/1875 [00:45<00:00, 41.03it/s]\n",
            "  0%|          | 0/1875 [00:00<?, ?it/s]"
          ],
          "name": "stderr"
        },
        {
          "output_type": "stream",
          "text": [
            "\n",
            "Test set: loss: 0.043572, Accuracy: 9875/10000 (98.750%)\n",
            "\n",
            "EPOCH: 1\n"
          ],
          "name": "stdout"
        },
        {
          "output_type": "stream",
          "text": [
            "Train: Batch id: 1874 \tLoss: 0.010184\t Accuracy:98.038: 100%|██████████| 1875/1875 [00:45<00:00, 41.28it/s]\n",
            "  0%|          | 0/1875 [00:00<?, ?it/s]"
          ],
          "name": "stderr"
        },
        {
          "output_type": "stream",
          "text": [
            "\n",
            "Test set: loss: 0.056573, Accuracy: 9816/10000 (98.160%)\n",
            "\n",
            "EPOCH: 2\n"
          ],
          "name": "stdout"
        },
        {
          "output_type": "stream",
          "text": [
            "Train: Batch id: 1874 \tLoss: 0.145556\t Accuracy:98.402: 100%|██████████| 1875/1875 [00:45<00:00, 41.27it/s]\n",
            "  0%|          | 0/1875 [00:00<?, ?it/s]"
          ],
          "name": "stderr"
        },
        {
          "output_type": "stream",
          "text": [
            "\n",
            "Test set: loss: 0.030255, Accuracy: 9907/10000 (99.070%)\n",
            "\n",
            "EPOCH: 3\n"
          ],
          "name": "stdout"
        },
        {
          "output_type": "stream",
          "text": [
            "Train: Batch id: 1874 \tLoss: 0.005206\t Accuracy:98.635: 100%|██████████| 1875/1875 [00:45<00:00, 40.82it/s]\n",
            "  0%|          | 0/1875 [00:00<?, ?it/s]"
          ],
          "name": "stderr"
        },
        {
          "output_type": "stream",
          "text": [
            "\n",
            "Test set: loss: 0.025724, Accuracy: 9923/10000 (99.230%)\n",
            "\n",
            "EPOCH: 4\n"
          ],
          "name": "stdout"
        },
        {
          "output_type": "stream",
          "text": [
            "Train: Batch id: 1874 \tLoss: 0.019619\t Accuracy:98.668: 100%|██████████| 1875/1875 [00:45<00:00, 41.48it/s]\n",
            "  0%|          | 0/1875 [00:00<?, ?it/s]"
          ],
          "name": "stderr"
        },
        {
          "output_type": "stream",
          "text": [
            "\n",
            "Test set: loss: 0.029323, Accuracy: 9898/10000 (98.980%)\n",
            "\n",
            "EPOCH: 5\n"
          ],
          "name": "stdout"
        },
        {
          "output_type": "stream",
          "text": [
            "Train: Batch id: 1874 \tLoss: 0.012095\t Accuracy:98.858: 100%|██████████| 1875/1875 [00:45<00:00, 41.34it/s]\n",
            "  0%|          | 0/1875 [00:00<?, ?it/s]"
          ],
          "name": "stderr"
        },
        {
          "output_type": "stream",
          "text": [
            "\n",
            "Test set: loss: 0.026431, Accuracy: 9920/10000 (99.200%)\n",
            "\n",
            "EPOCH: 6\n"
          ],
          "name": "stdout"
        },
        {
          "output_type": "stream",
          "text": [
            "Train: Batch id: 1874 \tLoss: 0.017731\t Accuracy:98.980: 100%|██████████| 1875/1875 [00:45<00:00, 40.93it/s]\n",
            "  0%|          | 0/1875 [00:00<?, ?it/s]"
          ],
          "name": "stderr"
        },
        {
          "output_type": "stream",
          "text": [
            "\n",
            "Test set: loss: 0.022662, Accuracy: 9928/10000 (99.280%)\n",
            "\n",
            "EPOCH: 7\n"
          ],
          "name": "stdout"
        },
        {
          "output_type": "stream",
          "text": [
            "Train: Batch id: 1874 \tLoss: 0.005627\t Accuracy:99.028: 100%|██████████| 1875/1875 [00:46<00:00, 40.49it/s]\n",
            "  0%|          | 0/1875 [00:00<?, ?it/s]"
          ],
          "name": "stderr"
        },
        {
          "output_type": "stream",
          "text": [
            "\n",
            "Test set: loss: 0.021688, Accuracy: 9921/10000 (99.210%)\n",
            "\n",
            "EPOCH: 8\n"
          ],
          "name": "stdout"
        },
        {
          "output_type": "stream",
          "text": [
            "Train: Batch id: 1874 \tLoss: 0.001697\t Accuracy:99.055: 100%|██████████| 1875/1875 [00:45<00:00, 41.03it/s]\n",
            "  0%|          | 0/1875 [00:00<?, ?it/s]"
          ],
          "name": "stderr"
        },
        {
          "output_type": "stream",
          "text": [
            "\n",
            "Test set: loss: 0.022230, Accuracy: 9935/10000 (99.350%)\n",
            "\n",
            "EPOCH: 9\n"
          ],
          "name": "stdout"
        },
        {
          "output_type": "stream",
          "text": [
            "Train: Batch id: 1874 \tLoss: 0.002895\t Accuracy:99.070: 100%|██████████| 1875/1875 [00:45<00:00, 40.84it/s]\n",
            "  0%|          | 0/1875 [00:00<?, ?it/s]"
          ],
          "name": "stderr"
        },
        {
          "output_type": "stream",
          "text": [
            "\n",
            "Test set: loss: 0.022784, Accuracy: 9933/10000 (99.330%)\n",
            "\n",
            "EPOCH: 10\n"
          ],
          "name": "stdout"
        },
        {
          "output_type": "stream",
          "text": [
            "Train: Batch id: 1874 \tLoss: 0.025252\t Accuracy:99.260: 100%|██████████| 1875/1875 [00:45<00:00, 41.28it/s]\n",
            "  0%|          | 0/1875 [00:00<?, ?it/s]"
          ],
          "name": "stderr"
        },
        {
          "output_type": "stream",
          "text": [
            "\n",
            "Test set: loss: 0.021748, Accuracy: 9935/10000 (99.350%)\n",
            "\n",
            "EPOCH: 11\n"
          ],
          "name": "stdout"
        },
        {
          "output_type": "stream",
          "text": [
            "Train: Batch id: 1874 \tLoss: 0.022504\t Accuracy:99.335: 100%|██████████| 1875/1875 [00:45<00:00, 41.66it/s]\n",
            "  0%|          | 0/1875 [00:00<?, ?it/s]"
          ],
          "name": "stderr"
        },
        {
          "output_type": "stream",
          "text": [
            "\n",
            "Test set: loss: 0.021471, Accuracy: 9936/10000 (99.360%)\n",
            "\n",
            "EPOCH: 12\n"
          ],
          "name": "stdout"
        },
        {
          "output_type": "stream",
          "text": [
            "Train: Batch id: 1874 \tLoss: 0.001984\t Accuracy:99.335: 100%|██████████| 1875/1875 [00:45<00:00, 41.28it/s]\n",
            "  0%|          | 0/1875 [00:00<?, ?it/s]"
          ],
          "name": "stderr"
        },
        {
          "output_type": "stream",
          "text": [
            "\n",
            "Test set: loss: 0.020608, Accuracy: 9935/10000 (99.350%)\n",
            "\n",
            "EPOCH: 13\n"
          ],
          "name": "stdout"
        },
        {
          "output_type": "stream",
          "text": [
            "Train: Batch id: 1874 \tLoss: 0.004753\t Accuracy:99.427: 100%|██████████| 1875/1875 [00:45<00:00, 41.29it/s]\n",
            "  0%|          | 0/1875 [00:00<?, ?it/s]"
          ],
          "name": "stderr"
        },
        {
          "output_type": "stream",
          "text": [
            "\n",
            "Test set: loss: 0.021559, Accuracy: 9931/10000 (99.310%)\n",
            "\n",
            "EPOCH: 14\n"
          ],
          "name": "stdout"
        },
        {
          "output_type": "stream",
          "text": [
            "Train: Batch id: 1874 \tLoss: 0.000805\t Accuracy:99.428: 100%|██████████| 1875/1875 [00:44<00:00, 41.94it/s]\n",
            "  0%|          | 0/1875 [00:00<?, ?it/s]"
          ],
          "name": "stderr"
        },
        {
          "output_type": "stream",
          "text": [
            "\n",
            "Test set: loss: 0.020317, Accuracy: 9940/10000 (99.400%)\n",
            "\n",
            "EPOCH: 15\n"
          ],
          "name": "stdout"
        },
        {
          "output_type": "stream",
          "text": [
            "Train: Batch id: 1874 \tLoss: 0.005503\t Accuracy:99.388: 100%|██████████| 1875/1875 [00:44<00:00, 41.72it/s]\n",
            "  0%|          | 0/1875 [00:00<?, ?it/s]"
          ],
          "name": "stderr"
        },
        {
          "output_type": "stream",
          "text": [
            "\n",
            "Test set: loss: 0.020227, Accuracy: 9939/10000 (99.390%)\n",
            "\n",
            "EPOCH: 16\n"
          ],
          "name": "stdout"
        },
        {
          "output_type": "stream",
          "text": [
            "Train: Batch id: 1874 \tLoss: 0.042003\t Accuracy:99.443: 100%|██████████| 1875/1875 [00:44<00:00, 41.91it/s]\n",
            "  0%|          | 0/1875 [00:00<?, ?it/s]"
          ],
          "name": "stderr"
        },
        {
          "output_type": "stream",
          "text": [
            "\n",
            "Test set: loss: 0.019701, Accuracy: 9939/10000 (99.390%)\n",
            "\n",
            "EPOCH: 17\n"
          ],
          "name": "stdout"
        },
        {
          "output_type": "stream",
          "text": [
            "Train: Batch id: 1874 \tLoss: 0.003202\t Accuracy:99.445: 100%|██████████| 1875/1875 [00:44<00:00, 41.73it/s]\n",
            "  0%|          | 0/1875 [00:00<?, ?it/s]"
          ],
          "name": "stderr"
        },
        {
          "output_type": "stream",
          "text": [
            "\n",
            "Test set: loss: 0.019953, Accuracy: 9941/10000 (99.410%)\n",
            "\n",
            "EPOCH: 18\n"
          ],
          "name": "stdout"
        },
        {
          "output_type": "stream",
          "text": [
            "Train: Batch id: 1874 \tLoss: 0.000864\t Accuracy:99.452: 100%|██████████| 1875/1875 [00:44<00:00, 42.23it/s]\n",
            "  0%|          | 0/1875 [00:00<?, ?it/s]"
          ],
          "name": "stderr"
        },
        {
          "output_type": "stream",
          "text": [
            "\n",
            "Test set: loss: 0.019572, Accuracy: 9938/10000 (99.380%)\n",
            "\n",
            "EPOCH: 19\n"
          ],
          "name": "stdout"
        },
        {
          "output_type": "stream",
          "text": [
            "Train: Batch id: 1874 \tLoss: 0.003727\t Accuracy:99.418: 100%|██████████| 1875/1875 [00:44<00:00, 42.11it/s]\n",
            "  0%|          | 0/1875 [00:00<?, ?it/s]"
          ],
          "name": "stderr"
        },
        {
          "output_type": "stream",
          "text": [
            "\n",
            "Test set: loss: 0.019756, Accuracy: 9938/10000 (99.380%)\n",
            "\n",
            "EPOCH: 20\n"
          ],
          "name": "stdout"
        },
        {
          "output_type": "stream",
          "text": [
            "Train: Batch id: 1874 \tLoss: 0.001395\t Accuracy:99.455: 100%|██████████| 1875/1875 [00:44<00:00, 42.19it/s]\n",
            "  0%|          | 0/1875 [00:00<?, ?it/s]"
          ],
          "name": "stderr"
        },
        {
          "output_type": "stream",
          "text": [
            "\n",
            "Test set: loss: 0.019670, Accuracy: 9939/10000 (99.390%)\n",
            "\n",
            "EPOCH: 21\n"
          ],
          "name": "stdout"
        },
        {
          "output_type": "stream",
          "text": [
            "Train: Batch id: 1874 \tLoss: 0.003123\t Accuracy:99.423: 100%|██████████| 1875/1875 [00:45<00:00, 41.43it/s]\n",
            "  0%|          | 0/1875 [00:00<?, ?it/s]"
          ],
          "name": "stderr"
        },
        {
          "output_type": "stream",
          "text": [
            "\n",
            "Test set: loss: 0.019641, Accuracy: 9939/10000 (99.390%)\n",
            "\n",
            "EPOCH: 22\n"
          ],
          "name": "stdout"
        },
        {
          "output_type": "stream",
          "text": [
            "Train: Batch id: 1874 \tLoss: 0.113112\t Accuracy:99.467: 100%|██████████| 1875/1875 [00:44<00:00, 42.30it/s]\n",
            "  0%|          | 0/1875 [00:00<?, ?it/s]"
          ],
          "name": "stderr"
        },
        {
          "output_type": "stream",
          "text": [
            "\n",
            "Test set: loss: 0.019347, Accuracy: 9943/10000 (99.430%)\n",
            "\n",
            "EPOCH: 23\n"
          ],
          "name": "stdout"
        },
        {
          "output_type": "stream",
          "text": [
            "Train: Batch id: 1874 \tLoss: 0.003200\t Accuracy:99.448: 100%|██████████| 1875/1875 [00:44<00:00, 42.11it/s]\n",
            "  0%|          | 0/1875 [00:00<?, ?it/s]"
          ],
          "name": "stderr"
        },
        {
          "output_type": "stream",
          "text": [
            "\n",
            "Test set: loss: 0.019502, Accuracy: 9943/10000 (99.430%)\n",
            "\n",
            "EPOCH: 24\n"
          ],
          "name": "stdout"
        },
        {
          "output_type": "stream",
          "text": [
            "Train: Batch id: 1874 \tLoss: 0.002358\t Accuracy:99.455: 100%|██████████| 1875/1875 [00:44<00:00, 41.97it/s]\n",
            "  0%|          | 0/1875 [00:00<?, ?it/s]"
          ],
          "name": "stderr"
        },
        {
          "output_type": "stream",
          "text": [
            "\n",
            "Test set: loss: 0.020171, Accuracy: 9938/10000 (99.380%)\n",
            "\n",
            "L1+L2+GBN\n",
            "EPOCH: 0\n"
          ],
          "name": "stdout"
        },
        {
          "output_type": "stream",
          "text": [
            "Train: Batch id: 1874 \tLoss: 1.633051\t Accuracy:82.500: 100%|██████████| 1875/1875 [00:46<00:00, 40.68it/s]\n",
            "  0%|          | 0/1875 [00:00<?, ?it/s]"
          ],
          "name": "stderr"
        },
        {
          "output_type": "stream",
          "text": [
            "\n",
            "Test set: loss: 0.855450, Accuracy: 6761/10000 (67.610%)\n",
            "\n",
            "EPOCH: 1\n"
          ],
          "name": "stdout"
        },
        {
          "output_type": "stream",
          "text": [
            "Train: Batch id: 1874 \tLoss: 1.225411\t Accuracy:86.170: 100%|██████████| 1875/1875 [00:47<00:00, 39.66it/s]\n",
            "  0%|          | 0/1875 [00:00<?, ?it/s]"
          ],
          "name": "stderr"
        },
        {
          "output_type": "stream",
          "text": [
            "\n",
            "Test set: loss: 0.994262, Accuracy: 6756/10000 (67.560%)\n",
            "\n",
            "EPOCH: 2\n"
          ],
          "name": "stdout"
        },
        {
          "output_type": "stream",
          "text": [
            "Train: Batch id: 1874 \tLoss: 1.570519\t Accuracy:86.212: 100%|██████████| 1875/1875 [00:45<00:00, 41.28it/s]\n",
            "  0%|          | 0/1875 [00:00<?, ?it/s]"
          ],
          "name": "stderr"
        },
        {
          "output_type": "stream",
          "text": [
            "\n",
            "Test set: loss: 1.019080, Accuracy: 6137/10000 (61.370%)\n",
            "\n",
            "EPOCH: 3\n"
          ],
          "name": "stdout"
        },
        {
          "output_type": "stream",
          "text": [
            "Train: Batch id: 1874 \tLoss: 1.161815\t Accuracy:86.267: 100%|██████████| 1875/1875 [00:46<00:00, 40.56it/s]\n",
            "  0%|          | 0/1875 [00:00<?, ?it/s]"
          ],
          "name": "stderr"
        },
        {
          "output_type": "stream",
          "text": [
            "\n",
            "Test set: loss: 0.741991, Accuracy: 7735/10000 (77.350%)\n",
            "\n",
            "EPOCH: 4\n"
          ],
          "name": "stdout"
        },
        {
          "output_type": "stream",
          "text": [
            "Train: Batch id: 1874 \tLoss: 1.690920\t Accuracy:86.522: 100%|██████████| 1875/1875 [00:45<00:00, 40.94it/s]\n",
            "  0%|          | 0/1875 [00:00<?, ?it/s]"
          ],
          "name": "stderr"
        },
        {
          "output_type": "stream",
          "text": [
            "\n",
            "Test set: loss: 1.254977, Accuracy: 5729/10000 (57.290%)\n",
            "\n",
            "EPOCH: 5\n"
          ],
          "name": "stdout"
        },
        {
          "output_type": "stream",
          "text": [
            "Train: Batch id: 1874 \tLoss: 1.381173\t Accuracy:86.403: 100%|██████████| 1875/1875 [00:46<00:00, 40.20it/s]\n",
            "  0%|          | 0/1875 [00:00<?, ?it/s]"
          ],
          "name": "stderr"
        },
        {
          "output_type": "stream",
          "text": [
            "\n",
            "Test set: loss: 1.150179, Accuracy: 6535/10000 (65.350%)\n",
            "\n",
            "EPOCH: 6\n"
          ],
          "name": "stdout"
        },
        {
          "output_type": "stream",
          "text": [
            "Train: Batch id: 1874 \tLoss: 1.307294\t Accuracy:86.228: 100%|██████████| 1875/1875 [00:46<00:00, 40.73it/s]\n",
            "  0%|          | 0/1875 [00:00<?, ?it/s]"
          ],
          "name": "stderr"
        },
        {
          "output_type": "stream",
          "text": [
            "\n",
            "Test set: loss: 0.595890, Accuracy: 8493/10000 (84.930%)\n",
            "\n",
            "EPOCH: 7\n"
          ],
          "name": "stdout"
        },
        {
          "output_type": "stream",
          "text": [
            "Train: Batch id: 1874 \tLoss: 1.203349\t Accuracy:86.352: 100%|██████████| 1875/1875 [00:45<00:00, 40.81it/s]\n",
            "  0%|          | 0/1875 [00:00<?, ?it/s]"
          ],
          "name": "stderr"
        },
        {
          "output_type": "stream",
          "text": [
            "\n",
            "Test set: loss: 0.996097, Accuracy: 6801/10000 (68.010%)\n",
            "\n",
            "EPOCH: 8\n"
          ],
          "name": "stdout"
        },
        {
          "output_type": "stream",
          "text": [
            "Train: Batch id: 1874 \tLoss: 1.563105\t Accuracy:86.510: 100%|██████████| 1875/1875 [00:46<00:00, 40.47it/s]\n",
            "  0%|          | 0/1875 [00:00<?, ?it/s]"
          ],
          "name": "stderr"
        },
        {
          "output_type": "stream",
          "text": [
            "\n",
            "Test set: loss: 4.387558, Accuracy: 1436/10000 (14.360%)\n",
            "\n",
            "EPOCH: 9\n"
          ],
          "name": "stdout"
        },
        {
          "output_type": "stream",
          "text": [
            "Train: Batch id: 1874 \tLoss: 1.370049\t Accuracy:86.495: 100%|██████████| 1875/1875 [00:45<00:00, 40.85it/s]\n",
            "  0%|          | 0/1875 [00:00<?, ?it/s]"
          ],
          "name": "stderr"
        },
        {
          "output_type": "stream",
          "text": [
            "\n",
            "Test set: loss: 0.475372, Accuracy: 8601/10000 (86.010%)\n",
            "\n",
            "EPOCH: 10\n"
          ],
          "name": "stdout"
        },
        {
          "output_type": "stream",
          "text": [
            "Train: Batch id: 1874 \tLoss: 0.957535\t Accuracy:92.363: 100%|██████████| 1875/1875 [00:45<00:00, 41.32it/s]\n",
            "  0%|          | 0/1875 [00:00<?, ?it/s]"
          ],
          "name": "stderr"
        },
        {
          "output_type": "stream",
          "text": [
            "\n",
            "Test set: loss: 0.191223, Accuracy: 9631/10000 (96.310%)\n",
            "\n",
            "EPOCH: 11\n"
          ],
          "name": "stdout"
        },
        {
          "output_type": "stream",
          "text": [
            "Train: Batch id: 1874 \tLoss: 0.972610\t Accuracy:93.102: 100%|██████████| 1875/1875 [00:44<00:00, 42.12it/s]\n",
            "  0%|          | 0/1875 [00:00<?, ?it/s]"
          ],
          "name": "stderr"
        },
        {
          "output_type": "stream",
          "text": [
            "\n",
            "Test set: loss: 0.191352, Accuracy: 9609/10000 (96.090%)\n",
            "\n",
            "EPOCH: 12\n"
          ],
          "name": "stdout"
        },
        {
          "output_type": "stream",
          "text": [
            "Train: Batch id: 1874 \tLoss: 0.779092\t Accuracy:93.255: 100%|██████████| 1875/1875 [00:45<00:00, 41.58it/s]\n",
            "  0%|          | 0/1875 [00:00<?, ?it/s]"
          ],
          "name": "stderr"
        },
        {
          "output_type": "stream",
          "text": [
            "\n",
            "Test set: loss: 0.187153, Accuracy: 9637/10000 (96.370%)\n",
            "\n",
            "EPOCH: 13\n"
          ],
          "name": "stdout"
        },
        {
          "output_type": "stream",
          "text": [
            "Train: Batch id: 1874 \tLoss: 0.716897\t Accuracy:93.365: 100%|██████████| 1875/1875 [00:45<00:00, 41.07it/s]\n",
            "  0%|          | 0/1875 [00:00<?, ?it/s]"
          ],
          "name": "stderr"
        },
        {
          "output_type": "stream",
          "text": [
            "\n",
            "Test set: loss: 0.191672, Accuracy: 9592/10000 (95.920%)\n",
            "\n",
            "EPOCH: 14\n"
          ],
          "name": "stdout"
        },
        {
          "output_type": "stream",
          "text": [
            "Train: Batch id: 1874 \tLoss: 0.966740\t Accuracy:93.223: 100%|██████████| 1875/1875 [00:44<00:00, 41.90it/s]\n",
            "  0%|          | 0/1875 [00:00<?, ?it/s]"
          ],
          "name": "stderr"
        },
        {
          "output_type": "stream",
          "text": [
            "\n",
            "Test set: loss: 0.193333, Accuracy: 9605/10000 (96.050%)\n",
            "\n",
            "EPOCH: 15\n"
          ],
          "name": "stdout"
        },
        {
          "output_type": "stream",
          "text": [
            "Train: Batch id: 1874 \tLoss: 0.694179\t Accuracy:93.222: 100%|██████████| 1875/1875 [00:46<00:00, 40.52it/s]\n",
            "  0%|          | 0/1875 [00:00<?, ?it/s]"
          ],
          "name": "stderr"
        },
        {
          "output_type": "stream",
          "text": [
            "\n",
            "Test set: loss: 0.181710, Accuracy: 9651/10000 (96.510%)\n",
            "\n",
            "EPOCH: 16\n"
          ],
          "name": "stdout"
        },
        {
          "output_type": "stream",
          "text": [
            "Train: Batch id: 1874 \tLoss: 0.900554\t Accuracy:93.228: 100%|██████████| 1875/1875 [00:47<00:00, 39.74it/s]\n",
            "  0%|          | 0/1875 [00:00<?, ?it/s]"
          ],
          "name": "stderr"
        },
        {
          "output_type": "stream",
          "text": [
            "\n",
            "Test set: loss: 0.242379, Accuracy: 9509/10000 (95.090%)\n",
            "\n",
            "EPOCH: 17\n"
          ],
          "name": "stdout"
        },
        {
          "output_type": "stream",
          "text": [
            "Train: Batch id: 1874 \tLoss: 0.760008\t Accuracy:93.347: 100%|██████████| 1875/1875 [00:46<00:00, 40.56it/s]\n",
            "  0%|          | 0/1875 [00:00<?, ?it/s]"
          ],
          "name": "stderr"
        },
        {
          "output_type": "stream",
          "text": [
            "\n",
            "Test set: loss: 0.198128, Accuracy: 9586/10000 (95.860%)\n",
            "\n",
            "EPOCH: 18\n"
          ],
          "name": "stdout"
        },
        {
          "output_type": "stream",
          "text": [
            "Train: Batch id: 1874 \tLoss: 0.669705\t Accuracy:93.458: 100%|██████████| 1875/1875 [00:45<00:00, 41.16it/s]\n",
            "  0%|          | 0/1875 [00:00<?, ?it/s]"
          ],
          "name": "stderr"
        },
        {
          "output_type": "stream",
          "text": [
            "\n",
            "Test set: loss: 0.172003, Accuracy: 9644/10000 (96.440%)\n",
            "\n",
            "EPOCH: 19\n"
          ],
          "name": "stdout"
        },
        {
          "output_type": "stream",
          "text": [
            "Train: Batch id: 1874 \tLoss: 0.811157\t Accuracy:93.502: 100%|██████████| 1875/1875 [00:45<00:00, 40.98it/s]\n",
            "  0%|          | 0/1875 [00:00<?, ?it/s]"
          ],
          "name": "stderr"
        },
        {
          "output_type": "stream",
          "text": [
            "\n",
            "Test set: loss: 0.209652, Accuracy: 9590/10000 (95.900%)\n",
            "\n",
            "EPOCH: 20\n"
          ],
          "name": "stdout"
        },
        {
          "output_type": "stream",
          "text": [
            "Train: Batch id: 1874 \tLoss: 0.644955\t Accuracy:94.388: 100%|██████████| 1875/1875 [00:45<00:00, 41.14it/s]\n",
            "  0%|          | 0/1875 [00:00<?, ?it/s]"
          ],
          "name": "stderr"
        },
        {
          "output_type": "stream",
          "text": [
            "\n",
            "Test set: loss: 0.146077, Accuracy: 9725/10000 (97.250%)\n",
            "\n",
            "EPOCH: 21\n"
          ],
          "name": "stdout"
        },
        {
          "output_type": "stream",
          "text": [
            "Train: Batch id: 1874 \tLoss: 0.745587\t Accuracy:94.625: 100%|██████████| 1875/1875 [00:45<00:00, 40.78it/s]\n",
            "  0%|          | 0/1875 [00:00<?, ?it/s]"
          ],
          "name": "stderr"
        },
        {
          "output_type": "stream",
          "text": [
            "\n",
            "Test set: loss: 0.145988, Accuracy: 9727/10000 (97.270%)\n",
            "\n",
            "EPOCH: 22\n"
          ],
          "name": "stdout"
        },
        {
          "output_type": "stream",
          "text": [
            "Train: Batch id: 1874 \tLoss: 0.565312\t Accuracy:94.747: 100%|██████████| 1875/1875 [00:45<00:00, 40.80it/s]\n",
            "  0%|          | 0/1875 [00:00<?, ?it/s]"
          ],
          "name": "stderr"
        },
        {
          "output_type": "stream",
          "text": [
            "\n",
            "Test set: loss: 0.141706, Accuracy: 9735/10000 (97.350%)\n",
            "\n",
            "EPOCH: 23\n"
          ],
          "name": "stdout"
        },
        {
          "output_type": "stream",
          "text": [
            "Train: Batch id: 1874 \tLoss: 0.694729\t Accuracy:94.703: 100%|██████████| 1875/1875 [00:45<00:00, 40.82it/s]\n",
            "  0%|          | 0/1875 [00:00<?, ?it/s]"
          ],
          "name": "stderr"
        },
        {
          "output_type": "stream",
          "text": [
            "\n",
            "Test set: loss: 0.141290, Accuracy: 9724/10000 (97.240%)\n",
            "\n",
            "EPOCH: 24\n"
          ],
          "name": "stdout"
        },
        {
          "output_type": "stream",
          "text": [
            "Train: Batch id: 1874 \tLoss: 0.679781\t Accuracy:94.615: 100%|██████████| 1875/1875 [00:46<00:00, 40.58it/s]\n"
          ],
          "name": "stderr"
        },
        {
          "output_type": "stream",
          "text": [
            "\n",
            "Test set: loss: 0.140085, Accuracy: 9731/10000 (97.310%)\n",
            "\n"
          ],
          "name": "stdout"
        }
      ]
    },
    {
      "cell_type": "markdown",
      "metadata": {
        "id": "cUQ9pJfeP2vc",
        "colab_type": "text"
      },
      "source": [
        "## Save misclassified Images "
      ]
    },
    {
      "cell_type": "code",
      "metadata": {
        "id": "moTiANQ6O7Xa",
        "colab_type": "code",
        "colab": {}
      },
      "source": [
        "def incorrect_images(model, device, test_loader, Batch_Norm):\n",
        "  incorrect_examples = []  ## store incorrect images\n",
        "  incorrect_target = []\n",
        "  incorrec_pred =[]\n",
        "\n",
        "  model.eval()\n",
        "  test_loss=0\n",
        "  correct=0\n",
        "  with torch.no_grad():\n",
        "    for data, target in test_loader:\n",
        "      data, target = data.to(device), target.to(device)\n",
        "      output = model(data, Batch_Norm)\n",
        "      test_loss += F.nll_loss(output, target, reduction='sum').item()\n",
        "      pred = output.data.max(1, keepdim=True)[1]\n",
        "      correct += pred.eq(target.data.view_as(pred)).sum().item()\n",
        "      \n",
        "      idxs_mask = (pred.eq(target.data.view_as(pred))==False).nonzero() ## store incorrect images\n",
        "\n",
        "      for id in idxs_mask:\n",
        "        incorrect_examples.append(data[id[0].item()][0])\n",
        "        incorrect_target.append(target[id[0].item()].item())\n",
        "        incorrec_pred.append(pred[id[0].item()].item())\n",
        "\n",
        "\n",
        "  test_loss /= len(test_loader.dataset)\n",
        "  test_losses.append(test_loss)\n",
        "\n",
        "  print('\\nTest set: loss: {:.6f}, Accuracy: {}/{} ({:.3f}%)\\n'.format(\n",
        "    test_loss, correct, len(test_loader.dataset),\n",
        "    100. * correct / len(test_loader.dataset)))\n",
        "\n",
        "  test_acc.append(100. * correct / len(test_loader.dataset))\n",
        "\n",
        "  fig = plt.figure()\n",
        "\n",
        "  for i in range(25):\n",
        "    plt.subplot(5,5,i+1)\n",
        "    plt.tight_layout(pad=0, w_pad=0, h_pad=0.4)\n",
        "    plt.imshow(incorrect_examples[i].cpu().numpy().squeeze(), cmap='gray', interpolation='none')\n",
        "    #plt.title(\"{}\".format(target[first_few_idx[i][0]]),color='red')\n",
        "    plt.title(f\"Predicted:{incorrec_pred[i]} \\n Target:{incorrect_target[i]}\",color='red',fontsize=6)\n",
        "    plt.axis('off')\n",
        "    \n",
        " \n",
        "  plt.savefig('/content/drive/My Drive/models/incorrect_images.jpg', dpi=300, bbox_inches='tight')\n",
        "  plt.show()"
      ],
      "execution_count": null,
      "outputs": []
    },
    {
      "cell_type": "markdown",
      "metadata": {
        "id": "CS-Eo0PKQCL-",
        "colab_type": "text"
      },
      "source": [
        "## Get Misclasified Images for GBN model "
      ]
    },
    {
      "cell_type": "code",
      "metadata": {
        "id": "EQXU-B55Qq4Z",
        "colab_type": "code",
        "colab": {
          "base_uri": "https://localhost:8080/",
          "height": 353
        },
        "outputId": "8b80f236-e43c-48ef-c0a4-a2ef2d64b152"
      },
      "source": [
        "model_temp = Net().to(device)\n",
        "state_dict = torch.load('models/GBN.pth')\n",
        "#print(state_dict.keys())\n",
        "model_temp.load_state_dict(state_dict)\n",
        "Batch_Norm='GBN'\n",
        "\n",
        "if Batch_Norm=='BN':\n",
        "  Batch_size = 128\n",
        "else:\n",
        "  Batch_size = 32\n",
        "\n",
        "dataloader_args= dict(shuffle=True, batch_size=Batch_size,num_workers=4, pin_memory=True ) if use_cuda else dict(shuffle=True, batch_size=Batch_size)\n",
        "\n",
        "train_loader = torch.utils.data.DataLoader(train_dataset, **dataloader_args)\n",
        "\n",
        "test_loader = torch.utils.data.DataLoader(test_dataset, **dataloader_args)\n",
        "\n",
        "incorrect_images(model_temp, device, test_loader, Batch_Norm)"
      ],
      "execution_count": null,
      "outputs": [
        {
          "output_type": "stream",
          "text": [
            "\n",
            "Test set: loss: 0.020171, Accuracy: 9938/10000 (99.380%)\n",
            "\n"
          ],
          "name": "stdout"
        },
        {
          "output_type": "display_data",
          "data": {
            "image/png": "[encoded data removed]",
            "text/plain": [
              "<Figure size 432x288 with 25 Axes>"
            ]
          },
          "metadata": {
            "tags": [],
            "needs_background": "light"
          }
        }
      ]
    },
    {
      "cell_type": "markdown",
      "metadata": {
        "id": "7WOmEdfwQLCq",
        "colab_type": "text"
      },
      "source": [
        "## Plot validation Accuracy across versions"
      ]
    },
    {
      "cell_type": "code",
      "metadata": {
        "id": "dXLzRvftRnod",
        "colab_type": "code",
        "colab": {
          "base_uri": "https://localhost:8080/",
          "height": 295
        },
        "outputId": "796b0ef3-2e9e-4616-89ab-9ce1c283778d"
      },
      "source": [
        "val_acc.plot.line(title='Various Regularization effect on Validation Accuracy ',use_index =True).set(xlabel='Epochs',ylabel='Accuracy(%)',xticks=val_acc.index)\n",
        "plt.legend(frameon=False)\n",
        "#plt.legend\n",
        "plt.savefig('models/val_acc.jpg')\n",
        "plt.show()"
      ],
      "execution_count": null,
      "outputs": [
        {
          "output_type": "display_data",
          "data": {
            "image/png": "[encoded data removed]",
            "text/plain": [
              "<Figure size 432x288 with 1 Axes>"
            ]
          },
          "metadata": {
            "tags": [],
            "needs_background": "light"
          }
        }
      ]
    },
    {
      "cell_type": "markdown",
      "metadata": {
        "id": "Qf3cN_O6QQta",
        "colab_type": "text"
      },
      "source": [
        "## Plot validation Loss across versions"
      ]
    },
    {
      "cell_type": "code",
      "metadata": {
        "id": "9_w7zmzDW0d1",
        "colab_type": "code",
        "colab": {
          "base_uri": "https://localhost:8080/",
          "height": 295
        },
        "outputId": "4f758fae-f398-4bb2-cb8d-e2b1bd3556bc"
      },
      "source": [
        "val_loss.plot.line(title='Various Regularization effect on Validation Loss ',use_index =True).set(xlabel='Epochs',ylabel='Neg Log-Loss',xticks=val_acc.index)\n",
        "plt.legend(frameon=False)\n",
        "plt.savefig('models/val_loss.jpg')\n",
        "plt.show()"
      ],
      "execution_count": null,
      "outputs": [
        {
          "output_type": "display_data",
          "data": {
            "image/png": "[encoded data removed]",
            "text/plain": [
              "<Figure size 432x288 with 1 Axes>"
            ]
          },
          "metadata": {
            "tags": [],
            "needs_background": "light"
          }
        }
      ]
    }
  ]
}