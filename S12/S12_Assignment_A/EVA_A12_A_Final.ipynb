{
  "nbformat": 4,
  "nbformat_minor": 0,
  "metadata": {
    "colab": {
      "name": "EVA_A12_A_Final.ipynb",
      "provenance": [],
      "collapsed_sections": []
    },
    "kernelspec": {
      "name": "python3",
      "display_name": "Python 3"
    },
    "accelerator": "GPU",
    "widgets": {
      "application/vnd.jupyter.widget-state+json": {
        "b7f230a25e7f4f338872c7b1bc245aa4": {
          "model_module": "@jupyter-widgets/controls",
          "model_name": "HBoxModel",
          "state": {
            "_view_name": "HBoxView",
            "_dom_classes": [],
            "_model_name": "HBoxModel",
            "_view_module": "@jupyter-widgets/controls",
            "_model_module_version": "1.5.0",
            "_view_count": null,
            "_view_module_version": "1.5.0",
            "box_style": "",
            "layout": "IPY_MODEL_2af2377da46a408c90e9fe1b5fae7668",
            "_model_module": "@jupyter-widgets/controls",
            "children": [
              "IPY_MODEL_3ca6712aa8aa4682b844c5fd0606610d",
              "IPY_MODEL_de2193a2575349f1ab7a04b995d3a8be"
            ]
          }
        },
        "2af2377da46a408c90e9fe1b5fae7668": {
          "model_module": "@jupyter-widgets/base",
          "model_name": "LayoutModel",
          "state": {
            "_view_name": "LayoutView",
            "grid_template_rows": null,
            "right": null,
            "justify_content": null,
            "_view_module": "@jupyter-widgets/base",
            "overflow": null,
            "_model_module_version": "1.2.0",
            "_view_count": null,
            "flex_flow": null,
            "width": null,
            "min_width": null,
            "border": null,
            "align_items": null,
            "bottom": null,
            "_model_module": "@jupyter-widgets/base",
            "top": null,
            "grid_column": null,
            "overflow_y": null,
            "overflow_x": null,
            "grid_auto_flow": null,
            "grid_area": null,
            "grid_template_columns": null,
            "flex": null,
            "_model_name": "LayoutModel",
            "justify_items": null,
            "grid_row": null,
            "max_height": null,
            "align_content": null,
            "visibility": null,
            "align_self": null,
            "height": null,
            "min_height": null,
            "padding": null,
            "grid_auto_rows": null,
            "grid_gap": null,
            "max_width": null,
            "order": null,
            "_view_module_version": "1.2.0",
            "grid_template_areas": null,
            "object_position": null,
            "object_fit": null,
            "grid_auto_columns": null,
            "margin": null,
            "display": null,
            "left": null
          }
        },
        "3ca6712aa8aa4682b844c5fd0606610d": {
          "model_module": "@jupyter-widgets/controls",
          "model_name": "FloatProgressModel",
          "state": {
            "_view_name": "ProgressView",
            "style": "IPY_MODEL_90f8a1a5aa7f489aa2ec2484451978cb",
            "_dom_classes": [],
            "description": "100%",
            "_model_name": "FloatProgressModel",
            "bar_style": "success",
            "max": 100,
            "_view_module": "@jupyter-widgets/controls",
            "_model_module_version": "1.5.0",
            "value": 100,
            "_view_count": null,
            "_view_module_version": "1.5.0",
            "orientation": "horizontal",
            "min": 0,
            "description_tooltip": null,
            "_model_module": "@jupyter-widgets/controls",
            "layout": "IPY_MODEL_6806e4dc6ab4400ba3cd87f3b325a6c7"
          }
        },
        "de2193a2575349f1ab7a04b995d3a8be": {
          "model_module": "@jupyter-widgets/controls",
          "model_name": "HTMLModel",
          "state": {
            "_view_name": "HTMLView",
            "style": "IPY_MODEL_10b642642d884d69b624fd1cd7a4f1ae",
            "_dom_classes": [],
            "description": "",
            "_model_name": "HTMLModel",
            "placeholder": "​",
            "_view_module": "@jupyter-widgets/controls",
            "_model_module_version": "1.5.0",
            "value": " 100/100 [00:38&lt;00:00,  2.58it/s]",
            "_view_count": null,
            "_view_module_version": "1.5.0",
            "description_tooltip": null,
            "_model_module": "@jupyter-widgets/controls",
            "layout": "IPY_MODEL_d0685eaeac014bb88b35bd177e4cc20c"
          }
        },
        "90f8a1a5aa7f489aa2ec2484451978cb": {
          "model_module": "@jupyter-widgets/controls",
          "model_name": "ProgressStyleModel",
          "state": {
            "_view_name": "StyleView",
            "_model_name": "ProgressStyleModel",
            "description_width": "initial",
            "_view_module": "@jupyter-widgets/base",
            "_model_module_version": "1.5.0",
            "_view_count": null,
            "_view_module_version": "1.2.0",
            "bar_color": null,
            "_model_module": "@jupyter-widgets/controls"
          }
        },
        "6806e4dc6ab4400ba3cd87f3b325a6c7": {
          "model_module": "@jupyter-widgets/base",
          "model_name": "LayoutModel",
          "state": {
            "_view_name": "LayoutView",
            "grid_template_rows": null,
            "right": null,
            "justify_content": null,
            "_view_module": "@jupyter-widgets/base",
            "overflow": null,
            "_model_module_version": "1.2.0",
            "_view_count": null,
            "flex_flow": null,
            "width": null,
            "min_width": null,
            "border": null,
            "align_items": null,
            "bottom": null,
            "_model_module": "@jupyter-widgets/base",
            "top": null,
            "grid_column": null,
            "overflow_y": null,
            "overflow_x": null,
            "grid_auto_flow": null,
            "grid_area": null,
            "grid_template_columns": null,
            "flex": null,
            "_model_name": "LayoutModel",
            "justify_items": null,
            "grid_row": null,
            "max_height": null,
            "align_content": null,
            "visibility": null,
            "align_self": null,
            "height": null,
            "min_height": null,
            "padding": null,
            "grid_auto_rows": null,
            "grid_gap": null,
            "max_width": null,
            "order": null,
            "_view_module_version": "1.2.0",
            "grid_template_areas": null,
            "object_position": null,
            "object_fit": null,
            "grid_auto_columns": null,
            "margin": null,
            "display": null,
            "left": null
          }
        },
        "10b642642d884d69b624fd1cd7a4f1ae": {
          "model_module": "@jupyter-widgets/controls",
          "model_name": "DescriptionStyleModel",
          "state": {
            "_view_name": "StyleView",
            "_model_name": "DescriptionStyleModel",
            "description_width": "",
            "_view_module": "@jupyter-widgets/base",
            "_model_module_version": "1.5.0",
            "_view_count": null,
            "_view_module_version": "1.2.0",
            "_model_module": "@jupyter-widgets/controls"
          }
        },
        "d0685eaeac014bb88b35bd177e4cc20c": {
          "model_module": "@jupyter-widgets/base",
          "model_name": "LayoutModel",
          "state": {
            "_view_name": "LayoutView",
            "grid_template_rows": null,
            "right": null,
            "justify_content": null,
            "_view_module": "@jupyter-widgets/base",
            "overflow": null,
            "_model_module_version": "1.2.0",
            "_view_count": null,
            "flex_flow": null,
            "width": null,
            "min_width": null,
            "border": null,
            "align_items": null,
            "bottom": null,
            "_model_module": "@jupyter-widgets/base",
            "top": null,
            "grid_column": null,
            "overflow_y": null,
            "overflow_x": null,
            "grid_auto_flow": null,
            "grid_area": null,
            "grid_template_columns": null,
            "flex": null,
            "_model_name": "LayoutModel",
            "justify_items": null,
            "grid_row": null,
            "max_height": null,
            "align_content": null,
            "visibility": null,
            "align_self": null,
            "height": null,
            "min_height": null,
            "padding": null,
            "grid_auto_rows": null,
            "grid_gap": null,
            "max_width": null,
            "order": null,
            "_view_module_version": "1.2.0",
            "grid_template_areas": null,
            "object_position": null,
            "object_fit": null,
            "grid_auto_columns": null,
            "margin": null,
            "display": null,
            "left": null
          }
        }
      }
    }
  },
  "cells": [
    {
      "cell_type": "markdown",
      "metadata": {
        "id": "ffMMIqL4CKAU"
      },
      "source": [
        "# Install custom package "
      ]
    },
    {
      "cell_type": "code",
      "metadata": {
        "id": "kT4YT7jCvc6o",
        "outputId": "073e6484-4479-4350-91c6-b1abdb517cb9",
        "colab": {
          "base_uri": "https://localhost:8080/",
          "height": 70
        }
      },
      "source": [
        "!python -m pip install --upgrade git+https://github.com/vigneshbabupj/Pyvisionaire.git#egg=Visionaire -q --quiet\n"
      ],
      "execution_count": 1,
      "outputs": [
        {
          "output_type": "stream",
          "text": [
            "\u001b[?25l\r\u001b[K     |▌                               | 10kB 18.3MB/s eta 0:00:01\r\u001b[K     |█                               | 20kB 6.3MB/s eta 0:00:01\r\u001b[K     |█▋                              | 30kB 7.2MB/s eta 0:00:01\r\u001b[K     |██                              | 40kB 7.4MB/s eta 0:00:01\r\u001b[K     |██▋                             | 51kB 7.3MB/s eta 0:00:01\r\u001b[K     |███▏                            | 61kB 8.3MB/s eta 0:00:01\r\u001b[K     |███▋                            | 71kB 8.5MB/s eta 0:00:01\r\u001b[K     |████▏                           | 81kB 9.4MB/s eta 0:00:01\r\u001b[K     |████▊                           | 92kB 9.3MB/s eta 0:00:01\r\u001b[K     |█████▏                          | 102kB 9.6MB/s eta 0:00:01\r\u001b[K     |█████▊                          | 112kB 9.6MB/s eta 0:00:01\r\u001b[K     |██████▎                         | 122kB 9.6MB/s eta 0:00:01\r\u001b[K     |██████▊                         | 133kB 9.6MB/s eta 0:00:01\r\u001b[K     |███████▎                        | 143kB 9.6MB/s eta 0:00:01\r\u001b[K     |███████▉                        | 153kB 9.6MB/s eta 0:00:01\r\u001b[K     |████████▎                       | 163kB 9.6MB/s eta 0:00:01\r\u001b[K     |████████▉                       | 174kB 9.6MB/s eta 0:00:01\r\u001b[K     |█████████▍                      | 184kB 9.6MB/s eta 0:00:01\r\u001b[K     |█████████▉                      | 194kB 9.6MB/s eta 0:00:01\r\u001b[K     |██████████▍                     | 204kB 9.6MB/s eta 0:00:01\r\u001b[K     |███████████                     | 215kB 9.6MB/s eta 0:00:01\r\u001b[K     |███████████▍                    | 225kB 9.6MB/s eta 0:00:01\r\u001b[K     |████████████                    | 235kB 9.6MB/s eta 0:00:01\r\u001b[K     |████████████▌                   | 245kB 9.6MB/s eta 0:00:01\r\u001b[K     |█████████████                   | 256kB 9.6MB/s eta 0:00:01\r\u001b[K     |█████████████▌                  | 266kB 9.6MB/s eta 0:00:01\r\u001b[K     |██████████████                  | 276kB 9.6MB/s eta 0:00:01\r\u001b[K     |██████████████▌                 | 286kB 9.6MB/s eta 0:00:01\r\u001b[K     |███████████████                 | 296kB 9.6MB/s eta 0:00:01\r\u001b[K     |███████████████▋                | 307kB 9.6MB/s eta 0:00:01\r\u001b[K     |████████████████                | 317kB 9.6MB/s eta 0:00:01\r\u001b[K     |████████████████▋               | 327kB 9.6MB/s eta 0:00:01\r\u001b[K     |█████████████████▏              | 337kB 9.6MB/s eta 0:00:01\r\u001b[K     |█████████████████▋              | 348kB 9.6MB/s eta 0:00:01\r\u001b[K     |██████████████████▏             | 358kB 9.6MB/s eta 0:00:01\r\u001b[K     |██████████████████▊             | 368kB 9.6MB/s eta 0:00:01\r\u001b[K     |███████████████████▏            | 378kB 9.6MB/s eta 0:00:01\r\u001b[K     |███████████████████▊            | 389kB 9.6MB/s eta 0:00:01\r\u001b[K     |████████████████████▎           | 399kB 9.6MB/s eta 0:00:01\r\u001b[K     |████████████████████▊           | 409kB 9.6MB/s eta 0:00:01\r\u001b[K     |█████████████████████▎          | 419kB 9.6MB/s eta 0:00:01\r\u001b[K     |█████████████████████▉          | 430kB 9.6MB/s eta 0:00:01\r\u001b[K     |██████████████████████▎         | 440kB 9.6MB/s eta 0:00:01\r\u001b[K     |██████████████████████▉         | 450kB 9.6MB/s eta 0:00:01\r\u001b[K     |███████████████████████▍        | 460kB 9.6MB/s eta 0:00:01\r\u001b[K     |███████████████████████▉        | 471kB 9.6MB/s eta 0:00:01\r\u001b[K     |████████████████████████▍       | 481kB 9.6MB/s eta 0:00:01\r\u001b[K     |█████████████████████████       | 491kB 9.6MB/s eta 0:00:01\r\u001b[K     |█████████████████████████▍      | 501kB 9.6MB/s eta 0:00:01\r\u001b[K     |██████████████████████████      | 512kB 9.6MB/s eta 0:00:01\r\u001b[K     |██████████████████████████▌     | 522kB 9.6MB/s eta 0:00:01\r\u001b[K     |███████████████████████████     | 532kB 9.6MB/s eta 0:00:01\r\u001b[K     |███████████████████████████▌    | 542kB 9.6MB/s eta 0:00:01\r\u001b[K     |████████████████████████████    | 552kB 9.6MB/s eta 0:00:01\r\u001b[K     |████████████████████████████▌   | 563kB 9.6MB/s eta 0:00:01\r\u001b[K     |█████████████████████████████   | 573kB 9.6MB/s eta 0:00:01\r\u001b[K     |█████████████████████████████▋  | 583kB 9.6MB/s eta 0:00:01\r\u001b[K     |██████████████████████████████  | 593kB 9.6MB/s eta 0:00:01\r\u001b[K     |██████████████████████████████▋ | 604kB 9.6MB/s eta 0:00:01\r\u001b[K     |███████████████████████████████▏| 614kB 9.6MB/s eta 0:00:01\r\u001b[K     |███████████████████████████████▋| 624kB 9.6MB/s eta 0:00:01\r\u001b[K     |████████████████████████████████| 634kB 9.6MB/s \n",
            "\u001b[?25h  Building wheel for Visionaire (setup.py) ... \u001b[?25l\u001b[?25hdone\n",
            "  Building wheel for imgaug (setup.py) ... \u001b[?25l\u001b[?25hdone\n"
          ],
          "name": "stdout"
        }
      ]
    },
    {
      "cell_type": "markdown",
      "metadata": {
        "id": "TYmXn6H-CPha"
      },
      "source": [
        "## Install requirments\n",
        "\n",
        "\n",
        "\n"
      ]
    },
    {
      "cell_type": "code",
      "metadata": {
        "id": "Q3P_bMTMvjCv",
        "outputId": "e737e1da-4ade-4dc6-f75e-b0e27369ddad",
        "colab": {
          "base_uri": "https://localhost:8080/",
          "height": 52
        }
      },
      "source": [
        "!pip install -U git+https://github.com/albumentations-team/albumentations -q --quiet\n",
        "!pip install torch-lr-finder -q --quiet"
      ],
      "execution_count": 2,
      "outputs": [
        {
          "output_type": "stream",
          "text": [
            "\u001b[?25l\r\u001b[K     |▍                               | 10kB 24.5MB/s eta 0:00:01\r\u001b[K     |▊                               | 20kB 6.4MB/s eta 0:00:01\r\u001b[K     |█                               | 30kB 7.4MB/s eta 0:00:01\r\u001b[K     |█▍                              | 40kB 8.2MB/s eta 0:00:01\r\u001b[K     |█▊                              | 51kB 7.0MB/s eta 0:00:01\r\u001b[K     |██                              | 61kB 7.6MB/s eta 0:00:01\r\u001b[K     |██▍                             | 71kB 8.5MB/s eta 0:00:01\r\u001b[K     |██▊                             | 81kB 8.8MB/s eta 0:00:01\r\u001b[K     |███                             | 92kB 8.5MB/s eta 0:00:01\r\u001b[K     |███▌                            | 102kB 9.2MB/s eta 0:00:01\r\u001b[K     |███▉                            | 112kB 9.2MB/s eta 0:00:01\r\u001b[K     |████▏                           | 122kB 9.2MB/s eta 0:00:01\r\u001b[K     |████▌                           | 133kB 9.2MB/s eta 0:00:01\r\u001b[K     |████▉                           | 143kB 9.2MB/s eta 0:00:01\r\u001b[K     |█████▏                          | 153kB 9.2MB/s eta 0:00:01\r\u001b[K     |█████▌                          | 163kB 9.2MB/s eta 0:00:01\r\u001b[K     |█████▉                          | 174kB 9.2MB/s eta 0:00:01\r\u001b[K     |██████▏                         | 184kB 9.2MB/s eta 0:00:01\r\u001b[K     |██████▋                         | 194kB 9.2MB/s eta 0:00:01\r\u001b[K     |███████                         | 204kB 9.2MB/s eta 0:00:01\r\u001b[K     |███████▎                        | 215kB 9.2MB/s eta 0:00:01\r\u001b[K     |███████▋                        | 225kB 9.2MB/s eta 0:00:01\r\u001b[K     |████████                        | 235kB 9.2MB/s eta 0:00:01\r\u001b[K     |████████▎                       | 245kB 9.2MB/s eta 0:00:01\r\u001b[K     |████████▋                       | 256kB 9.2MB/s eta 0:00:01\r\u001b[K     |█████████                       | 266kB 9.2MB/s eta 0:00:01\r\u001b[K     |█████████▎                      | 276kB 9.2MB/s eta 0:00:01\r\u001b[K     |█████████▊                      | 286kB 9.2MB/s eta 0:00:01\r\u001b[K     |██████████                      | 296kB 9.2MB/s eta 0:00:01\r\u001b[K     |██████████▍                     | 307kB 9.2MB/s eta 0:00:01\r\u001b[K     |██████████▊                     | 317kB 9.2MB/s eta 0:00:01\r\u001b[K     |███████████                     | 327kB 9.2MB/s eta 0:00:01\r\u001b[K     |███████████▍                    | 337kB 9.2MB/s eta 0:00:01\r\u001b[K     |███████████▊                    | 348kB 9.2MB/s eta 0:00:01\r\u001b[K     |████████████                    | 358kB 9.2MB/s eta 0:00:01\r\u001b[K     |████████████▍                   | 368kB 9.2MB/s eta 0:00:01\r\u001b[K     |████████████▉                   | 378kB 9.2MB/s eta 0:00:01\r\u001b[K     |█████████████▏                  | 389kB 9.2MB/s eta 0:00:01\r\u001b[K     |█████████████▌                  | 399kB 9.2MB/s eta 0:00:01\r\u001b[K     |█████████████▉                  | 409kB 9.2MB/s eta 0:00:01\r\u001b[K     |██████████████▏                 | 419kB 9.2MB/s eta 0:00:01\r\u001b[K     |██████████████▌                 | 430kB 9.2MB/s eta 0:00:01\r\u001b[K     |██████████████▉                 | 440kB 9.2MB/s eta 0:00:01\r\u001b[K     |███████████████▏                | 450kB 9.2MB/s eta 0:00:01\r\u001b[K     |███████████████▌                | 460kB 9.2MB/s eta 0:00:01\r\u001b[K     |████████████████                | 471kB 9.2MB/s eta 0:00:01\r\u001b[K     |████████████████▎               | 481kB 9.2MB/s eta 0:00:01\r\u001b[K     |████████████████▋               | 491kB 9.2MB/s eta 0:00:01\r\u001b[K     |█████████████████               | 501kB 9.2MB/s eta 0:00:01\r\u001b[K     |█████████████████▎              | 512kB 9.2MB/s eta 0:00:01\r\u001b[K     |█████████████████▋              | 522kB 9.2MB/s eta 0:00:01\r\u001b[K     |██████████████████              | 532kB 9.2MB/s eta 0:00:01\r\u001b[K     |██████████████████▎             | 542kB 9.2MB/s eta 0:00:01\r\u001b[K     |██████████████████▋             | 552kB 9.2MB/s eta 0:00:01\r\u001b[K     |███████████████████             | 563kB 9.2MB/s eta 0:00:01\r\u001b[K     |███████████████████▍            | 573kB 9.2MB/s eta 0:00:01\r\u001b[K     |███████████████████▊            | 583kB 9.2MB/s eta 0:00:01\r\u001b[K     |████████████████████            | 593kB 9.2MB/s eta 0:00:01\r\u001b[K     |████████████████████▍           | 604kB 9.2MB/s eta 0:00:01\r\u001b[K     |████████████████████▊           | 614kB 9.2MB/s eta 0:00:01\r\u001b[K     |█████████████████████           | 624kB 9.2MB/s eta 0:00:01\r\u001b[K     |█████████████████████▍          | 634kB 9.2MB/s eta 0:00:01\r\u001b[K     |█████████████████████▊          | 645kB 9.2MB/s eta 0:00:01\r\u001b[K     |██████████████████████▏         | 655kB 9.2MB/s eta 0:00:01\r\u001b[K     |██████████████████████▌         | 665kB 9.2MB/s eta 0:00:01\r\u001b[K     |██████████████████████▉         | 675kB 9.2MB/s eta 0:00:01\r\u001b[K     |███████████████████████▏        | 686kB 9.2MB/s eta 0:00:01\r\u001b[K     |███████████████████████▌        | 696kB 9.2MB/s eta 0:00:01\r\u001b[K     |███████████████████████▉        | 706kB 9.2MB/s eta 0:00:01\r\u001b[K     |████████████████████████▏       | 716kB 9.2MB/s eta 0:00:01\r\u001b[K     |████████████████████████▌       | 727kB 9.2MB/s eta 0:00:01\r\u001b[K     |████████████████████████▉       | 737kB 9.2MB/s eta 0:00:01\r\u001b[K     |█████████████████████████▎      | 747kB 9.2MB/s eta 0:00:01\r\u001b[K     |█████████████████████████▋      | 757kB 9.2MB/s eta 0:00:01\r\u001b[K     |██████████████████████████      | 768kB 9.2MB/s eta 0:00:01\r\u001b[K     |██████████████████████████▎     | 778kB 9.2MB/s eta 0:00:01\r\u001b[K     |██████████████████████████▋     | 788kB 9.2MB/s eta 0:00:01\r\u001b[K     |███████████████████████████     | 798kB 9.2MB/s eta 0:00:01\r\u001b[K     |███████████████████████████▎    | 808kB 9.2MB/s eta 0:00:01\r\u001b[K     |███████████████████████████▋    | 819kB 9.2MB/s eta 0:00:01\r\u001b[K     |████████████████████████████    | 829kB 9.2MB/s eta 0:00:01\r\u001b[K     |████████████████████████████▍   | 839kB 9.2MB/s eta 0:00:01\r\u001b[K     |████████████████████████████▊   | 849kB 9.2MB/s eta 0:00:01\r\u001b[K     |█████████████████████████████   | 860kB 9.2MB/s eta 0:00:01\r\u001b[K     |█████████████████████████████▍  | 870kB 9.2MB/s eta 0:00:01\r\u001b[K     |█████████████████████████████▊  | 880kB 9.2MB/s eta 0:00:01\r\u001b[K     |██████████████████████████████  | 890kB 9.2MB/s eta 0:00:01\r\u001b[K     |██████████████████████████████▍ | 901kB 9.2MB/s eta 0:00:01\r\u001b[K     |██████████████████████████████▊ | 911kB 9.2MB/s eta 0:00:01\r\u001b[K     |███████████████████████████████ | 921kB 9.2MB/s eta 0:00:01\r\u001b[K     |███████████████████████████████▌| 931kB 9.2MB/s eta 0:00:01\r\u001b[K     |███████████████████████████████▉| 942kB 9.2MB/s eta 0:00:01\r\u001b[K     |████████████████████████████████| 952kB 9.2MB/s \n",
            "\u001b[?25h  Building wheel for albumentations (setup.py) ... \u001b[?25l\u001b[?25hdone\n"
          ],
          "name": "stdout"
        }
      ]
    },
    {
      "cell_type": "code",
      "metadata": {
        "id": "UzrciiohvmF1",
        "outputId": "564e0e8f-bfbf-4780-ab2a-dee4cfa3a460",
        "colab": {
          "base_uri": "https://localhost:8080/",
          "height": 159
        }
      },
      "source": [
        "!git clone https://github.com/vigneshbabupj/EVA5"
      ],
      "execution_count": 3,
      "outputs": [
        {
          "output_type": "stream",
          "text": [
            "Cloning into 'EVA5'...\n",
            "remote: Enumerating objects: 26, done.\u001b[K\n",
            "remote: Counting objects: 100% (26/26), done.\u001b[K\n",
            "remote: Compressing objects: 100% (23/23), done.\u001b[K\n",
            "remote: Total 120967 (delta 5), reused 21 (delta 2), pack-reused 120941\u001b[K\n",
            "Receiving objects: 100% (120967/120967), 225.42 MiB | 23.92 MiB/s, done.\n",
            "Resolving deltas: 100% (1229/1229), done.\n",
            "Checking out files: 100% (120471/120471), done.\n"
          ],
          "name": "stdout"
        }
      ]
    },
    {
      "cell_type": "code",
      "metadata": {
        "id": "fng2vvDuvodQ",
        "outputId": "2e2328c5-3768-4137-a9f1-3ef00b756026",
        "colab": {
          "base_uri": "https://localhost:8080/",
          "height": 35
        }
      },
      "source": [
        "%cd EVA5/S12/"
      ],
      "execution_count": 4,
      "outputs": [
        {
          "output_type": "stream",
          "text": [
            "/content/EVA5/S12\n"
          ],
          "name": "stdout"
        }
      ]
    },
    {
      "cell_type": "code",
      "metadata": {
        "id": "uPa6aMjRvrU0"
      },
      "source": [
        "import Visionaire\n",
        "from Visionaire.trainer import trainer"
      ],
      "execution_count": 5,
      "outputs": []
    },
    {
      "cell_type": "markdown",
      "metadata": {
        "id": "aq2lvXGYCcCy"
      },
      "source": [
        "## Define parameters for the training"
      ]
    },
    {
      "cell_type": "code",
      "metadata": {
        "id": "tEL-V_davvai"
      },
      "source": [
        "params = {\n",
        "    'Image_Augmentation':'TinyImagenet_Albumentation',\n",
        "    'data' : 'TinyImagenet_dataloader',\n",
        "    'model': 'ResNet18',\n",
        "    'model_type':'EVA', # EVA or predefined\n",
        "    'Batch_Size' : 256,\n",
        "    'epochs':50,\n",
        "    'criterion': 'CrossEntropyLoss',\n",
        "    'L1_regularizer_lambda': 0,\n",
        "    'L2_regularizer_lambda': 0.05,\n",
        "    'optimizer': {\n",
        "        'name':'SGD',\n",
        "        'lr':0.001,\n",
        "        'momentum':0.9\n",
        "        #'weight_decay':0 L2_regularizer_lambda value will be automatically used here\n",
        "                },\n",
        "    'scheduler': {\n",
        "         'name':'OneCycleLR',\n",
        "         'max_at_epoch': 20\n",
        "    }\n",
        "}"
      ],
      "execution_count": 6,
      "outputs": []
    },
    {
      "cell_type": "markdown",
      "metadata": {
        "id": "y8ZEGd2ACjlz"
      },
      "source": [
        "## Create trainer object and load data( Tiny Imagenet)"
      ]
    },
    {
      "cell_type": "code",
      "metadata": {
        "id": "ChYWaBjVvyRF",
        "outputId": "6b066af7-0abc-4a53-8fb5-b374102afdcc",
        "colab": {
          "base_uri": "https://localhost:8080/",
          "height": 88
        }
      },
      "source": [
        "my_trainer = trainer(params)\n",
        "my_trainer.load_data()"
      ],
      "execution_count": 7,
      "outputs": [
        {
          "output_type": "stream",
          "text": [
            "Using Cuda :  True\n",
            "Data Loader : \n",
            "starting loading data\n",
            "finished loading data, in 41.7904577255249 seconds\n"
          ],
          "name": "stdout"
        }
      ]
    },
    {
      "cell_type": "markdown",
      "metadata": {
        "id": "C_joTBlqCqhE"
      },
      "source": [
        "## Model Summary"
      ]
    },
    {
      "cell_type": "code",
      "metadata": {
        "id": "RSDwfScmv3C2",
        "outputId": "977641b5-7159-4773-90c1-7d5db17b64fd",
        "colab": {
          "base_uri": "https://localhost:8080/",
          "height": 1000
        }
      },
      "source": [
        "my_trainer.model_summary((3,64,64))\n"
      ],
      "execution_count": 8,
      "outputs": [
        {
          "output_type": "stream",
          "text": [
            "----------------------------------------------------------------\n",
            "        Layer (type)               Output Shape         Param #\n",
            "================================================================\n",
            "            Conv2d-1           [-1, 64, 64, 64]           1,728\n",
            "       BatchNorm2d-2           [-1, 64, 64, 64]             128\n",
            "            Conv2d-3           [-1, 64, 64, 64]          36,864\n",
            "       BatchNorm2d-4           [-1, 64, 64, 64]             128\n",
            "            Conv2d-5           [-1, 64, 64, 64]          36,864\n",
            "       BatchNorm2d-6           [-1, 64, 64, 64]             128\n",
            "        BasicBlock-7           [-1, 64, 64, 64]               0\n",
            "            Conv2d-8           [-1, 64, 64, 64]          36,864\n",
            "       BatchNorm2d-9           [-1, 64, 64, 64]             128\n",
            "           Conv2d-10           [-1, 64, 64, 64]          36,864\n",
            "      BatchNorm2d-11           [-1, 64, 64, 64]             128\n",
            "       BasicBlock-12           [-1, 64, 64, 64]               0\n",
            "           Conv2d-13          [-1, 128, 32, 32]          73,728\n",
            "      BatchNorm2d-14          [-1, 128, 32, 32]             256\n",
            "           Conv2d-15          [-1, 128, 32, 32]         147,456\n",
            "      BatchNorm2d-16          [-1, 128, 32, 32]             256\n",
            "           Conv2d-17          [-1, 128, 32, 32]           8,192\n",
            "      BatchNorm2d-18          [-1, 128, 32, 32]             256\n",
            "       BasicBlock-19          [-1, 128, 32, 32]               0\n",
            "           Conv2d-20          [-1, 128, 32, 32]         147,456\n",
            "      BatchNorm2d-21          [-1, 128, 32, 32]             256\n",
            "           Conv2d-22          [-1, 128, 32, 32]         147,456\n",
            "      BatchNorm2d-23          [-1, 128, 32, 32]             256\n",
            "       BasicBlock-24          [-1, 128, 32, 32]               0\n",
            "           Conv2d-25          [-1, 256, 16, 16]         294,912\n",
            "      BatchNorm2d-26          [-1, 256, 16, 16]             512\n",
            "           Conv2d-27          [-1, 256, 16, 16]         589,824\n",
            "      BatchNorm2d-28          [-1, 256, 16, 16]             512\n",
            "           Conv2d-29          [-1, 256, 16, 16]          32,768\n",
            "      BatchNorm2d-30          [-1, 256, 16, 16]             512\n",
            "       BasicBlock-31          [-1, 256, 16, 16]               0\n",
            "           Conv2d-32          [-1, 256, 16, 16]         589,824\n",
            "      BatchNorm2d-33          [-1, 256, 16, 16]             512\n",
            "           Conv2d-34          [-1, 256, 16, 16]         589,824\n",
            "      BatchNorm2d-35          [-1, 256, 16, 16]             512\n",
            "       BasicBlock-36          [-1, 256, 16, 16]               0\n",
            "           Conv2d-37            [-1, 512, 8, 8]       1,179,648\n",
            "      BatchNorm2d-38            [-1, 512, 8, 8]           1,024\n",
            "           Conv2d-39            [-1, 512, 8, 8]       2,359,296\n",
            "      BatchNorm2d-40            [-1, 512, 8, 8]           1,024\n",
            "           Conv2d-41            [-1, 512, 8, 8]         131,072\n",
            "      BatchNorm2d-42            [-1, 512, 8, 8]           1,024\n",
            "       BasicBlock-43            [-1, 512, 8, 8]               0\n",
            "           Conv2d-44            [-1, 512, 8, 8]       2,359,296\n",
            "      BatchNorm2d-45            [-1, 512, 8, 8]           1,024\n",
            "           Conv2d-46            [-1, 512, 8, 8]       2,359,296\n",
            "      BatchNorm2d-47            [-1, 512, 8, 8]           1,024\n",
            "       BasicBlock-48            [-1, 512, 8, 8]               0\n",
            "AdaptiveAvgPool2d-49            [-1, 512, 1, 1]               0\n",
            "           Linear-50                  [-1, 200]         102,600\n",
            "================================================================\n",
            "Total params: 11,271,432\n",
            "Trainable params: 11,271,432\n",
            "Non-trainable params: 0\n",
            "----------------------------------------------------------------\n",
            "Input size (MB): 0.05\n",
            "Forward/backward pass size (MB): 45.01\n",
            "Params size (MB): 43.00\n",
            "Estimated Total Size (MB): 88.05\n",
            "----------------------------------------------------------------\n",
            "None\n"
          ],
          "name": "stdout"
        }
      ]
    },
    {
      "cell_type": "markdown",
      "metadata": {
        "id": "T1YrmcDcCtkz"
      },
      "source": [
        "## Find best learning rate"
      ]
    },
    {
      "cell_type": "code",
      "metadata": {
        "id": "JIPf-9gCv6Ct",
        "outputId": "fc0db27e-ab21-4c79-8801-de00599fafcc",
        "colab": {
          "base_uri": "https://localhost:8080/",
          "height": 400,
          "referenced_widgets": [
            "b7f230a25e7f4f338872c7b1bc245aa4",
            "2af2377da46a408c90e9fe1b5fae7668",
            "3ca6712aa8aa4682b844c5fd0606610d",
            "de2193a2575349f1ab7a04b995d3a8be",
            "90f8a1a5aa7f489aa2ec2484451978cb",
            "6806e4dc6ab4400ba3cd87f3b325a6c7",
            "10b642642d884d69b624fd1cd7a4f1ae",
            "d0685eaeac014bb88b35bd177e4cc20c"
          ]
        }
      },
      "source": [
        "my_trainer.find_lr()"
      ],
      "execution_count": 9,
      "outputs": [
        {
          "output_type": "display_data",
          "data": {
            "application/vnd.jupyter.widget-view+json": {
              "model_id": "b7f230a25e7f4f338872c7b1bc245aa4",
              "version_minor": 0,
              "version_major": 2
            },
            "text/plain": [
              "HBox(children=(FloatProgress(value=0.0), HTML(value='')))"
            ]
          },
          "metadata": {
            "tags": []
          }
        },
        {
          "output_type": "stream",
          "text": [
            "\n",
            "Learning rate search finished. See the graph with {finder_name}.plot()\n",
            "LR suggestion: steepest gradient\n",
            "Suggested LR: 1.40E-02\n"
          ],
          "name": "stdout"
        },
        {
          "output_type": "display_data",
          "data": {
            "image/png": "[encoded data removed]",
            "text/plain": [
              "<Figure size 432x288 with 1 Axes>"
            ]
          },
          "metadata": {
            "tags": [],
            "needs_background": "light"
          }
        },
        {
          "output_type": "stream",
          "text": [
            "Best lr : 0.059163112406420956\n"
          ],
          "name": "stdout"
        }
      ]
    },
    {
      "cell_type": "markdown",
      "metadata": {
        "id": "bFclzFJpCxTS"
      },
      "source": [
        "## Model Training"
      ]
    },
    {
      "cell_type": "code",
      "metadata": {
        "id": "oXezzaj5v6Fd",
        "outputId": "77005ca1-b191-4e79-a8da-50538d837b7f",
        "colab": {
          "base_uri": "https://localhost:8080/",
          "height": 1000
        }
      },
      "source": [
        "my_trainer.run(0.05)"
      ],
      "execution_count": 11,
      "outputs": [
        {
          "output_type": "stream",
          "text": [
            "\r  0%|          | 0/391 [00:00<?, ?it/s]"
          ],
          "name": "stderr"
        },
        {
          "output_type": "stream",
          "text": [
            "\n",
            " EPOCH: 0\n",
            "Learning Rate :  0.0049999999999999975\n"
          ],
          "name": "stdout"
        },
        {
          "output_type": "stream",
          "text": [
            "Train: Batch id: 390 \tLoss: 3.945954\t Accuracy:8.000: 100%|██████████| 391/391 [02:24<00:00,  2.71it/s]\n",
            "  0%|          | 0/391 [00:00<?, ?it/s]"
          ],
          "name": "stderr"
        },
        {
          "output_type": "stream",
          "text": [
            "\n",
            "Test set: loss: 0.016631, Accuracy: 1139/10000 (11.390%)\n",
            "\n",
            "\n",
            " EPOCH: 1\n",
            "Learning Rate :  0.0052770830515474695\n"
          ],
          "name": "stdout"
        },
        {
          "output_type": "stream",
          "text": [
            "Train: Batch id: 390 \tLoss: 3.584899\t Accuracy:18.530: 100%|██████████| 391/391 [02:23<00:00,  2.73it/s]\n",
            "  0%|          | 0/391 [00:00<?, ?it/s]"
          ],
          "name": "stderr"
        },
        {
          "output_type": "stream",
          "text": [
            "\n",
            "Test set: loss: 0.014064, Accuracy: 2011/10000 (20.110%)\n",
            "\n",
            "\n",
            " EPOCH: 2\n",
            "Learning Rate :  0.006101507760193928\n"
          ],
          "name": "stdout"
        },
        {
          "output_type": "stream",
          "text": [
            "Train: Batch id: 390 \tLoss: 3.023041\t Accuracy:25.568: 100%|██████████| 391/391 [02:22<00:00,  2.74it/s]\n",
            "  0%|          | 0/391 [00:00<?, ?it/s]"
          ],
          "name": "stderr"
        },
        {
          "output_type": "stream",
          "text": [
            "\n",
            "Test set: loss: 0.013050, Accuracy: 2575/10000 (25.750%)\n",
            "\n",
            "\n",
            " EPOCH: 3\n",
            "Learning Rate :  0.007452968871357754\n"
          ],
          "name": "stdout"
        },
        {
          "output_type": "stream",
          "text": [
            "Train: Batch id: 390 \tLoss: 2.833666\t Accuracy:30.919: 100%|██████████| 391/391 [02:22<00:00,  2.74it/s]\n",
            "  0%|          | 0/391 [00:00<?, ?it/s]"
          ],
          "name": "stderr"
        },
        {
          "output_type": "stream",
          "text": [
            "\n",
            "Test set: loss: 0.013127, Accuracy: 2666/10000 (26.660%)\n",
            "\n",
            "\n",
            " EPOCH: 4\n",
            "Learning Rate :  0.009298180432263048\n"
          ],
          "name": "stdout"
        },
        {
          "output_type": "stream",
          "text": [
            "Train: Batch id: 390 \tLoss: 2.473706\t Accuracy:35.132: 100%|██████████| 391/391 [02:22<00:00,  2.74it/s]\n",
            "  0%|          | 0/391 [00:00<?, ?it/s]"
          ],
          "name": "stderr"
        },
        {
          "output_type": "stream",
          "text": [
            "\n",
            "Test set: loss: 0.012260, Accuracy: 2999/10000 (29.990%)\n",
            "\n",
            "\n",
            " EPOCH: 5\n",
            "Learning Rate :  0.01159169561179458\n"
          ],
          "name": "stdout"
        },
        {
          "output_type": "stream",
          "text": [
            "Train: Batch id: 390 \tLoss: 2.422336\t Accuracy:38.419: 100%|██████████| 391/391 [02:22<00:00,  2.74it/s]\n",
            "  0%|          | 0/391 [00:00<?, ?it/s]"
          ],
          "name": "stderr"
        },
        {
          "output_type": "stream",
          "text": [
            "\n",
            "Test set: loss: 0.011409, Accuracy: 3331/10000 (33.310%)\n",
            "\n",
            "\n",
            " EPOCH: 6\n",
            "Learning Rate :  0.014277026037977675\n"
          ],
          "name": "stdout"
        },
        {
          "output_type": "stream",
          "text": [
            "Train: Batch id: 390 \tLoss: 2.181984\t Accuracy:41.384: 100%|██████████| 391/391 [02:22<00:00,  2.74it/s]\n",
            "  0%|          | 0/391 [00:00<?, ?it/s]"
          ],
          "name": "stderr"
        },
        {
          "output_type": "stream",
          "text": [
            "\n",
            "Test set: loss: 0.011499, Accuracy: 3468/10000 (34.680%)\n",
            "\n",
            "\n",
            " EPOCH: 7\n",
            "Learning Rate :  0.01728803308424344\n"
          ],
          "name": "stdout"
        },
        {
          "output_type": "stream",
          "text": [
            "Train: Batch id: 390 \tLoss: 2.346046\t Accuracy:43.978: 100%|██████████| 391/391 [02:22<00:00,  2.74it/s]\n",
            "  0%|          | 0/391 [00:00<?, ?it/s]"
          ],
          "name": "stderr"
        },
        {
          "output_type": "stream",
          "text": [
            "\n",
            "Test set: loss: 0.010521, Accuracy: 3839/10000 (38.390%)\n",
            "\n",
            "\n",
            " EPOCH: 8\n",
            "Learning Rate :  0.020550556837648743\n"
          ],
          "name": "stdout"
        },
        {
          "output_type": "stream",
          "text": [
            "Train: Batch id: 390 \tLoss: 2.376941\t Accuracy:46.700: 100%|██████████| 391/391 [02:22<00:00,  2.74it/s]\n",
            "  0%|          | 0/391 [00:00<?, ?it/s]"
          ],
          "name": "stderr"
        },
        {
          "output_type": "stream",
          "text": [
            "\n",
            "Test set: loss: 0.010360, Accuracy: 3867/10000 (38.670%)\n",
            "\n",
            "\n",
            " EPOCH: 9\n",
            "Learning Rate :  0.02398424262820782\n"
          ],
          "name": "stdout"
        },
        {
          "output_type": "stream",
          "text": [
            "Train: Batch id: 390 \tLoss: 1.747238\t Accuracy:48.736: 100%|██████████| 391/391 [02:22<00:00,  2.74it/s]\n",
            "  0%|          | 0/391 [00:00<?, ?it/s]"
          ],
          "name": "stderr"
        },
        {
          "output_type": "stream",
          "text": [
            "\n",
            "Test set: loss: 0.010852, Accuracy: 3866/10000 (38.660%)\n",
            "\n",
            "\n",
            " EPOCH: 10\n",
            "Learning Rate :  0.027504520132640386\n"
          ],
          "name": "stdout"
        },
        {
          "output_type": "stream",
          "text": [
            "Train: Batch id: 390 \tLoss: 1.672352\t Accuracy:51.400: 100%|██████████| 391/391 [02:22<00:00,  2.74it/s]\n",
            "  0%|          | 0/391 [00:00<?, ?it/s]"
          ],
          "name": "stderr"
        },
        {
          "output_type": "stream",
          "text": [
            "\n",
            "Test set: loss: 0.010176, Accuracy: 4256/10000 (42.560%)\n",
            "\n",
            "\n",
            " EPOCH: 11\n",
            "Learning Rate :  0.031024686307993356\n"
          ],
          "name": "stdout"
        },
        {
          "output_type": "stream",
          "text": [
            "Train: Batch id: 390 \tLoss: 1.793850\t Accuracy:53.283: 100%|██████████| 391/391 [02:22<00:00,  2.74it/s]\n",
            "  0%|          | 0/391 [00:00<?, ?it/s]"
          ],
          "name": "stderr"
        },
        {
          "output_type": "stream",
          "text": [
            "\n",
            "Test set: loss: 0.009820, Accuracy: 4283/10000 (42.830%)\n",
            "\n",
            "\n",
            " EPOCH: 12\n",
            "Learning Rate :  0.03445804085330487\n"
          ],
          "name": "stdout"
        },
        {
          "output_type": "stream",
          "text": [
            "Train: Batch id: 390 \tLoss: 1.739803\t Accuracy:55.242: 100%|██████████| 391/391 [02:22<00:00,  2.74it/s]\n",
            "  0%|          | 0/391 [00:00<?, ?it/s]"
          ],
          "name": "stderr"
        },
        {
          "output_type": "stream",
          "text": [
            "\n",
            "Test set: loss: 0.009401, Accuracy: 4586/10000 (45.860%)\n",
            "\n",
            "\n",
            " EPOCH: 13\n",
            "Learning Rate :  0.03772002160373409\n"
          ],
          "name": "stdout"
        },
        {
          "output_type": "stream",
          "text": [
            "Train: Batch id: 390 \tLoss: 1.764504\t Accuracy:57.447: 100%|██████████| 391/391 [02:22<00:00,  2.74it/s]\n",
            "  0%|          | 0/391 [00:00<?, ?it/s]"
          ],
          "name": "stderr"
        },
        {
          "output_type": "stream",
          "text": [
            "\n",
            "Test set: loss: 0.009845, Accuracy: 4450/10000 (44.500%)\n",
            "\n",
            "\n",
            " EPOCH: 14\n",
            "Learning Rate :  0.04073028726324387\n"
          ],
          "name": "stdout"
        },
        {
          "output_type": "stream",
          "text": [
            "Train: Batch id: 390 \tLoss: 1.537932\t Accuracy:58.958: 100%|██████████| 391/391 [02:22<00:00,  2.74it/s]\n",
            "  0%|          | 0/391 [00:00<?, ?it/s]"
          ],
          "name": "stderr"
        },
        {
          "output_type": "stream",
          "text": [
            "\n",
            "Test set: loss: 0.008839, Accuracy: 4786/10000 (47.860%)\n",
            "\n",
            "\n",
            " EPOCH: 15\n",
            "Learning Rate :  0.04341469617895371\n"
          ],
          "name": "stdout"
        },
        {
          "output_type": "stream",
          "text": [
            "Train: Batch id: 390 \tLoss: 1.432907\t Accuracy:60.867: 100%|██████████| 391/391 [02:22<00:00,  2.74it/s]\n",
            "  0%|          | 0/391 [00:00<?, ?it/s]"
          ],
          "name": "stderr"
        },
        {
          "output_type": "stream",
          "text": [
            "\n",
            "Test set: loss: 0.009242, Accuracy: 4691/10000 (46.910%)\n",
            "\n",
            "\n",
            " EPOCH: 16\n",
            "Learning Rate :  0.04570713242073328\n"
          ],
          "name": "stdout"
        },
        {
          "output_type": "stream",
          "text": [
            "Train: Batch id: 390 \tLoss: 1.462857\t Accuracy:62.573: 100%|██████████| 391/391 [02:22<00:00,  2.74it/s]\n",
            "  0%|          | 0/391 [00:00<?, ?it/s]"
          ],
          "name": "stderr"
        },
        {
          "output_type": "stream",
          "text": [
            "\n",
            "Test set: loss: 0.008926, Accuracy: 4915/10000 (49.150%)\n",
            "\n",
            "\n",
            " EPOCH: 17\n",
            "Learning Rate :  0.04755113419041811\n"
          ],
          "name": "stdout"
        },
        {
          "output_type": "stream",
          "text": [
            "Train: Batch id: 390 \tLoss: 1.206455\t Accuracy:64.442: 100%|██████████| 391/391 [02:22<00:00,  2.74it/s]\n",
            "  0%|          | 0/391 [00:00<?, ?it/s]"
          ],
          "name": "stderr"
        },
        {
          "output_type": "stream",
          "text": [
            "\n",
            "Test set: loss: 0.008206, Accuracy: 5196/10000 (51.960%)\n",
            "\n",
            "\n",
            " EPOCH: 18\n",
            "Learning Rate :  0.04890128445357235\n"
          ],
          "name": "stdout"
        },
        {
          "output_type": "stream",
          "text": [
            "Train: Batch id: 390 \tLoss: 1.155658\t Accuracy:66.193: 100%|██████████| 391/391 [02:22<00:00,  2.74it/s]\n",
            "  0%|          | 0/391 [00:00<?, ?it/s]"
          ],
          "name": "stderr"
        },
        {
          "output_type": "stream",
          "text": [
            "\n",
            "Test set: loss: 0.008232, Accuracy: 5193/10000 (51.930%)\n",
            "\n",
            "\n",
            " EPOCH: 19\n",
            "Learning Rate :  0.049724329543088246\n"
          ],
          "name": "stdout"
        },
        {
          "output_type": "stream",
          "text": [
            "Train: Batch id: 390 \tLoss: 1.075175\t Accuracy:67.938: 100%|██████████| 391/391 [02:22<00:00,  2.74it/s]\n",
            "  0%|          | 0/391 [00:00<?, ?it/s]"
          ],
          "name": "stderr"
        },
        {
          "output_type": "stream",
          "text": [
            "\n",
            "Test set: loss: 0.008134, Accuracy: 5256/10000 (52.560%)\n",
            "\n",
            "\n",
            " EPOCH: 20\n",
            "Learning Rate :  0.04999999911233535\n"
          ],
          "name": "stdout"
        },
        {
          "output_type": "stream",
          "text": [
            "Train: Batch id: 390 \tLoss: 1.203035\t Accuracy:69.461: 100%|██████████| 391/391 [02:22<00:00,  2.74it/s]\n",
            "  0%|          | 0/391 [00:00<?, ?it/s]"
          ],
          "name": "stderr"
        },
        {
          "output_type": "stream",
          "text": [
            "\n",
            "Test set: loss: 0.008375, Accuracy: 5312/10000 (53.120%)\n",
            "\n",
            "\n",
            " EPOCH: 21\n",
            "Learning Rate :  0.0498637231418214\n"
          ],
          "name": "stdout"
        },
        {
          "output_type": "stream",
          "text": [
            "Train: Batch id: 390 \tLoss: 1.050584\t Accuracy:71.190: 100%|██████████| 391/391 [02:22<00:00,  2.74it/s]\n",
            "  0%|          | 0/391 [00:00<?, ?it/s]"
          ],
          "name": "stderr"
        },
        {
          "output_type": "stream",
          "text": [
            "\n",
            "Test set: loss: 0.009284, Accuracy: 5019/10000 (50.190%)\n",
            "\n",
            "\n",
            " EPOCH: 22\n",
            "Learning Rate :  0.049457774069812936\n"
          ],
          "name": "stdout"
        },
        {
          "output_type": "stream",
          "text": [
            "Train: Batch id: 390 \tLoss: 0.999305\t Accuracy:72.957: 100%|██████████| 391/391 [02:22<00:00,  2.74it/s]\n",
            "  0%|          | 0/391 [00:00<?, ?it/s]"
          ],
          "name": "stderr"
        },
        {
          "output_type": "stream",
          "text": [
            "\n",
            "Test set: loss: 0.008423, Accuracy: 5320/10000 (53.200%)\n",
            "\n",
            "\n",
            " EPOCH: 23\n",
            "Learning Rate :  0.04878659955929322\n"
          ],
          "name": "stdout"
        },
        {
          "output_type": "stream",
          "text": [
            "Train: Batch id: 390 \tLoss: 0.892820\t Accuracy:74.715: 100%|██████████| 391/391 [02:22<00:00,  2.74it/s]\n",
            "  0%|          | 0/391 [00:00<?, ?it/s]"
          ],
          "name": "stderr"
        },
        {
          "output_type": "stream",
          "text": [
            "\n",
            "Test set: loss: 0.007967, Accuracy: 5495/10000 (54.950%)\n",
            "\n",
            "\n",
            " EPOCH: 24\n",
            "Learning Rate :  0.047857553138651775\n"
          ],
          "name": "stdout"
        },
        {
          "output_type": "stream",
          "text": [
            "Train: Batch id: 390 \tLoss: 1.182087\t Accuracy:76.619: 100%|██████████| 391/391 [02:22<00:00,  2.74it/s]\n",
            "  0%|          | 0/391 [00:00<?, ?it/s]"
          ],
          "name": "stderr"
        },
        {
          "output_type": "stream",
          "text": [
            "\n",
            "Test set: loss: 0.008645, Accuracy: 5258/10000 (52.580%)\n",
            "\n",
            "\n",
            " EPOCH: 25\n",
            "Learning Rate :  0.04668081363488862\n"
          ],
          "name": "stdout"
        },
        {
          "output_type": "stream",
          "text": [
            "Train: Batch id: 390 \tLoss: 0.845208\t Accuracy:78.024: 100%|██████████| 391/391 [02:22<00:00,  2.74it/s]\n",
            "  0%|          | 0/391 [00:00<?, ?it/s]"
          ],
          "name": "stderr"
        },
        {
          "output_type": "stream",
          "text": [
            "\n",
            "Test set: loss: 0.008296, Accuracy: 5557/10000 (55.570%)\n",
            "\n",
            "\n",
            " EPOCH: 26\n",
            "Learning Rate :  0.04526927365225557\n"
          ],
          "name": "stdout"
        },
        {
          "output_type": "stream",
          "text": [
            "Train: Batch id: 390 \tLoss: 0.777467\t Accuracy:79.861: 100%|██████████| 391/391 [02:22<00:00,  2.74it/s]\n",
            "  0%|          | 0/391 [00:00<?, ?it/s]"
          ],
          "name": "stderr"
        },
        {
          "output_type": "stream",
          "text": [
            "\n",
            "Test set: loss: 0.008619, Accuracy: 5483/10000 (54.830%)\n",
            "\n",
            "\n",
            " EPOCH: 27\n",
            "Learning Rate :  0.04363839831818605\n"
          ],
          "name": "stdout"
        },
        {
          "output_type": "stream",
          "text": [
            "Train: Batch id: 390 \tLoss: 0.833716\t Accuracy:81.291: 100%|██████████| 391/391 [02:22<00:00,  2.74it/s]\n",
            "  0%|          | 0/391 [00:00<?, ?it/s]"
          ],
          "name": "stderr"
        },
        {
          "output_type": "stream",
          "text": [
            "\n",
            "Test set: loss: 0.008785, Accuracy: 5421/10000 (54.210%)\n",
            "\n",
            "\n",
            " EPOCH: 28\n",
            "Learning Rate :  0.041806055844122766\n"
          ],
          "name": "stdout"
        },
        {
          "output_type": "stream",
          "text": [
            "Train: Batch id: 390 \tLoss: 0.903974\t Accuracy:83.151: 100%|██████████| 391/391 [02:22<00:00,  2.74it/s]\n",
            "  0%|          | 0/391 [00:00<?, ?it/s]"
          ],
          "name": "stderr"
        },
        {
          "output_type": "stream",
          "text": [
            "\n",
            "Test set: loss: 0.008709, Accuracy: 5524/10000 (55.240%)\n",
            "\n",
            "\n",
            " EPOCH: 29\n",
            "Learning Rate :  0.03979232175765385\n"
          ],
          "name": "stdout"
        },
        {
          "output_type": "stream",
          "text": [
            "Train: Batch id: 390 \tLoss: 0.661086\t Accuracy:84.633: 100%|██████████| 391/391 [02:22<00:00,  2.74it/s]\n",
            "  0%|          | 0/391 [00:00<?, ?it/s]"
          ],
          "name": "stderr"
        },
        {
          "output_type": "stream",
          "text": [
            "\n",
            "Test set: loss: 0.008610, Accuracy: 5684/10000 (56.840%)\n",
            "\n",
            "\n",
            " EPOCH: 30\n",
            "Learning Rate :  0.0376192589508316\n"
          ],
          "name": "stdout"
        },
        {
          "output_type": "stream",
          "text": [
            "Train: Batch id: 390 \tLoss: 0.503816\t Accuracy:86.557: 100%|██████████| 391/391 [02:22<00:00,  2.74it/s]\n",
            "  0%|          | 0/391 [00:00<?, ?it/s]"
          ],
          "name": "stderr"
        },
        {
          "output_type": "stream",
          "text": [
            "\n",
            "Test set: loss: 0.008879, Accuracy: 5630/10000 (56.300%)\n",
            "\n",
            "\n",
            " EPOCH: 31\n",
            "Learning Rate :  0.03531067595451021\n"
          ],
          "name": "stdout"
        },
        {
          "output_type": "stream",
          "text": [
            "Train: Batch id: 390 \tLoss: 0.359530\t Accuracy:88.019: 100%|██████████| 391/391 [02:22<00:00,  2.74it/s]\n",
            "  0%|          | 0/391 [00:00<?, ?it/s]"
          ],
          "name": "stderr"
        },
        {
          "output_type": "stream",
          "text": [
            "\n",
            "Test set: loss: 0.009149, Accuracy: 5558/10000 (55.580%)\n",
            "\n",
            "\n",
            " EPOCH: 32\n",
            "Learning Rate :  0.032891866087099396\n"
          ],
          "name": "stdout"
        },
        {
          "output_type": "stream",
          "text": [
            "Train: Batch id: 390 \tLoss: 0.402369\t Accuracy:89.433: 100%|██████████| 391/391 [02:22<00:00,  2.74it/s]\n",
            "  0%|          | 0/391 [00:00<?, ?it/s]"
          ],
          "name": "stderr"
        },
        {
          "output_type": "stream",
          "text": [
            "\n",
            "Test set: loss: 0.008924, Accuracy: 5646/10000 (56.460%)\n",
            "\n",
            "\n",
            " EPOCH: 33\n",
            "Learning Rate :  0.030389330335675046\n"
          ],
          "name": "stdout"
        },
        {
          "output_type": "stream",
          "text": [
            "Train: Batch id: 390 \tLoss: 0.317131\t Accuracy:90.915: 100%|██████████| 391/391 [02:22<00:00,  2.74it/s]\n",
            "  0%|          | 0/391 [00:00<?, ?it/s]"
          ],
          "name": "stderr"
        },
        {
          "output_type": "stream",
          "text": [
            "\n",
            "Test set: loss: 0.008814, Accuracy: 5782/10000 (57.820%)\n",
            "\n",
            "\n",
            " EPOCH: 34\n",
            "Learning Rate :  0.02783048700561902\n"
          ],
          "name": "stdout"
        },
        {
          "output_type": "stream",
          "text": [
            "Train: Batch id: 390 \tLoss: 0.272955\t Accuracy:92.255: 100%|██████████| 391/391 [02:22<00:00,  2.74it/s]\n",
            "  0%|          | 0/391 [00:00<?, ?it/s]"
          ],
          "name": "stderr"
        },
        {
          "output_type": "stream",
          "text": [
            "\n",
            "Test set: loss: 0.008802, Accuracy: 5807/10000 (58.070%)\n",
            "\n",
            "\n",
            " EPOCH: 35\n",
            "Learning Rate :  0.025243371319927814\n"
          ],
          "name": "stdout"
        },
        {
          "output_type": "stream",
          "text": [
            "Train: Batch id: 390 \tLoss: 0.265951\t Accuracy:93.670: 100%|██████████| 391/391 [02:22<00:00,  2.74it/s]\n",
            "  0%|          | 0/391 [00:00<?, ?it/s]"
          ],
          "name": "stderr"
        },
        {
          "output_type": "stream",
          "text": [
            "\n",
            "Test set: loss: 0.009069, Accuracy: 5866/10000 (58.660%)\n",
            "\n",
            "\n",
            " EPOCH: 36\n",
            "Learning Rate :  0.02265632825944262\n"
          ],
          "name": "stdout"
        },
        {
          "output_type": "stream",
          "text": [
            "Train: Batch id: 390 \tLoss: 0.203981\t Accuracy:94.744: 100%|██████████| 391/391 [02:22<00:00,  2.74it/s]\n",
            "  0%|          | 0/391 [00:00<?, ?it/s]"
          ],
          "name": "stderr"
        },
        {
          "output_type": "stream",
          "text": [
            "\n",
            "Test set: loss: 0.009000, Accuracy: 5876/10000 (58.760%)\n",
            "\n",
            "\n",
            " EPOCH: 37\n",
            "Learning Rate :  0.020097702009307678\n"
          ],
          "name": "stdout"
        },
        {
          "output_type": "stream",
          "text": [
            "Train: Batch id: 390 \tLoss: 0.272529\t Accuracy:95.739: 100%|██████████| 391/391 [02:22<00:00,  2.74it/s]\n",
            "  0%|          | 0/391 [00:00<?, ?it/s]"
          ],
          "name": "stderr"
        },
        {
          "output_type": "stream",
          "text": [
            "\n",
            "Test set: loss: 0.009202, Accuracy: 5877/10000 (58.770%)\n",
            "\n",
            "\n",
            " EPOCH: 38\n",
            "Learning Rate :  0.01759552541414643\n"
          ],
          "name": "stdout"
        },
        {
          "output_type": "stream",
          "text": [
            "Train: Batch id: 390 \tLoss: 0.109948\t Accuracy:96.581: 100%|██████████| 391/391 [02:22<00:00,  2.74it/s]\n",
            "  0%|          | 0/391 [00:00<?, ?it/s]"
          ],
          "name": "stderr"
        },
        {
          "output_type": "stream",
          "text": [
            "\n",
            "Test set: loss: 0.009200, Accuracy: 5953/10000 (59.530%)\n",
            "\n",
            "\n",
            " EPOCH: 39\n",
            "Learning Rate :  0.015177212844349577\n"
          ],
          "name": "stdout"
        },
        {
          "output_type": "stream",
          "text": [
            "Train: Batch id: 390 \tLoss: 0.125330\t Accuracy:97.235: 100%|██████████| 391/391 [02:22<00:00,  2.74it/s]\n",
            "  0%|          | 0/391 [00:00<?, ?it/s]"
          ],
          "name": "stderr"
        },
        {
          "output_type": "stream",
          "text": [
            "\n",
            "Test set: loss: 0.009004, Accuracy: 6030/10000 (60.300%)\n",
            "\n",
            "\n",
            " EPOCH: 40\n",
            "Learning Rate :  0.01286925983849625\n"
          ],
          "name": "stdout"
        },
        {
          "output_type": "stream",
          "text": [
            "Train: Batch id: 390 \tLoss: 0.072958\t Accuracy:97.993: 100%|██████████| 391/391 [02:22<00:00,  2.74it/s]\n",
            "  0%|          | 0/391 [00:00<?, ?it/s]"
          ],
          "name": "stderr"
        },
        {
          "output_type": "stream",
          "text": [
            "\n",
            "Test set: loss: 0.008893, Accuracy: 6070/10000 (60.700%)\n",
            "\n",
            "\n",
            " EPOCH: 41\n",
            "Learning Rate :  0.010696952812688803\n"
          ],
          "name": "stdout"
        },
        {
          "output_type": "stream",
          "text": [
            "Train: Batch id: 390 \tLoss: 0.086352\t Accuracy:98.365: 100%|██████████| 391/391 [02:22<00:00,  2.74it/s]\n",
            "  0%|          | 0/391 [00:00<?, ?it/s]"
          ],
          "name": "stderr"
        },
        {
          "output_type": "stream",
          "text": [
            "\n",
            "Test set: loss: 0.008853, Accuracy: 6049/10000 (60.490%)\n",
            "\n",
            "\n",
            " EPOCH: 42\n",
            "Learning Rate :  0.008684092017286456\n"
          ],
          "name": "stdout"
        },
        {
          "output_type": "stream",
          "text": [
            "Train: Batch id: 390 \tLoss: 0.063626\t Accuracy:98.696: 100%|██████████| 391/391 [02:22<00:00,  2.74it/s]\n",
            "  0%|          | 0/391 [00:00<?, ?it/s]"
          ],
          "name": "stderr"
        },
        {
          "output_type": "stream",
          "text": [
            "\n",
            "Test set: loss: 0.008930, Accuracy: 6088/10000 (60.880%)\n",
            "\n",
            "\n",
            " EPOCH: 43\n",
            "Learning Rate :  0.006852730776381823\n"
          ],
          "name": "stdout"
        },
        {
          "output_type": "stream",
          "text": [
            "Train: Batch id: 390 \tLoss: 0.056410\t Accuracy:98.910: 100%|██████████| 391/391 [02:22<00:00,  2.74it/s]\n",
            "  0%|          | 0/391 [00:00<?, ?it/s]"
          ],
          "name": "stderr"
        },
        {
          "output_type": "stream",
          "text": [
            "\n",
            "Test set: loss: 0.008883, Accuracy: 6135/10000 (61.350%)\n",
            "\n",
            "\n",
            " EPOCH: 44\n",
            "Learning Rate :  0.00522293386696724\n"
          ],
          "name": "stdout"
        },
        {
          "output_type": "stream",
          "text": [
            "Train: Batch id: 390 \tLoss: 0.067141\t Accuracy:99.047: 100%|██████████| 391/391 [02:22<00:00,  2.74it/s]\n",
            "  0%|          | 0/391 [00:00<?, ?it/s]"
          ],
          "name": "stderr"
        },
        {
          "output_type": "stream",
          "text": [
            "\n",
            "Test set: loss: 0.008997, Accuracy: 6141/10000 (61.410%)\n",
            "\n",
            "\n",
            " EPOCH: 45\n",
            "Learning Rate :  0.0038125576850391893\n"
          ],
          "name": "stdout"
        },
        {
          "output_type": "stream",
          "text": [
            "Train: Batch id: 390 \tLoss: 0.048931\t Accuracy:99.187: 100%|██████████| 391/391 [02:22<00:00,  2.74it/s]\n",
            "  0%|          | 0/391 [00:00<?, ?it/s]"
          ],
          "name": "stderr"
        },
        {
          "output_type": "stream",
          "text": [
            "\n",
            "Test set: loss: 0.008852, Accuracy: 6144/10000 (61.440%)\n",
            "\n",
            "\n",
            " EPOCH: 46\n",
            "Learning Rate :  0.0026370546071870535\n"
          ],
          "name": "stdout"
        },
        {
          "output_type": "stream",
          "text": [
            "Train: Batch id: 390 \tLoss: 0.024577\t Accuracy:99.306: 100%|██████████| 391/391 [02:22<00:00,  2.74it/s]\n",
            "  0%|          | 0/391 [00:00<?, ?it/s]"
          ],
          "name": "stderr"
        },
        {
          "output_type": "stream",
          "text": [
            "\n",
            "Test set: loss: 0.008960, Accuracy: 6151/10000 (61.510%)\n",
            "\n",
            "\n",
            " EPOCH: 47\n",
            "Learning Rate :  0.0017093036911216188\n"
          ],
          "name": "stdout"
        },
        {
          "output_type": "stream",
          "text": [
            "Train: Batch id: 390 \tLoss: 0.056066\t Accuracy:99.350: 100%|██████████| 391/391 [02:22<00:00,  2.74it/s]\n",
            "  0%|          | 0/391 [00:00<?, ?it/s]"
          ],
          "name": "stderr"
        },
        {
          "output_type": "stream",
          "text": [
            "\n",
            "Test set: loss: 0.008868, Accuracy: 6145/10000 (61.450%)\n",
            "\n",
            "\n",
            " EPOCH: 48\n",
            "Learning Rate :  0.0010394695700236614\n"
          ],
          "name": "stdout"
        },
        {
          "output_type": "stream",
          "text": [
            "Train: Batch id: 390 \tLoss: 0.036747\t Accuracy:99.377: 100%|██████████| 391/391 [02:22<00:00,  2.73it/s]\n",
            "  0%|          | 0/391 [00:00<?, ?it/s]"
          ],
          "name": "stderr"
        },
        {
          "output_type": "stream",
          "text": [
            "\n",
            "Test set: loss: 0.008806, Accuracy: 6150/10000 (61.500%)\n",
            "\n",
            "\n",
            " EPOCH: 49\n",
            "Learning Rate :  0.0006348910866957286\n"
          ],
          "name": "stdout"
        },
        {
          "output_type": "stream",
          "text": [
            "Train: Batch id: 390 \tLoss: 0.045213\t Accuracy:99.437: 100%|██████████| 391/391 [02:22<00:00,  2.74it/s]\n"
          ],
          "name": "stderr"
        },
        {
          "output_type": "stream",
          "text": [
            "\n",
            "Test set: loss: 0.009005, Accuracy: 6162/10000 (61.620%)\n",
            "\n"
          ],
          "name": "stdout"
        }
      ]
    },
    {
      "cell_type": "code",
      "metadata": {
        "id": "gWQ9-rO2v6Ix",
        "outputId": "d90b8085-3ef1-4173-9579-7d1c3c636411",
        "colab": {
          "base_uri": "https://localhost:8080/",
          "height": 295
        }
      },
      "source": [
        "my_trainer.plot_lr()"
      ],
      "execution_count": 12,
      "outputs": [
        {
          "output_type": "display_data",
          "data": {
            "image/png": "[encoded data removed]",
            "text/plain": [
              "<Figure size 432x288 with 1 Axes>"
            ]
          },
          "metadata": {
            "tags": [],
            "needs_background": "light"
          }
        }
      ]
    },
    {
      "cell_type": "code",
      "metadata": {
        "id": "G-FnNcd680uQ",
        "outputId": "d5463f0c-84a9-4c71-f625-217222adbaa1",
        "colab": {
          "base_uri": "https://localhost:8080/",
          "height": 369
        }
      },
      "source": [
        "my_trainer.plot_model_performance(False)"
      ],
      "execution_count": 13,
      "outputs": [
        {
          "output_type": "display_data",
          "data": {
            "image/png": "[encoded data removed]",
            "text/plain": [
              "<Figure size 720x360 with 2 Axes>"
            ]
          },
          "metadata": {
            "tags": [],
            "needs_background": "light"
          }
        }
      ]
    }
  ]
}