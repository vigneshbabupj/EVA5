{
  "nbformat": 4,
  "nbformat_minor": 0,
  "metadata": {
    "colab": {
      "name": "Copy of PyTorch101.ipynb",
      "provenance": [],
      "collapsed_sections": []
    },
    "kernelspec": {
      "name": "python3",
      "display_name": "Python 3"
    },
    "accelerator": "GPU"
  },
  "cells": [
    {
      "cell_type": "markdown",
      "metadata": {
        "id": "_kYM3ylzYo1Q"
      },
      "source": [
        "![PyTorch](https://devblogs.nvidia.com/wp-content/uploads/2017/04/pytorch-logo-dark.png)\n",
        "\n",
        "An open source machine learning framework that accelerates the path from research prototyping to production deployment.\n",
        "\n"
      ]
    },
    {
      "cell_type": "markdown",
      "metadata": {
        "id": "WcVqSTrWY6oz"
      },
      "source": [
        "# Tensor - Pytorch's core data structure\n",
        "\n",
        "In Python we can create lists, lists of lists, lists of lists and so on. In NumPy there is a `numpy.ndarray` which represents `n`- dimensional array. In math there is a special name for the generalization of vectors and matrices to a higher dimensional space - a tensor\n",
        "\n",
        "Tensor is an entity with a defined number of dimensions called an order (rank). \n",
        "\n",
        "**Scalar** can be considered as a rank-0-tensor. \n",
        "\n",
        "**Vector** can be introduced as a rank-1-tensor. \n",
        "\n",
        "**Matrices** can be considered as a rank-2-tensor.\n",
        "\n",
        "# Tensor Basics\n",
        "\n",
        "Let's import the torch module first."
      ]
    },
    {
      "cell_type": "code",
      "metadata": {
        "id": "e-oFVL2tYYqp"
      },
      "source": [
        "import numpy as np\n",
        "import torch"
      ],
      "execution_count": null,
      "outputs": []
    },
    {
      "cell_type": "markdown",
      "metadata": {
        "id": "uGxuR5IEaFJa"
      },
      "source": [
        "## Tensor Creation\n",
        "Let's view examples of matrices and tensors generation\n",
        "\n",
        "2-dimensional (rank-2) tensor of zeros:"
      ]
    },
    {
      "cell_type": "code",
      "metadata": {
        "id": "897JQc25aD3E",
        "colab": {
          "base_uri": "https://localhost:8080/",
          "height": 67
        },
        "outputId": "33767f00-58cd-448f-e247-e8166f921650"
      },
      "source": [
        "torch.zeros(3, 4)"
      ],
      "execution_count": null,
      "outputs": [
        {
          "output_type": "execute_result",
          "data": {
            "text/plain": [
              "tensor([[0., 0., 0., 0.],\n",
              "        [0., 0., 0., 0.],\n",
              "        [0., 0., 0., 0.]])"
            ]
          },
          "metadata": {
            "tags": []
          },
          "execution_count": 2
        }
      ]
    },
    {
      "cell_type": "markdown",
      "metadata": {
        "id": "pujmpEBhaPRA"
      },
      "source": [
        "Random rank-3 tensor:\n",
        "_read the print below and convince yourself how this is a rank-3-tensor and learn what those 2, 3, 4 values are there for_"
      ]
    },
    {
      "cell_type": "code",
      "metadata": {
        "id": "mBrznTNhaOL7",
        "colab": {
          "base_uri": "https://localhost:8080/",
          "height": 134
        },
        "outputId": "e18a2b47-691d-4e30-91fc-9b1bb9797aec"
      },
      "source": [
        "torch.rand(2, 3, 4)"
      ],
      "execution_count": null,
      "outputs": [
        {
          "output_type": "execute_result",
          "data": {
            "text/plain": [
              "tensor([[[0.1394, 0.3769, 0.8884, 0.6114],\n",
              "         [0.8340, 0.7921, 0.6630, 0.7754],\n",
              "         [0.3648, 0.2478, 0.5712, 0.9799]],\n",
              "\n",
              "        [[0.5345, 0.3535, 0.8136, 0.1838],\n",
              "         [0.8336, 0.4438, 0.9737, 0.9654],\n",
              "         [0.4332, 0.7526, 0.8463, 0.4665]]])"
            ]
          },
          "metadata": {
            "tags": []
          },
          "execution_count": 3
        }
      ]
    },
    {
      "cell_type": "markdown",
      "metadata": {
        "id": "kO4fIr15asdi"
      },
      "source": [
        "I am hoping you have noticed 4-elements in a row, 3 rows making one block and there are 2 blocks. \n",
        "\n",
        "Random rank-4-tensor:"
      ]
    },
    {
      "cell_type": "code",
      "metadata": {
        "id": "KiCLvMGCaVZ3",
        "colab": {
          "base_uri": "https://localhost:8080/",
          "height": 218
        },
        "outputId": "584b1e05-fb40-4812-8436-9044768fe336"
      },
      "source": [
        "torch.rand(2, 2, 2, 3)"
      ],
      "execution_count": null,
      "outputs": [
        {
          "output_type": "execute_result",
          "data": {
            "text/plain": [
              "tensor([[[[0.6928, 0.7708, 0.5784],\n",
              "          [0.0936, 0.2747, 0.9051]],\n",
              "\n",
              "         [[0.5433, 0.9528, 0.9133],\n",
              "          [0.5359, 0.3642, 0.8544]]],\n",
              "\n",
              "\n",
              "        [[[0.6162, 0.6728, 0.2754],\n",
              "          [0.0996, 0.8386, 0.7211]],\n",
              "\n",
              "         [[0.2783, 0.0033, 0.6416],\n",
              "          [0.1327, 0.0705, 0.1315]]]])"
            ]
          },
          "metadata": {
            "tags": []
          },
          "execution_count": 4
        }
      ]
    },
    {
      "cell_type": "markdown",
      "metadata": {
        "id": "lF6VL68s3AMV"
      },
      "source": [
        "## Question 1:\n",
        "\n",
        "How many dimensions are there in a tensor defined as below?\n",
        "\n",
        "> Ans: *4 dim*\n",
        "\n"
      ]
    },
    {
      "cell_type": "code",
      "metadata": {
        "id": "8IbXcI3x3Ibt",
        "colab": {
          "base_uri": "https://localhost:8080/",
          "height": 34
        },
        "outputId": "31a2627e-5fc9-4b25-ec32-73e26eea5467"
      },
      "source": [
        "torch.rand(1, 1, 1, 1).shape"
      ],
      "execution_count": null,
      "outputs": [
        {
          "output_type": "execute_result",
          "data": {
            "text/plain": [
              "torch.Size([1, 1, 1, 1])"
            ]
          },
          "metadata": {
            "tags": []
          },
          "execution_count": 5
        }
      ]
    },
    {
      "cell_type": "markdown",
      "metadata": {
        "id": "qmgpqssRa9jF"
      },
      "source": [
        ".\n",
        "\n",
        "---\n",
        "\n",
        "\n",
        "There are many more ways to create tensor using some restrictions on values it should contatn - for the full reference, please follow the [official docs](https://pytorch.org/docs/stable/torch.html#creation-ops). \n",
        "\n",
        "\n",
        ".\n",
        "---\n",
        "\n",
        "\n",
        "# Python / NumPy / Pytorch interoperability\n",
        "\n",
        "You can create tensors from python as well as numpy arrays. You can also convert torch tensors to numpy arrays. So, the interoperability between torch and numpy is pretty good. "
      ]
    },
    {
      "cell_type": "code",
      "metadata": {
        "id": "ipgpeWPfa6gE",
        "colab": {
          "base_uri": "https://localhost:8080/",
          "height": 118
        },
        "outputId": "4d78725a-6223-45aa-f597-2fad4e89c3d7"
      },
      "source": [
        "# Simple Python List\n",
        "python_list = [1, 2]\n",
        "\n",
        "# Create a numpy array from python list\n",
        "numpy_array = np.array(python_list)\n",
        "\n",
        "# Create a torch Tensor from python list\n",
        "tensor_from_list = torch.tensor(python_list)\n",
        "\n",
        "# Create a torch Tensor from Numpy array\n",
        "tensor_from_array = torch.tensor(numpy_array)\n",
        "\n",
        "# Another way to create a torch Tensor from Numpy array (share same storage)\n",
        "tensor_from_array_v2 = torch.from_numpy(numpy_array)\n",
        "\n",
        "# Convert torch tensor to numpy array\n",
        "array_from_tensor = tensor_from_array.numpy()\n",
        "\n",
        "print('List:   ', python_list)\n",
        "print('Array:  ', numpy_array)\n",
        "print('Tensor: ', tensor_from_list)\n",
        "print('Tensor: ', tensor_from_array)\n",
        "print('Tensor: ', tensor_from_array_v2)\n",
        "print('Array:  ', array_from_tensor)"
      ],
      "execution_count": null,
      "outputs": [
        {
          "output_type": "stream",
          "text": [
            "List:    [1, 2]\n",
            "Array:   [1 2]\n",
            "Tensor:  tensor([1, 2])\n",
            "Tensor:  tensor([1, 2])\n",
            "Tensor:  tensor([1, 2])\n",
            "Array:   [1 2]\n"
          ],
          "name": "stdout"
        }
      ]
    },
    {
      "cell_type": "markdown",
      "metadata": {
        "id": "X_x-86B8gqik"
      },
      "source": [
        "**Difference between** `torch.Tensor` **and** `torch.from_numpy`\n",
        "\n",
        "Pytorch aims to be an effective library for computations. What does it mean? It means that pytorch avoids memory copying if it can. "
      ]
    },
    {
      "cell_type": "code",
      "metadata": {
        "id": "eHCKDGpygn_d",
        "colab": {
          "base_uri": "https://localhost:8080/",
          "height": 67
        },
        "outputId": "fff3d559-55f2-44ef-93bc-23bcdb02bd96"
      },
      "source": [
        "numpy_array[0] = 10\n",
        "\n",
        "print('Array:  ', numpy_array)\n",
        "print('Tensor: ', tensor_from_array)\n",
        "print('Tensor: ', tensor_from_array_v2)"
      ],
      "execution_count": null,
      "outputs": [
        {
          "output_type": "stream",
          "text": [
            "Array:   [10  2]\n",
            "Tensor:  tensor([1, 2])\n",
            "Tensor:  tensor([10,  2])\n"
          ],
          "name": "stdout"
        }
      ]
    },
    {
      "cell_type": "markdown",
      "metadata": {
        "id": "-CKtdNRM3SMp"
      },
      "source": [
        "## Question 2:\n",
        "\n",
        "Assume that we moved our complete (cats vs dogs) image dataset to numpy arrays. Then we use torch.from_numpy to convert these images to tensor. Then we apply a specific data augmentation strategy called \"CutOut\" which blocks a portion of the image directly on these tensors. What will happen to the accuracy of a model trained on this strategy compared to the one without this strategy? CutOut strategy is shown below: \n",
        "\n",
        "![CutOut](https://encrypted-tbn0.gstatic.com/images?q=tbn%3AANd9GcSnSyN835AmtQPKQbPjDHX-FmshNilbtexX95cRGQPwl56QCGDn)\n",
        "\n",
        "\n",
        "\n",
        "> Ans: *YES*\n",
        "\n",
        "\n",
        "\n",
        "## Question 3:\n",
        "Why do you think we are observing this behavior?\n",
        "\n",
        "\n",
        "\n",
        "> Data Augmentation helps to avoid overfitting of the model by genralising the datasets by introducing noise in the training set. Cutouts forces model to learn all the features of the object so that it could predict even if its blocked ( which is done by cutouts)\n",
        "\n",
        "\n",
        "\n",
        "---\n",
        "\n",
        "\n"
      ]
    },
    {
      "cell_type": "markdown",
      "metadata": {
        "id": "dZq7O-aihSOA"
      },
      "source": [
        "We have two different ways to create tensor from its NumPy counterpart - one copies memory and another one shares the same underlying storage. It works in the opposite way:"
      ]
    },
    {
      "cell_type": "code",
      "metadata": {
        "id": "TNFOwV8EhPwQ",
        "colab": {
          "base_uri": "https://localhost:8080/",
          "height": 84
        },
        "outputId": "d40d0bea-ee93-428f-8dd5-607a1d7d9741"
      },
      "source": [
        "array_from_tensor = tensor_from_array.numpy()\n",
        "print('Tensor: ', tensor_from_array)\n",
        "print('Array: ', array_from_tensor)\n",
        "\n",
        "tensor_from_array[0] = 11\n",
        "print('Tensor: ', tensor_from_array)\n",
        "print('Array: ', array_from_tensor)"
      ],
      "execution_count": null,
      "outputs": [
        {
          "output_type": "stream",
          "text": [
            "Tensor:  tensor([1, 2])\n",
            "Array:  [1 2]\n",
            "Tensor:  tensor([11,  2])\n",
            "Array:  [11  2]\n"
          ],
          "name": "stdout"
        }
      ]
    },
    {
      "cell_type": "markdown",
      "metadata": {
        "id": "UM9ytbvKhtCw"
      },
      "source": [
        "## Data types\n",
        "\n",
        "The basic data type of all Deep Learning-related operations is float, but sometimes you may need something else. Pytorch support different number types for its tensors the same way NumPy does it - by specifying the data type on tensor creation or via casting. Ths full list of supported data types can be found [here](https://pytorch.org/docs/stable/tensors.html). "
      ]
    },
    {
      "cell_type": "code",
      "metadata": {
        "id": "Bd6WkzJ4hpYi",
        "colab": {
          "base_uri": "https://localhost:8080/",
          "height": 151
        },
        "outputId": "d27ab084-196c-4f89-ecfa-5505e6f7642a"
      },
      "source": [
        "tensor = torch.zeros(2, 2)\n",
        "print('Tensor with default type: ', tensor)\n",
        "tensor = torch.zeros(2, 2, dtype=torch.float16)\n",
        "print('Tensor with 16-bit float: ', tensor)\n",
        "tensor = torch.zeros(2, 2, dtype=torch.int16)\n",
        "print('Tensor with integers: ', tensor)\n",
        "tensor = torch.zeros(2, 2, dtype=torch.bool)\n",
        "print('Tensor with boolean data: ', tensor)"
      ],
      "execution_count": null,
      "outputs": [
        {
          "output_type": "stream",
          "text": [
            "Tensor with default type:  tensor([[0., 0.],\n",
            "        [0., 0.]])\n",
            "Tensor with 16-bit float:  tensor([[0., 0.],\n",
            "        [0., 0.]], dtype=torch.float16)\n",
            "Tensor with integers:  tensor([[0, 0],\n",
            "        [0, 0]], dtype=torch.int16)\n",
            "Tensor with boolean data:  tensor([[False, False],\n",
            "        [False, False]])\n"
          ],
          "name": "stdout"
        }
      ]
    },
    {
      "cell_type": "code",
      "metadata": {
        "id": "yRiAmiCJ4nNC",
        "colab": {
          "base_uri": "https://localhost:8080/",
          "height": 118
        },
        "outputId": "be3eb205-623d-4972-a217-0ec765eae238"
      },
      "source": [
        " var_tensor = torch.ones(2,2, dtype=torch.float16 )\n",
        " num = var_tensor.numpy()\n",
        " print(\"Num :\", num)\n",
        " num = num* 0.5\n",
        "\n",
        " print(\"Num :\", num)\n",
        "print(\"org tensor: \",var_tensor )"
      ],
      "execution_count": null,
      "outputs": [
        {
          "output_type": "stream",
          "text": [
            "Num : [[1. 1.]\n",
            " [1. 1.]]\n",
            "Num : [[0.5 0.5]\n",
            " [0.5 0.5]]\n",
            "org tensor:  tensor([[1., 1.],\n",
            "        [1., 1.]], dtype=torch.float16)\n"
          ],
          "name": "stdout"
        }
      ]
    },
    {
      "cell_type": "markdown",
      "metadata": {
        "id": "a9F4Dkdr40TE"
      },
      "source": [
        "\n",
        "\n",
        "---\n",
        "\n",
        "\n",
        "## Question 4:\n",
        "We saw above that some times numpy and tensors share same storage and changing one changes the other. \n",
        "If we define a rank-2-tensor with ones (dtype of f16), and then convert it into a numpy data type using tensor.numpy() and store it in a variable called \"num\", and then we perform this operation `num = num * 0.5`, will the original tensor have 1.0s or 0.5s as its element values? \n",
        "\n",
        "\n",
        "\n",
        "> Ans: *1s*\n",
        "\n",
        "\n"
      ]
    },
    {
      "cell_type": "markdown",
      "metadata": {
        "id": "OiQt8Mmm51OE"
      },
      "source": [
        "\n",
        "\n",
        "---\n",
        "\n",
        "## Question 5: \n",
        "If the operation `num = num*5` is changed to `num[:] = num*5` will the original tensor have 1.0s or 0.5s as its element values? \n",
        "\n",
        "\n",
        "\n",
        "> Ans: 0.5s\n",
        "\n",
        "\n",
        "\n",
        "---\n",
        "\n"
      ]
    },
    {
      "cell_type": "markdown",
      "metadata": {
        "id": "vzh8UB8KiVmb"
      },
      "source": [
        "## Indexing\n",
        "\n",
        "Tensor provides access to its elements via the same `[]` operation as a regular python list or NumPy array. However, as you may recall from NumPy usage, the full power of math libraries is accessible only via vectorized operations, i.e. operations without explicit looping over all vector elements in python and using implicit optimized loops in C/C++/CUDA/Fortran/etc. available via special function calls. Pytorch employs the same paradigm and provides a wide range of vectorized operations. Let's take a look at some examples. \n",
        "\n",
        "Joining a list of tensors together with `torch.cat`"
      ]
    },
    {
      "cell_type": "code",
      "metadata": {
        "id": "GMaCDKPhiUAb",
        "colab": {
          "base_uri": "https://localhost:8080/",
          "height": 118
        },
        "outputId": "ec4ff1c1-7e91-432a-bb62-631e065a07eb"
      },
      "source": [
        "a = torch.zeros(3, 2)\n",
        "b = torch.ones(3, 2)\n",
        "print(torch.cat((a, b), dim=0))"
      ],
      "execution_count": null,
      "outputs": [
        {
          "output_type": "stream",
          "text": [
            "tensor([[0., 0.],\n",
            "        [0., 0.],\n",
            "        [0., 0.],\n",
            "        [1., 1.],\n",
            "        [1., 1.],\n",
            "        [1., 1.]])\n"
          ],
          "name": "stdout"
        }
      ]
    },
    {
      "cell_type": "code",
      "metadata": {
        "id": "T9ifzJ7o-QeA",
        "colab": {
          "base_uri": "https://localhost:8080/",
          "height": 134
        },
        "outputId": "7ef4b239-1c88-4522-ffbb-2af6a4f56d82"
      },
      "source": [
        "print(torch.cat((a, b), dim=1))\n",
        "print(torch.transpose(torch.cat((a, b), dim=1),0,1))\n"
      ],
      "execution_count": null,
      "outputs": [
        {
          "output_type": "stream",
          "text": [
            "tensor([[0., 0., 1., 1.],\n",
            "        [0., 0., 1., 1.],\n",
            "        [0., 0., 1., 1.]])\n",
            "tensor([[0., 0., 0.],\n",
            "        [0., 0., 0.],\n",
            "        [1., 1., 1.],\n",
            "        [1., 1., 1.]])\n"
          ],
          "name": "stdout"
        }
      ]
    },
    {
      "cell_type": "markdown",
      "metadata": {
        "id": "5bj4aeE86zdH"
      },
      "source": [
        "\n",
        "\n",
        "---\n",
        "\n",
        "## Question 6: \n",
        "Is the transpose of concatenated a & b tensor on dimension 1, same as the contatenated tensor of a & b on dimension 0? \n",
        "\n",
        "\n",
        "\n",
        "> Ans: NOOOO\n",
        "\n",
        "\n",
        "\n",
        "---\n",
        "\n"
      ]
    },
    {
      "cell_type": "markdown",
      "metadata": {
        "id": "0TXNne69j7LP"
      },
      "source": [
        "Indexing with another tenxor/array:"
      ]
    },
    {
      "cell_type": "code",
      "metadata": {
        "id": "KiE-Fsi4jVd6",
        "colab": {
          "base_uri": "https://localhost:8080/",
          "height": 101
        },
        "outputId": "95a0f2b0-d019-4372-8490-75cb0c85c48d"
      },
      "source": [
        "a = torch.arange(start=0, end=10)\n",
        "indices = np.arange(0, 10) > 5\n",
        "print(a)\n",
        "print(indices)\n",
        "print(a[indices])\n",
        "\n",
        "indices = torch.arange(start=0, end=10) %5\n",
        "print(indices)\n",
        "print(a[indices])"
      ],
      "execution_count": null,
      "outputs": [
        {
          "output_type": "stream",
          "text": [
            "tensor([0, 1, 2, 3, 4, 5, 6, 7, 8, 9])\n",
            "[False False False False False False  True  True  True  True]\n",
            "tensor([6, 7, 8, 9])\n",
            "tensor([0, 1, 2, 3, 4, 0, 1, 2, 3, 4])\n",
            "tensor([0, 1, 2, 3, 4, 0, 1, 2, 3, 4])\n"
          ],
          "name": "stdout"
        }
      ]
    },
    {
      "cell_type": "code",
      "metadata": {
        "id": "IBjpjm7jBVnI",
        "colab": {
          "base_uri": "https://localhost:8080/",
          "height": 101
        },
        "outputId": "ae5fbeb0-b963-4547-a2f2-a4394216dbd6"
      },
      "source": [
        "a = torch.arange(start=0,end=10)\n",
        "print(\"a :\",a)\n",
        "\n",
        "indices = torch.arange(start=0,end=10) % 3\n",
        "print(\"ind :\",indices, \" last 5 :\", indices[5:10])\n",
        "b = a[indices[5:10]]\n",
        "print(b)\n",
        "\n",
        "indices = torch.arange(start=1,end=11) % 3\n",
        "print(\"ind :\", indices, \" last 5 :\",indices[5:10])\n",
        "b = a[indices[5:10]]\n",
        "print(b)\n"
      ],
      "execution_count": null,
      "outputs": [
        {
          "output_type": "stream",
          "text": [
            "a : tensor([0, 1, 2, 3, 4, 5, 6, 7, 8, 9])\n",
            "ind : tensor([0, 1, 2, 0, 1, 2, 0, 1, 2, 0])  last 5 : tensor([2, 0, 1, 2, 0])\n",
            "tensor([2, 0, 1, 2, 0])\n",
            "ind : tensor([1, 2, 0, 1, 2, 0, 1, 2, 0, 1])  last 5 : tensor([0, 1, 2, 0, 1])\n",
            "tensor([0, 1, 2, 0, 1])\n"
          ],
          "name": "stdout"
        }
      ]
    },
    {
      "cell_type": "markdown",
      "metadata": {
        "id": "LS4dnlu47WQu"
      },
      "source": [
        "\n",
        "\n",
        "---\n",
        "\n",
        "## Question 7:\n",
        "\n",
        "`a` is defined as `torch.arange(start=0, end=10)`. We will create `b` using the two operations as below. In both cases do we get the same value?\n",
        "\n",
        "\n",
        "1.   indices variable created by the modulo operation on arange between 0 and 10. Then a new varialble `b` is created from `a` using the last 5 elements of indices. \n",
        "2.   indices variable created by the modulo operation on arange betwenn 1 and 11. Then a new varialble `b` is created from `a` using the last 5 elements of indices. \n",
        "\n",
        "\n",
        "\n",
        "---\n",
        "\n",
        "\n"
      ]
    },
    {
      "cell_type": "markdown",
      "metadata": {
        "id": "eQ4ZCVsTk-KH"
      },
      "source": [
        "What should we do if we have, say, rank-2-tensor and want to select only some rows?"
      ]
    },
    {
      "cell_type": "code",
      "metadata": {
        "id": "_GtRpotjkt1q",
        "colab": {
          "base_uri": "https://localhost:8080/",
          "height": 386
        },
        "outputId": "241b2bf8-179f-4e52-931b-46359fdbecce"
      },
      "source": [
        "tensor = torch.rand((5, 3,2))\n",
        "rows = torch.tensor([0, 2])\n",
        "print(rows)\n",
        "print(tensor)\n",
        "tensor[[0,2],[0,1]]"
      ],
      "execution_count": null,
      "outputs": [
        {
          "output_type": "stream",
          "text": [
            "tensor([0, 2])\n",
            "tensor([[[0.6467, 0.2781],\n",
            "         [0.5448, 0.6071],\n",
            "         [0.9145, 0.8142]],\n",
            "\n",
            "        [[0.7269, 0.0535],\n",
            "         [0.5320, 0.1679],\n",
            "         [0.1740, 0.6617]],\n",
            "\n",
            "        [[0.9313, 0.4374],\n",
            "         [0.6599, 0.1196],\n",
            "         [0.2074, 0.8279]],\n",
            "\n",
            "        [[0.0488, 0.7581],\n",
            "         [0.4789, 0.9196],\n",
            "         [0.5168, 0.7190]],\n",
            "\n",
            "        [[0.3283, 0.4252],\n",
            "         [0.7776, 0.2808],\n",
            "         [0.2445, 0.7569]]])\n"
          ],
          "name": "stdout"
        },
        {
          "output_type": "execute_result",
          "data": {
            "text/plain": [
              "tensor([[0.6467, 0.2781],\n",
              "        [0.6599, 0.1196]])"
            ]
          },
          "metadata": {
            "tags": []
          },
          "execution_count": 15
        }
      ]
    },
    {
      "cell_type": "code",
      "metadata": {
        "id": "uzCA33bjMPfS",
        "colab": {
          "base_uri": "https://localhost:8080/",
          "height": 353
        },
        "outputId": "bcf2c436-f89c-4df0-ac55-d30da27ec6df"
      },
      "source": [
        "a_tensor = torch.rand((6,5))\n",
        "print(a_tensor.shape)\n",
        "print(a_tensor)\n",
        "new_tensor = a_tensor[[0,2,4]]\n",
        "print(new_tensor)\n",
        "print(new_tensor.shape)\n",
        "a_tensor = torch.transpose(a_tensor,0,1)\n",
        "print(a_tensor)\n",
        "new_tensor = a_tensor[[0,2,4]]\n",
        "print(new_tensor)\n",
        "print(new_tensor.shape)\n"
      ],
      "execution_count": null,
      "outputs": [
        {
          "output_type": "stream",
          "text": [
            "torch.Size([6, 5])\n",
            "tensor([[0.5309, 0.1125, 0.2333, 0.5997, 0.7346],\n",
            "        [0.9434, 0.7739, 0.1498, 0.3292, 0.7317],\n",
            "        [0.9556, 0.3703, 0.5322, 0.0989, 0.5506],\n",
            "        [0.4168, 0.0590, 0.4540, 0.5151, 0.0149],\n",
            "        [0.4180, 0.4096, 0.8811, 0.9141, 0.2640],\n",
            "        [0.9453, 0.6029, 0.4527, 0.3914, 0.7637]])\n",
            "tensor([[0.5309, 0.1125, 0.2333, 0.5997, 0.7346],\n",
            "        [0.9556, 0.3703, 0.5322, 0.0989, 0.5506],\n",
            "        [0.4180, 0.4096, 0.8811, 0.9141, 0.2640]])\n",
            "torch.Size([3, 5])\n",
            "tensor([[0.5309, 0.9434, 0.9556, 0.4168, 0.4180, 0.9453],\n",
            "        [0.1125, 0.7739, 0.3703, 0.0590, 0.4096, 0.6029],\n",
            "        [0.2333, 0.1498, 0.5322, 0.4540, 0.8811, 0.4527],\n",
            "        [0.5997, 0.3292, 0.0989, 0.5151, 0.9141, 0.3914],\n",
            "        [0.7346, 0.7317, 0.5506, 0.0149, 0.2640, 0.7637]])\n",
            "tensor([[0.5309, 0.9434, 0.9556, 0.4168, 0.4180, 0.9453],\n",
            "        [0.2333, 0.1498, 0.5322, 0.4540, 0.8811, 0.4527],\n",
            "        [0.7346, 0.7317, 0.5506, 0.0149, 0.2640, 0.7637]])\n",
            "torch.Size([3, 6])\n"
          ],
          "name": "stdout"
        }
      ]
    },
    {
      "cell_type": "markdown",
      "metadata": {
        "id": "zIJnr_N2_Qaf"
      },
      "source": [
        "\n",
        "\n",
        "---\n",
        "\n",
        "## Question 8: \n",
        "\n",
        "Consider a tensor defined as `torch.rand((6, 5))`. Is the shape of the new tensor created by taking the 0th, 2nd and 4th row of the old tensor same as the shape of the a newer tensor created by taking the 0th, 2nd and 4th row of the old tensor after transposing it by operation `torch.transpose(tensor, 0, 1)` ?\n",
        "\n",
        "\n",
        "\n",
        "\n",
        "> Ans: NOOO\n",
        "\n",
        "\n",
        "---\n",
        "\n",
        "\n"
      ]
    },
    {
      "cell_type": "markdown",
      "metadata": {
        "id": "naDzFMkslU0b"
      },
      "source": [
        "## Tensor Shapes\n",
        "\n",
        "Reshaping a tensor is a frequently used operation. We can change the shape of a tensor without the memory copying overhead. There are two methods for that: `reshape` and `view`. \n",
        "\n",
        "The difference is the following: \n",
        "\n",
        "\n",
        "*   view tries to return a tensor, and it shares the same memory with the original tensor. In case, if it cannot reuse the same memory due to [some reason](https://pytorch.org/docs/stable/tensors.html?highlight=view#torch.Tensor.view), it just fails. \n",
        "*   reshape always returns the tensor with the desired shape and tries to reuse the memory. If it cannot, it creates a copy\n",
        "\n",
        "Let's see with the help of an example:"
      ]
    },
    {
      "cell_type": "code",
      "metadata": {
        "id": "HClDkqLLlMJh",
        "colab": {
          "base_uri": "https://localhost:8080/",
          "height": 168
        },
        "outputId": "143d87bc-f783-4e21-96a4-f6ad33aa9154"
      },
      "source": [
        "tensor = torch.rand(2, 3, 4)\n",
        "print('Pointer to data: ', tensor.data_ptr())\n",
        "print('Shape: ', tensor.shape)\n",
        "\n",
        "reshaped = tensor.reshape(24)\n",
        "\n",
        "view = tensor.view(3, 2, 4)\n",
        "print('Reshaped tensor - pointer to data', reshaped.data_ptr())\n",
        "print('Reshaped tensor shape ', reshaped.shape)\n",
        "\n",
        "print('Viewed tensor - pointer to data', view.data_ptr())\n",
        "print('Viewed tensor shape ', view.shape)\n",
        "\n",
        "assert tensor.data_ptr() == view.data_ptr()\n",
        "\n",
        "assert np.all(np.equal(tensor.numpy().flat, reshaped.numpy().flat))\n",
        "\n",
        "print('Original stride: ', tensor.stride())\n",
        "print('Reshaped stride: ', reshaped.stride())\n",
        "print('Viewed stride: ', view.stride())"
      ],
      "execution_count": null,
      "outputs": [
        {
          "output_type": "stream",
          "text": [
            "Pointer to data:  75292288\n",
            "Shape:  torch.Size([2, 3, 4])\n",
            "Reshaped tensor - pointer to data 75292288\n",
            "Reshaped tensor shape  torch.Size([24])\n",
            "Viewed tensor - pointer to data 75292288\n",
            "Viewed tensor shape  torch.Size([3, 2, 4])\n",
            "Original stride:  (12, 4, 1)\n",
            "Reshaped stride:  (1,)\n",
            "Viewed stride:  (8, 4, 1)\n"
          ],
          "name": "stdout"
        }
      ]
    },
    {
      "cell_type": "markdown",
      "metadata": {
        "id": "jIN5jSppm4yC"
      },
      "source": [
        "The basic rule about reshaping the tensor is definitely that you cannot change the total number of elements in it, so the product of all tensor's dimensions should always be the same. It gives us the ability to avoid specifying one dimension when reshaping the tensor - Pytorch can calculate it for us:"
      ]
    },
    {
      "cell_type": "code",
      "metadata": {
        "id": "e3D19ERFmzOl",
        "colab": {
          "base_uri": "https://localhost:8080/",
          "height": 67
        },
        "outputId": "7d999f2d-8458-47e3-b60b-c4223e3da0f1"
      },
      "source": [
        "print(tensor.reshape(3, 2, 4).shape)\n",
        "print(tensor.reshape(3, 2, -1).shape)\n",
        "print(tensor.reshape(3, -1, 4).shape)"
      ],
      "execution_count": null,
      "outputs": [
        {
          "output_type": "stream",
          "text": [
            "torch.Size([3, 2, 4])\n",
            "torch.Size([3, 2, 4])\n",
            "torch.Size([3, 2, 4])\n"
          ],
          "name": "stdout"
        }
      ]
    },
    {
      "cell_type": "code",
      "metadata": {
        "id": "ws1cxELER97g",
        "colab": {
          "base_uri": "https://localhost:8080/",
          "height": 151
        },
        "outputId": "6f92e263-1e2e-4aa9-8860-ca779f347981"
      },
      "source": [
        "a = torch.tensor([[1,2,3],[1,2,3]])\n",
        "print(a.shape)\n",
        "print(a.reshape(-1,2))\n",
        "a =a.reshape(-1,2)\n",
        "b = torch.tensor([[2,1]])\n",
        "print(b.shape)\n",
        "print(b.view(2,-1))\n",
        "b = b.view(2,-1)\n",
        "\n",
        "print(torch.sum(torch.mm(a,b)))"
      ],
      "execution_count": null,
      "outputs": [
        {
          "output_type": "stream",
          "text": [
            "torch.Size([2, 3])\n",
            "tensor([[1, 2],\n",
            "        [3, 1],\n",
            "        [2, 3]])\n",
            "torch.Size([1, 2])\n",
            "tensor([[2],\n",
            "        [1]])\n",
            "tensor(18)\n"
          ],
          "name": "stdout"
        }
      ]
    },
    {
      "cell_type": "markdown",
      "metadata": {
        "id": "ObgCQKUiETak"
      },
      "source": [
        "\n",
        "\n",
        "---\n",
        "\n",
        "\n",
        "## Question 9:\n",
        "\n",
        "Consider a tensor `a` created with [1, 2, 3] and [1, 2, 3] of size (2, 3) is reshaped with operation `.reshape(-1, 2)`. Also consider a tensor `b` created with [[2, 1]] and of size (1, 2), later operated with `view(2, -1)` operation. \n",
        "\n",
        "If we do a dot product of a and b (using `torch.mm`) and perform the sum of all the elements (using `torch.sum`) what do we get? (enter int value without any decimal point in the quiz)\n",
        "\n",
        "\n",
        "\n",
        "\n",
        "> ans: 18\n",
        "\n",
        "\n",
        "---\n",
        "\n"
      ]
    },
    {
      "cell_type": "markdown",
      "metadata": {
        "id": "mza7QPg3ndeV"
      },
      "source": [
        "**Alternative ways to view tensors** - `expand` or `expand_as`.\n",
        "\n",
        "\n",
        "\n",
        "*   `expand` - requires the desired shape as an input\n",
        "*   `expand_as` - uses the shape of another tensor\n",
        "\n",
        "These operations \"repeat\" tensor's values along the specified axes without actually copying the data. \n",
        "\n",
        "As the documentation says, expand:\n",
        "\n",
        "\n",
        "> returns a new view of the self tensor with singleton dimensions expanded to a larger size. Tensor can be also expanded to a larger number of dimensions, and the new ones will be appended at the front. For the new dimensions, the size cannot be set to -1. \n",
        "\n",
        "**Use case:**\n",
        "\n",
        "\n",
        "\n",
        "*   index multi-channel tensor with single-channel mask - imagine a color image with 3 channels (RGB) and binary mask for the area of interest on that image. We cannot index the image with this kind of mask directly since the dimensions are different, but we can use `expand_as` operation to create a view of the mask that has the same dimensions as the image we want to apply it to, but has not copied the data. "
      ]
    },
    {
      "cell_type": "code",
      "metadata": {
        "id": "iz33E-V7nPQT",
        "colab": {
          "base_uri": "https://localhost:8080/",
          "height": 595
        },
        "outputId": "18c27485-79fa-4164-a9c4-0a7210fc65b5"
      },
      "source": [
        "%matplotlib inline\n",
        "from matplotlib import pyplot as plt\n",
        "\n",
        "# Create a black image\n",
        "image = torch.zeros(size=(3, 256, 256), dtype=torch.int)\n",
        "\n",
        "# Leave the borders and make the rest of the image Green\n",
        "image[1, 18:256 - 18, 18:256 - 18] = 255\n",
        "\n",
        "# Create a mask of the same size\n",
        "mask = torch.zeros(size=(256, 256), dtype=torch.bool)\n",
        "\n",
        "# Assuming the green region in the original image is the Region of interest, change the mask to white for that area\n",
        "mask[18:256 - 18, 18:256 - 18] = 1\n",
        "\n",
        "# Create a view of the mask with the same dimensions as the original image\n",
        "mask_expanded = mask.expand_as(image)\n",
        "print(mask_expanded.shape)\n",
        "\n",
        "mask_np = mask_expanded.numpy().transpose(1, 2, 0) * 255\n",
        "image_np = image.numpy().transpose(1, 2, 0)\n",
        "\n",
        "fig, ax = plt.subplots(1, 2)\n",
        "ax[0].imshow(image_np)\n",
        "ax[1].imshow(mask_np)\n",
        "plt.show()\n",
        "\n",
        "image[0, mask] += 128\n",
        "fig, ax = plt.subplots(1, 2)\n",
        "ax[0].imshow(image_np)\n",
        "ax[1].imshow(mask_np)\n",
        "plt.show()\n",
        "\n",
        "image[mask_expanded] += 128\n",
        "image.clamp_(0, 255)\n",
        "fig, ax = plt.subplots(1, 2)\n",
        "ax[0].imshow(image_np)\n",
        "ax[1].imshow(mask_np)\n",
        "plt.show()"
      ],
      "execution_count": null,
      "outputs": [
        {
          "output_type": "stream",
          "text": [
            "torch.Size([3, 256, 256])\n"
          ],
          "name": "stdout"
        },
        {
          "output_type": "display_data",
          "data": {
            "image/png": "[encoded data removed]",
            "text/plain": [
              "<Figure size 432x288 with 2 Axes>"
            ]
          },
          "metadata": {
            "tags": [],
            "needs_background": "light"
          }
        },
        {
          "output_type": "display_data",
          "data": {
            "image/png": "[encoded data removed]",
            "text/plain": [
              "<Figure size 432x288 with 2 Axes>"
            ]
          },
          "metadata": {
            "tags": [],
            "needs_background": "light"
          }
        },
        {
          "output_type": "display_data",
          "data": {
            "image/png": "[encoded data removed]",
            "text/plain": [
              "<Figure size 432x288 with 2 Axes>"
            ]
          },
          "metadata": {
            "tags": [],
            "needs_background": "light"
          }
        }
      ]
    },
    {
      "cell_type": "markdown",
      "metadata": {
        "id": "jiXBx0k3ptOI"
      },
      "source": [
        "In the example above, one can also find a couple of useful tricks:\n",
        "\n",
        "\n",
        "*   `clamp` method and function is a Pytorch's analogue of NumPy's `clip` function\n",
        "*   many operations on tensors have in-place form, that does not return modified data, but change values in the tensor. The in-place version of the operation has trailing underscore according to Pytorch's naming convension - in the exmaple above it is `clamp_`\n",
        "*   tensors have the same indexing as Numpy's arrays - one can use `:` seperated range, negative indexes and so on.\n",
        "\n",
        "\n",
        ".\n",
        "\n",
        "\n",
        "---\n",
        "\n",
        "# Images and their representations\n",
        "\n",
        "Now, let's discuss images, their representations and how different Python librarties work with them. \n",
        "\n",
        "Probably, the most well-known library for image loading and simple processing is [Pillow](https://pillow.readthedocs.io/en/stable/). \n",
        "\n",
        "However, many people in deep learning area stick with OpenCV for image loading and processing with some usage of another libraries when it is justified by performance/functionality. This is because OpenCV is in general much faster than the other libraries. Here you can find a couple of benchmarks: \n",
        "\n",
        "*   https://www.kaggle.com/zfturbo/benchmark-2019-speed-of-image-reading\n",
        "*   https://github.com/albumentations-team/albumentations#benchmarking-results\n",
        "\n",
        "To sum up the benchmarks above, there are two most common image formats, PNG and JPEGs. If your data is in PNG format - use OpenCV to read it. If it is in JPEG - use libturbojpeg. For image processing, use OpenCV if possible. _We will be using PIL a lot along with these._\n",
        "\n",
        "As you will read the code from others, you may find out that some of them use Pillow/something else to read data. You should know, that color image representations in OpenCV and other libraries are different - OpenCV uses \"BGR\" channel order, while others use \"RGB\" one. \n",
        "\n",
        "To change \"BRG\" <-> \"RGB\" the only thing we need to do it to change channel order."
      ]
    },
    {
      "cell_type": "code",
      "metadata": {
        "id": "s_N8AkImYBEw",
        "colab": {
          "resources": {
            "http://localhost:8080/nbextensions/google.colab/files.js": {
              "data": "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",
              "ok": true,
              "headers": [
                [
                  "content-type",
                  "application/javascript"
                ]
              ],
              "status": 200,
              "status_text": ""
            }
          },
          "base_uri": "https://localhost:8080/",
          "height": 73
        },
        "outputId": "969cf737-aac0-4854-ddd0-29fddc0cfb30"
      },
      "source": [
        "from google.colab import files\n",
        "uploaded = files.upload()"
      ],
      "execution_count": null,
      "outputs": [
        {
          "output_type": "display_data",
          "data": {
            "text/html": [
              "\n",
              "     <input type=\"file\" id=\"files-3f92dead-fcc2-4769-a24b-9f486dfd40f3\" name=\"files[]\" multiple disabled\n",
              "        style=\"border:none\" />\n",
              "     <output id=\"result-3f92dead-fcc2-4769-a24b-9f486dfd40f3\">\n",
              "      Upload widget is only available when the cell has been executed in the\n",
              "      current browser session. Please rerun this cell to enable.\n",
              "      </output>\n",
              "      <script src=\"/nbextensions/google.colab/files.js\"></script> "
            ],
            "text/plain": [
              "<IPython.core.display.HTML object>"
            ]
          },
          "metadata": {
            "tags": []
          }
        },
        {
          "output_type": "stream",
          "text": [
            "Saving images.jpg to images.jpg\n"
          ],
          "name": "stdout"
        }
      ]
    },
    {
      "cell_type": "code",
      "metadata": {
        "id": "ZYv4sZMmpndu",
        "colab": {
          "base_uri": "https://localhost:8080/",
          "height": 152
        },
        "outputId": "3e2dd3e6-0c2c-4d75-a9a9-dd3b1b384675"
      },
      "source": [
        "%matplotlib inline\n",
        "from matplotlib import pyplot as plt\n",
        "import cv2\n",
        "\n",
        "\n",
        "bgr_image = cv2.imread('images.jpg') \n",
        "# remember to add your own image in case you run this block, if you want to use the same image, \n",
        "# download it from: https://encrypted-tbn0.gstatic.com/images?q=tbn%3AANd9GcRCA40ftnscVzfV8ft8e7vIzQXfXeZdtco8nknJrfCUW6INI40U\n",
        "rgb_image = bgr_image[..., ::-1]\n",
        "fig, ax = plt.subplots(1, 2)\n",
        "ax[0].imshow(bgr_image)\n",
        "ax[1].imshow(rgb_image)\n",
        "plt.show()"
      ],
      "execution_count": null,
      "outputs": [
        {
          "output_type": "display_data",
          "data": {
            "image/png": "[encoded data removed]",
            "text/plain": [
              "<Figure size 432x288 with 2 Axes>"
            ]
          },
          "metadata": {
            "tags": [],
            "needs_background": "light"
          }
        }
      ]
    },
    {
      "cell_type": "code",
      "metadata": {
        "id": "-lC74EXGY3ic",
        "colab": {
          "base_uri": "https://localhost:8080/",
          "height": 84
        },
        "outputId": "19cfbe6b-bb44-419e-ee58-802aa99011f1"
      },
      "source": [
        "print(np.sum(rgb_image[:,:,2]))\n",
        "print(np.sum(rgb_image[2,:,:]))\n",
        "\n",
        "print(np.sum(bgr_image[2,:,:]))\n",
        "print(np.sum(bgr_image[:,:,2]))\n",
        "\n",
        "\n"
      ],
      "execution_count": null,
      "outputs": [
        {
          "output_type": "stream",
          "text": [
            "1297391\n",
            "13559\n",
            "13559\n",
            "24516736\n"
          ],
          "name": "stdout"
        }
      ]
    },
    {
      "cell_type": "markdown",
      "metadata": {
        "id": "yoi4TeNBGHle"
      },
      "source": [
        "\n",
        "\n",
        "---\n",
        "\n",
        "## Question 10:\n",
        "\n",
        "Looking at the results above it can be said that the pixel values in the blue channels would be very small compared to red channel. True/False?\n",
        "\n",
        "\n",
        "> False\n",
        "\n",
        "\n",
        "\n",
        "---\n",
        "\n",
        "\n"
      ]
    },
    {
      "cell_type": "markdown",
      "metadata": {
        "id": "b3ugFd57zNwa"
      },
      "source": [
        "# Autograd\n",
        "\n",
        "Pytorch supports automatic differentiation. The module which implements this is called **AutoGrad**. It calculates the gradients and keeps track in forward and backward passes. For primitive tensors, you need to enable or disable it using the `required_grad` flag. But, for advanced tensors, it is enabled by default"
      ]
    },
    {
      "cell_type": "code",
      "metadata": {
        "id": "VMOp4aiou6JR",
        "colab": {
          "base_uri": "https://localhost:8080/",
          "height": 185
        },
        "outputId": "84d1f03e-b8e7-4df2-8189-d213851ee35c"
      },
      "source": [
        "a = torch.rand((3, 5), requires_grad = True)\n",
        "print(a)\n",
        "result = a * 5\n",
        "print(result)\n",
        "\n",
        "# grad can be implicitly created only for scalar outputs\n",
        "# so let's calculate the sum here so that the output becomes a scalar and we can apply a backward pass\n",
        "mean_result = result.sum()\n",
        "print(mean_result)\n",
        "# calculate gradient\n",
        "mean_result.backward()\n",
        "# print gradient of a\n",
        "print(a.grad)"
      ],
      "execution_count": null,
      "outputs": [
        {
          "output_type": "stream",
          "text": [
            "tensor([[0.7942, 0.2246, 0.2959, 0.1837, 0.2720],\n",
            "        [0.2031, 0.4083, 0.6167, 0.0675, 0.6974],\n",
            "        [0.3440, 0.9895, 0.6856, 0.0660, 0.5534]], requires_grad=True)\n",
            "tensor([[3.9711, 1.1230, 1.4794, 0.9186, 1.3602],\n",
            "        [1.0154, 2.0417, 3.0836, 0.3377, 3.4869],\n",
            "        [1.7202, 4.9475, 3.4279, 0.3300, 2.7669]], grad_fn=<MulBackward0>)\n",
            "tensor(32.0100, grad_fn=<SumBackward0>)\n",
            "tensor([[5., 5., 5., 5., 5.],\n",
            "        [5., 5., 5., 5., 5.],\n",
            "        [5., 5., 5., 5., 5.]])\n"
          ],
          "name": "stdout"
        }
      ]
    },
    {
      "cell_type": "markdown",
      "metadata": {
        "id": "ym0Amk2IGfLx"
      },
      "source": [
        "\n",
        "\n",
        "---\n",
        "\n",
        "## Question 11: \n",
        "\n",
        "Why the gradient of a is all 5s above?\n",
        "\n",
        "\n",
        "\n",
        "> Because the input value was multipled by 5\n",
        "\n",
        "\n",
        "\n",
        "---\n",
        "\n"
      ]
    },
    {
      "cell_type": "markdown",
      "metadata": {
        "id": "7PDgGq2R0k7I"
      },
      "source": [
        "As we see, Pytorch automagically calculated the gradient value for us. It looks to be the correct value - we multiplied an input by 5, so the gradient of this operation equals to 5.\n",
        "\n",
        "# Disabling Autograd for tensors\n",
        "\n",
        "We don't need to compute gradients for all the variables that are involved in the pipeline. The Pytorch API provides 2 ways to disable autograd.\n",
        "\n",
        "`detach` - returns a copy of the tensor with autograd disabled. This \n",
        "\n",
        "1.   copy is built on the same memory as the original tensor, so in-place size / stride / storage changes (such as resize_ / resizeas / set / transpose) modifications are not allowed.\n",
        "2.   torch.no_grad() - It is a context manager that allows you to guard a series of operations from autograd without creating new tensors."
      ]
    },
    {
      "cell_type": "code",
      "metadata": {
        "id": "yqVG9fQb0cLW",
        "colab": {
          "base_uri": "https://localhost:8080/",
          "height": 67
        },
        "outputId": "b8536210-ea7e-449b-812f-435eb6e9dc23"
      },
      "source": [
        "a = torch.rand((3, 5), requires_grad=True)\n",
        "detached_a = a.detach()\n",
        "detached_result = detached_a * 5\n",
        "result = a * 10\n",
        "# we cannot do backward pass that is required for autograd using multideminsional output,\n",
        "# so let's calculate the sum here\n",
        "mean_result = result.sum()\n",
        "mean_result.backward()\n",
        "a.grad"
      ],
      "execution_count": null,
      "outputs": [
        {
          "output_type": "execute_result",
          "data": {
            "text/plain": [
              "tensor([[10., 10., 10., 10., 10.],\n",
              "        [10., 10., 10., 10., 10.],\n",
              "        [10., 10., 10., 10., 10.]])"
            ]
          },
          "metadata": {
            "tags": []
          },
          "execution_count": 30
        }
      ]
    },
    {
      "cell_type": "code",
      "metadata": {
        "id": "uqpch2Be02J7",
        "colab": {
          "base_uri": "https://localhost:8080/",
          "height": 67
        },
        "outputId": "d558ee26-46b3-4550-aaa1-102e7daa58e2"
      },
      "source": [
        "a = torch.rand((3, 5), requires_grad=True)\n",
        "with torch.no_grad():\n",
        "    detached_result = a * 5\n",
        "result = a * 10\n",
        "# we cannot do backward pass that is required for autograd using multideminsional output,\n",
        "# so let's calculate the sum here\n",
        "mean_result = result.sum()\n",
        "mean_result.backward()\n",
        "a.grad"
      ],
      "execution_count": null,
      "outputs": [
        {
          "output_type": "execute_result",
          "data": {
            "text/plain": [
              "tensor([[10., 10., 10., 10., 10.],\n",
              "        [10., 10., 10., 10., 10.],\n",
              "        [10., 10., 10., 10., 10.]])"
            ]
          },
          "metadata": {
            "tags": []
          },
          "execution_count": 31
        }
      ]
    },
    {
      "cell_type": "markdown",
      "metadata": {
        "id": "vjh2rYOPJUAZ"
      },
      "source": [
        "# Custom Network\n",
        "\n",
        "A fully-connected ReLU network with one hidden layer and no biases, trained to predict y from x by minimizing squared Euclidean distance.\n",
        "\n",
        "This implementation uses PyTorch tensors to manually compute the forward pass, loss, and backward pass.\n",
        "\n",
        "A PyTorch Tensor is basically the same as a numpy array: it does not know anything about deep learning or computational graphs or gradients, and is just a generic n-dimensional array to be used for arbitrary numeric computation.\n",
        "\n",
        "The biggest difference between a numpy array and a PyTorch Tensor is that a PyTorch Tensor can run on either CPU or GPU. To run operations on the GPU, just cast the Tensor to a cuda datatype."
      ]
    },
    {
      "cell_type": "code",
      "metadata": {
        "id": "0nf5RaB104Vp",
        "colab": {
          "base_uri": "https://localhost:8080/",
          "height": 1000
        },
        "outputId": "4427f96d-2774-4818-e80a-c2ce7df47770"
      },
      "source": [
        "dtype = torch.float\n",
        "device = torch.device(\"cpu\")\n",
        "device = torch.device(\"cuda:0\") # Uncomment this to run on GPU\n",
        "\n",
        "# N is batch size; D_in is input dimension;\n",
        "# H is hidden dimension; D_out is output dimension.\n",
        "N, D_in, H, D_out = 64, 1000, 100, 10\n",
        "\n",
        "# Create random input and output data\n",
        "x = torch.randn(N, D_in, device=device, dtype=dtype)\n",
        "y = torch.randn(N, D_out, device=device, dtype=dtype)\n",
        "\n",
        "# Randomly initialize weights\n",
        "w1 = torch.randn(D_in, H, device=device, dtype=dtype)\n",
        "w2 = torch.randn(H, D_out, device=device, dtype=dtype)\n",
        "\n",
        "learning_rate = 1e-6\n",
        "for t in range(500):\n",
        "    # Forward pass: compute predicted y\n",
        "    h = x.mm(w1)\n",
        "    h_relu = h.clamp(min=0)\n",
        "    y_pred = h_relu.mm(w2)\n",
        "\n",
        "    # Compute and print loss\n",
        "    loss = (y_pred - y).pow(2).sum().item()\n",
        "    print(t, loss)\n",
        "\n",
        "    # Backprop to compute gradients of w1 and w2 with respect to loss\n",
        "    grad_y_pred = 2*(y_pred - y) \n",
        "    #print(y_pred - y)\n",
        "    #print(grad_y_pred)\n",
        "    grad_w2 = h_relu.t().mm(grad_y_pred)\n",
        "    grad_h_relu = grad_y_pred.mm(w2.t())\n",
        "    grad_h = grad_h_relu\n",
        "    grad_h[h < 0] = 0\n",
        "    grad_w1 = x.t().mm(grad_h)\n",
        "\n",
        "    # Update weights using gradient descent\n",
        "    w1 -= learning_rate * grad_w1\n",
        "    w2 -= learning_rate * grad_w2"
      ],
      "execution_count": null,
      "outputs": [
        {
          "output_type": "stream",
          "text": [
            "0 25563674.0\n",
            "1 21083258.0\n",
            "2 19957680.0\n",
            "3 19527166.0\n",
            "4 18297154.0\n",
            "5 15584829.0\n",
            "6 11944088.0\n",
            "7 8271746.0\n",
            "8 5384579.0\n",
            "9 3410008.0\n",
            "10 2190814.5\n",
            "11 1463372.625\n",
            "12 1033053.0\n",
            "13 771186.6875\n",
            "14 604867.125\n",
            "15 493062.90625\n",
            "16 413393.15625\n",
            "17 353494.625\n",
            "18 306389.53125\n",
            "19 268126.3125\n",
            "20 236286.0625\n",
            "21 209391.546875\n",
            "22 186391.4375\n",
            "23 166567.859375\n",
            "24 149297.328125\n",
            "25 134184.84375\n",
            "26 120901.40625\n",
            "27 109168.796875\n",
            "28 98784.4765625\n",
            "29 89573.484375\n",
            "30 81367.03125\n",
            "31 74031.890625\n",
            "32 67466.2265625\n",
            "33 61568.265625\n",
            "34 56261.6796875\n",
            "35 51481.953125\n",
            "36 47169.18359375\n",
            "37 43266.0390625\n",
            "38 39731.4921875\n",
            "39 36525.0546875\n",
            "40 33614.75390625\n",
            "41 30965.54296875\n",
            "42 28550.65625\n",
            "43 26346.173828125\n",
            "44 24330.681640625\n",
            "45 22486.28515625\n",
            "46 20797.435546875\n",
            "47 19249.12109375\n",
            "48 17828.62109375\n",
            "49 16524.4375\n",
            "50 15324.2294921875\n",
            "51 14219.4521484375\n",
            "52 13201.939453125\n",
            "53 12263.962890625\n",
            "54 11399.0595703125\n",
            "55 10600.923828125\n",
            "56 9863.0244140625\n",
            "57 9180.84375\n",
            "58 8549.669921875\n",
            "59 7965.51953125\n",
            "60 7424.67626953125\n",
            "61 6923.51953125\n",
            "62 6458.59375\n",
            "63 6027.2880859375\n",
            "64 5626.9208984375\n",
            "65 5255.19091796875\n",
            "66 4909.908203125\n",
            "67 4588.91015625\n",
            "68 4290.23291015625\n",
            "69 4012.34033203125\n",
            "70 3753.7109375\n",
            "71 3512.885986328125\n",
            "72 3288.494384765625\n",
            "73 3079.429931640625\n",
            "74 2884.40966796875\n",
            "75 2702.498046875\n",
            "76 2532.787109375\n",
            "77 2374.36279296875\n",
            "78 2226.431396484375\n",
            "79 2088.308349609375\n",
            "80 1959.2015380859375\n",
            "81 1838.524658203125\n",
            "82 1725.69189453125\n",
            "83 1620.2152099609375\n",
            "84 1521.503173828125\n",
            "85 1429.1304931640625\n",
            "86 1342.632568359375\n",
            "87 1261.68017578125\n",
            "88 1185.845947265625\n",
            "89 1114.7982177734375\n",
            "90 1048.234619140625\n",
            "91 985.8306274414062\n",
            "92 927.3118896484375\n",
            "93 872.424560546875\n",
            "94 820.9520263671875\n",
            "95 772.6522216796875\n",
            "96 727.336669921875\n",
            "97 684.7944946289062\n",
            "98 644.8516235351562\n",
            "99 607.337646484375\n",
            "100 572.1011962890625\n",
            "101 538.9971313476562\n",
            "102 507.8931884765625\n",
            "103 478.65234375\n",
            "104 451.1656799316406\n",
            "105 425.32855224609375\n",
            "106 401.0313720703125\n",
            "107 378.1753845214844\n",
            "108 356.67669677734375\n",
            "109 336.443603515625\n",
            "110 317.4019470214844\n",
            "111 299.47674560546875\n",
            "112 282.6035461425781\n",
            "113 266.71746826171875\n",
            "114 251.757568359375\n",
            "115 237.6671142578125\n",
            "116 224.39254760742188\n",
            "117 211.88323974609375\n",
            "118 200.09359741210938\n",
            "119 188.98667907714844\n",
            "120 178.5179443359375\n",
            "121 168.64344787597656\n",
            "122 159.33251953125\n",
            "123 150.55276489257812\n",
            "124 142.2737579345703\n",
            "125 134.48765563964844\n",
            "126 127.13835906982422\n",
            "127 120.20307922363281\n",
            "128 113.65684509277344\n",
            "129 107.47819519042969\n",
            "130 101.64450073242188\n",
            "131 96.13494873046875\n",
            "132 90.93296813964844\n",
            "133 86.02152252197266\n",
            "134 81.3807601928711\n",
            "135 76.99723815917969\n",
            "136 72.85763549804688\n",
            "137 68.94512176513672\n",
            "138 65.24818420410156\n",
            "139 61.7529411315918\n",
            "140 58.45075225830078\n",
            "141 55.329280853271484\n",
            "142 52.37871170043945\n",
            "143 49.589332580566406\n",
            "144 46.951698303222656\n",
            "145 44.45796585083008\n",
            "146 42.09767532348633\n",
            "147 39.867828369140625\n",
            "148 37.7574577331543\n",
            "149 35.7617301940918\n",
            "150 33.873565673828125\n",
            "151 32.08725357055664\n",
            "152 30.39695930480957\n",
            "153 28.797988891601562\n",
            "154 27.284778594970703\n",
            "155 25.852001190185547\n",
            "156 24.496797561645508\n",
            "157 23.213808059692383\n",
            "158 21.998859405517578\n",
            "159 20.848819732666016\n",
            "160 19.760189056396484\n",
            "161 18.729942321777344\n",
            "162 17.754886627197266\n",
            "163 16.830703735351562\n",
            "164 15.955873489379883\n",
            "165 15.127376556396484\n",
            "166 14.342402458190918\n",
            "167 13.599123001098633\n",
            "168 12.89494514465332\n",
            "169 12.227794647216797\n",
            "170 11.595586776733398\n",
            "171 10.997100830078125\n",
            "172 10.430002212524414\n",
            "173 9.892330169677734\n",
            "174 9.382891654968262\n",
            "175 8.899551391601562\n",
            "176 8.44209098815918\n",
            "177 8.008452415466309\n",
            "178 7.597411155700684\n",
            "179 7.207880973815918\n",
            "180 6.838087558746338\n",
            "181 6.488106727600098\n",
            "182 6.156253337860107\n",
            "183 5.841336727142334\n",
            "184 5.542986869812012\n",
            "185 5.259953022003174\n",
            "186 4.991582870483398\n",
            "187 4.736908435821533\n",
            "188 4.496037483215332\n",
            "189 4.267066478729248\n",
            "190 4.050203323364258\n",
            "191 3.8442962169647217\n",
            "192 3.648916244506836\n",
            "193 3.463662624359131\n",
            "194 3.2879395484924316\n",
            "195 3.1212472915649414\n",
            "196 2.9631364345550537\n",
            "197 2.813317060470581\n",
            "198 2.6711089611053467\n",
            "199 2.536186695098877\n",
            "200 2.408081293106079\n",
            "201 2.286421060562134\n",
            "202 2.1711888313293457\n",
            "203 2.0618057250976562\n",
            "204 1.9581284523010254\n",
            "205 1.859472632408142\n",
            "206 1.7659738063812256\n",
            "207 1.677196741104126\n",
            "208 1.5928797721862793\n",
            "209 1.5130704641342163\n",
            "210 1.4371291399002075\n",
            "211 1.3649753332138062\n",
            "212 1.2965502738952637\n",
            "213 1.2316257953643799\n",
            "214 1.1698408126831055\n",
            "215 1.1113450527191162\n",
            "216 1.0556361675262451\n",
            "217 1.0030256509780884\n",
            "218 0.9529526233673096\n",
            "219 0.9052859544754028\n",
            "220 0.8602010607719421\n",
            "221 0.8173223733901978\n",
            "222 0.7764661312103271\n",
            "223 0.7377927899360657\n",
            "224 0.7010073661804199\n",
            "225 0.6661555767059326\n",
            "226 0.6330022811889648\n",
            "227 0.6015142798423767\n",
            "228 0.57154381275177\n",
            "229 0.543156623840332\n",
            "230 0.5162309408187866\n",
            "231 0.4906550645828247\n",
            "232 0.4662635624408722\n",
            "233 0.4431268572807312\n",
            "234 0.421169251203537\n",
            "235 0.40030646324157715\n",
            "236 0.38050055503845215\n",
            "237 0.3616645038127899\n",
            "238 0.34381479024887085\n",
            "239 0.3267664909362793\n",
            "240 0.3105941116809845\n",
            "241 0.29527056217193604\n",
            "242 0.2806914448738098\n",
            "243 0.26684629917144775\n",
            "244 0.2536696493625641\n",
            "245 0.24119915068149567\n",
            "246 0.22925327718257904\n",
            "247 0.2179287075996399\n",
            "248 0.2072136402130127\n",
            "249 0.1970108300447464\n",
            "250 0.18734188377857208\n",
            "251 0.17808307707309723\n",
            "252 0.16931572556495667\n",
            "253 0.1609923243522644\n",
            "254 0.15311351418495178\n",
            "255 0.14555101096630096\n",
            "256 0.13842982053756714\n",
            "257 0.13163286447525024\n",
            "258 0.1251821219921112\n",
            "259 0.11904372274875641\n",
            "260 0.11319346725940704\n",
            "261 0.10763722658157349\n",
            "262 0.10238488018512726\n",
            "263 0.09737594425678253\n",
            "264 0.09262384474277496\n",
            "265 0.08807002753019333\n",
            "266 0.0837663933634758\n",
            "267 0.07966146618127823\n",
            "268 0.07577109336853027\n",
            "269 0.07208104431629181\n",
            "270 0.06855113804340363\n",
            "271 0.06519035249948502\n",
            "272 0.0620044469833374\n",
            "273 0.05898887664079666\n",
            "274 0.05613087862730026\n",
            "275 0.053376615047454834\n",
            "276 0.05077696591615677\n",
            "277 0.048309605568647385\n",
            "278 0.045945219695568085\n",
            "279 0.04373611882328987\n",
            "280 0.041601575911045074\n",
            "281 0.039580680429935455\n",
            "282 0.0376606285572052\n",
            "283 0.03582042083144188\n",
            "284 0.03408481180667877\n",
            "285 0.0324312187731266\n",
            "286 0.03086809813976288\n",
            "287 0.029372340068221092\n",
            "288 0.02795466035604477\n",
            "289 0.026605095714330673\n",
            "290 0.02531927451491356\n",
            "291 0.024098141118884087\n",
            "292 0.022944442927837372\n",
            "293 0.02182847261428833\n",
            "294 0.020775215700268745\n",
            "295 0.019784079864621162\n",
            "296 0.018840834498405457\n",
            "297 0.017928043380379677\n",
            "298 0.017077405005693436\n",
            "299 0.016254965215921402\n",
            "300 0.015477554872632027\n",
            "301 0.01473851315677166\n",
            "302 0.014032768085598946\n",
            "303 0.01336713694036007\n",
            "304 0.012727566994726658\n",
            "305 0.012129112146794796\n",
            "306 0.01155584305524826\n",
            "307 0.011003775522112846\n",
            "308 0.010483216494321823\n",
            "309 0.009991828352212906\n",
            "310 0.00952068343758583\n",
            "311 0.009068085812032223\n",
            "312 0.00864527840167284\n",
            "313 0.008242014795541763\n",
            "314 0.007853509858250618\n",
            "315 0.007484281435608864\n",
            "316 0.007134567014873028\n",
            "317 0.006800063885748386\n",
            "318 0.0064934371039271355\n",
            "319 0.0061973631381988525\n",
            "320 0.005914184730499983\n",
            "321 0.005643896758556366\n",
            "322 0.005385270342230797\n",
            "323 0.005139318760484457\n",
            "324 0.0049049220979213715\n",
            "325 0.004684022627770901\n",
            "326 0.004473472014069557\n",
            "327 0.004273015074431896\n",
            "328 0.004082441329956055\n",
            "329 0.00390080688521266\n",
            "330 0.0037284232676029205\n",
            "331 0.0035618157126009464\n",
            "332 0.003405193332582712\n",
            "333 0.003257453441619873\n",
            "334 0.0031159091740846634\n",
            "335 0.002978550037369132\n",
            "336 0.0028534664306789637\n",
            "337 0.0027326075360178947\n",
            "338 0.002615945413708687\n",
            "339 0.0025026281364262104\n",
            "340 0.002398763783276081\n",
            "341 0.00229633878916502\n",
            "342 0.0022020512260496616\n",
            "343 0.002109958790242672\n",
            "344 0.0020245686173439026\n",
            "345 0.001941629801876843\n",
            "346 0.0018606865778565407\n",
            "347 0.001786169596016407\n",
            "348 0.0017135452944785357\n",
            "349 0.001647257013246417\n",
            "350 0.0015822884161025286\n",
            "351 0.0015218588523566723\n",
            "352 0.001462833140976727\n",
            "353 0.0014064217684790492\n",
            "354 0.0013528491836041212\n",
            "355 0.0013000768376514316\n",
            "356 0.001251006149686873\n",
            "357 0.0012048415374010801\n",
            "358 0.001159772975370288\n",
            "359 0.0011172889498993754\n",
            "360 0.0010778207797557116\n",
            "361 0.0010385620407760143\n",
            "362 0.0010003221686929464\n",
            "363 0.0009653010638430715\n",
            "364 0.0009308017324656248\n",
            "365 0.0008981560822576284\n",
            "366 0.0008657339494675398\n",
            "367 0.000836251478176564\n",
            "368 0.0008079155813902617\n",
            "369 0.0007794040720909834\n",
            "370 0.0007528251735493541\n",
            "371 0.0007287510088644922\n",
            "372 0.000703649886418134\n",
            "373 0.0006813255604356527\n",
            "374 0.0006592210847884417\n",
            "375 0.0006385722663253546\n",
            "376 0.0006178119219839573\n",
            "377 0.0005978187546133995\n",
            "378 0.0005784538225270808\n",
            "379 0.0005621900199912488\n",
            "380 0.0005439965752884746\n",
            "381 0.0005274396971799433\n",
            "382 0.0005113635561428964\n",
            "383 0.0004958926001563668\n",
            "384 0.00048111772048287094\n",
            "385 0.0004665193264372647\n",
            "386 0.00045293723815120757\n",
            "387 0.0004391176044009626\n",
            "388 0.0004258689587004483\n",
            "389 0.0004142533871345222\n",
            "390 0.00040108023677021265\n",
            "391 0.0003902243624906987\n",
            "392 0.00037902226904407144\n",
            "393 0.0003681174130178988\n",
            "394 0.00035828218096867204\n",
            "395 0.00034810215584002435\n",
            "396 0.0003386069438420236\n",
            "397 0.00032934441696852446\n",
            "398 0.000320620893035084\n",
            "399 0.00031217531068250537\n",
            "400 0.00030376340146176517\n",
            "401 0.0002957336255349219\n",
            "402 0.00028856872813776135\n",
            "403 0.000280556152574718\n",
            "404 0.0002725826343521476\n",
            "405 0.000265999638941139\n",
            "406 0.0002590991207398474\n",
            "407 0.00025260436814278364\n",
            "408 0.00024678351473994553\n",
            "409 0.0002402251266175881\n",
            "410 0.00023411540314555168\n",
            "411 0.0002276733284816146\n",
            "412 0.00022267026361078024\n",
            "413 0.00021703442325815558\n",
            "414 0.00021179768373258412\n",
            "415 0.00020700729510281235\n",
            "416 0.00020230835070833564\n",
            "417 0.00019712561334017664\n",
            "418 0.00019262694695498794\n",
            "419 0.00018821186677087098\n",
            "420 0.0001841162156779319\n",
            "421 0.0001795816933736205\n",
            "422 0.0001758452272042632\n",
            "423 0.0001716729166219011\n",
            "424 0.00016781731392256916\n",
            "425 0.0001646781893214211\n",
            "426 0.00016050314297899604\n",
            "427 0.00015733562759123743\n",
            "428 0.0001538355863885954\n",
            "429 0.00015038283891044557\n",
            "430 0.00014732177078258246\n",
            "431 0.00014448180445469916\n",
            "432 0.00014166477194521576\n",
            "433 0.00013868897804059088\n",
            "434 0.00013529989519156516\n",
            "435 0.00013258447870612144\n",
            "436 0.0001301501179113984\n",
            "437 0.00012774814967997372\n",
            "438 0.00012477338896133006\n",
            "439 0.00012242895900271833\n",
            "440 0.00012008969497401267\n",
            "441 0.00011756656022043899\n",
            "442 0.00011523652210598812\n",
            "443 0.0001129928496084176\n",
            "444 0.0001108625583583489\n",
            "445 0.00010835945431608707\n",
            "446 0.00010651258344296366\n",
            "447 0.00010470249253557995\n",
            "448 0.00010256691166432574\n",
            "449 0.00010079919593408704\n",
            "450 9.876652620732784e-05\n",
            "451 9.721757669467479e-05\n",
            "452 9.525036148261279e-05\n",
            "453 9.331975888926536e-05\n",
            "454 9.203502850141376e-05\n",
            "455 9.031210356624797e-05\n",
            "456 8.868430450093001e-05\n",
            "457 8.747204265091568e-05\n",
            "458 8.583816088503227e-05\n",
            "459 8.427901775576174e-05\n",
            "460 8.28827905934304e-05\n",
            "461 8.164298196788877e-05\n",
            "462 8.037094085011631e-05\n",
            "463 7.899028423707932e-05\n",
            "464 7.747495692456141e-05\n",
            "465 7.667554018553346e-05\n",
            "466 7.530374568887055e-05\n",
            "467 7.40077521186322e-05\n",
            "468 7.269847992574796e-05\n",
            "469 7.1491434937343e-05\n",
            "470 7.047891267575324e-05\n",
            "471 6.956065772101283e-05\n",
            "472 6.854197272332385e-05\n",
            "473 6.713684706483036e-05\n",
            "474 6.592377030756325e-05\n",
            "475 6.504826160380617e-05\n",
            "476 6.39624340692535e-05\n",
            "477 6.29308633506298e-05\n",
            "478 6.21220315224491e-05\n",
            "479 6.143323116702959e-05\n",
            "480 6.046190173947252e-05\n",
            "481 5.949280603090301e-05\n",
            "482 5.861643876414746e-05\n",
            "483 5.7944162108469754e-05\n",
            "484 5.6933247833512723e-05\n",
            "485 5.6180564570240676e-05\n",
            "486 5.540152415051125e-05\n",
            "487 5.474284989759326e-05\n",
            "488 5.3715026297140867e-05\n",
            "489 5.294334187055938e-05\n",
            "490 5.20897374371998e-05\n",
            "491 5.128722114022821e-05\n",
            "492 5.057288581156172e-05\n",
            "493 4.99327143188566e-05\n",
            "494 4.920253559248522e-05\n",
            "495 4.8522262659389526e-05\n",
            "496 4.765377161675133e-05\n",
            "497 4.708932829089463e-05\n",
            "498 4.650164191843942e-05\n",
            "499 4.5978267735335976e-05\n"
          ],
          "name": "stdout"
        }
      ]
    },
    {
      "cell_type": "code",
      "metadata": {
        "id": "xJKarNz1miFG",
        "colab": {
          "base_uri": "https://localhost:8080/",
          "height": 34
        },
        "outputId": "cb576d9c-2868-480d-c490-d071f19ca91d"
      },
      "source": [
        "N, D_in, H, D_out = 64, 1000, 100, 10\n",
        "\n",
        "# Create random input and output data\n",
        "x = torch.randn(N, D_in, device=device, dtype=dtype)\n",
        "y = torch.randn(N, D_out, device=device, dtype=dtype)\n",
        "\n",
        "w1 = torch.randn(D_in, H, device=device, dtype=dtype)\n",
        "w2 = torch.randn(H, D_out, device=device, dtype=dtype)\n",
        "\n",
        "print(x.shape, y.shape, w1.shape, w2.shape)\n"
      ],
      "execution_count": null,
      "outputs": [
        {
          "output_type": "stream",
          "text": [
            "torch.Size([64, 1000]) torch.Size([64, 10]) torch.Size([1000, 100]) torch.Size([100, 10])\n"
          ],
          "name": "stdout"
        }
      ]
    },
    {
      "cell_type": "markdown",
      "metadata": {
        "id": "ycwxAPHZLNST"
      },
      "source": [
        "\n",
        "\n",
        "---\n",
        "## Question 12\n",
        "\n",
        "In the code above, why do we have 2 in '2.0*(y_pred - y)`?\n",
        "\n",
        "\n",
        "> Because multiplying with 2 gives us the partial derivate of the loss, here our we are calculating squared error as our loss at each records. Partial derivate of x**2 is given by 2x \n",
        "\n",
        "\n",
        "## Question 13\n",
        "In the code above, what does `grad_h[h < 0] = 0` signify?\n",
        "\n",
        "\n",
        "> It makes all the gradients 0 for the points where values in hidden layer in negative, this make sure their weights remains same \n",
        "\n",
        "\n",
        "\n",
        "## Question 14\n",
        "In the code above, how many \"epochs\" have we trained the model for? \n",
        "\n",
        "\n",
        "\n",
        "> 500\n",
        "\n",
        "\n",
        "\n",
        "## Question 15\n",
        "In the code above, if we take the trained model, and run it on fresh  inputs, the trained model will be able to predict fresh output with high accuracy. \n",
        "\n",
        "\n",
        "\n",
        "> No the accuracy will be low on fresh inputs as the model is overfitted\n",
        "\n",
        "\n",
        "\n",
        "## Question 16\n",
        "In the code above, if we dont use clone in `grad_h = grad_h_relu.clone()` the model will still train without any issues. \n",
        "\n",
        "\n",
        "\n",
        "> The model will still train without any issues , but there will significant difference between the final loss of the model\n",
        "\n"
      ]
    },
    {
      "cell_type": "code",
      "metadata": {
        "id": "PnJ49I07JJI6"
      },
      "source": [
        ""
      ],
      "execution_count": null,
      "outputs": []
    }
  ]
}